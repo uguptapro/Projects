{
 "cells": [
  {
   "cell_type": "code",
   "execution_count": 44,
   "metadata": {},
   "outputs": [],
   "source": [
    "import os\n",
    "from typing import *\n",
    "from pandas import DataFrame, Series, read_csv, concat, merge, get_dummies\n",
    "from sklearn.preprocessing import OneHotEncoder, StandardScaler\n",
    "from sklearn.decomposition import PCA, TruncatedSVD\n",
    "from sklearn.model_selection import StratifiedKFold, GridSearchCV, train_test_split\n",
    "from sklearn.linear_model import LogisticRegression\n",
    "from sklearn.metrics import confusion_matrix, accuracy_score\n",
    "from numpy import ndarray\n",
    "import numpy as np\n",
    "import sys\n",
    "\n",
    "%matplotlib inline\n",
    "import matplotlib.pyplot as plt\n",
    "\n",
    "import seaborn as sns; sns.set()\n",
    "\n",
    "\n",
    "## Global variables\n",
    "## To be removed in OOP implementation\n",
    "LABELS = {\n",
    "    '0-23_M' : 0,\n",
    "    '0-23_F' : 1,\n",
    "    '24-38_M': 2,\n",
    "    '24-38_F': 3,\n",
    "    '39-53_M': 4,\n",
    "    '39-53_F': 5,\n",
    "    '54-64_M': 6,  \n",
    "    '54-64_F': 7\n",
    "}\n",
    "CROSS_VAL_FOLDS = 5\n",
    "#FILEPATH_ASINHA = \"D:\\\\Personal\\\\NEC Corporations Japan AICS Project\\\\2019-20 Work\\\\NEC Edge Project\\\\git@edge\\\\analytics-learning-platform\\\\Engineering\\\\ai_alp_project\\\\FullData10kRows.csv\"\n",
    "FILEPATH_ANKIT = \"AI10kRows.csv\""
   ]
  },
  {
   "cell_type": "markdown",
   "metadata": {},
   "source": [
    "## 1. Data Preparation"
   ]
  },
  {
   "cell_type": "markdown",
   "metadata": {},
   "source": [
    "### 1.1 Importing from file path"
   ]
  },
  {
   "cell_type": "code",
   "execution_count": 45,
   "metadata": {},
   "outputs": [
    {
     "name": "stdout",
     "output_type": "stream",
     "text": [
      "Data imported with Rows = 10000, Columns = 15\n"
     ]
    }
   ],
   "source": [
    "data = read_csv(FILEPATH_ANKIT)\n",
    "print(\"Data imported with Rows = {}, Columns = {}\".format(data.shape[0], data.shape[1]))"
   ]
  },
  {
   "cell_type": "markdown",
   "metadata": {},
   "source": [
    "**Selecting only relevant columns**\n",
    "1. product_category\n",
    "2. brand\n",
    "3. age\n",
    "4. gender"
   ]
  },
  {
   "cell_type": "code",
   "execution_count": 46,
   "metadata": {},
   "outputs": [
    {
     "data": {
      "text/html": [
       "<div>\n",
       "<style scoped>\n",
       "    .dataframe tbody tr th:only-of-type {\n",
       "        vertical-align: middle;\n",
       "    }\n",
       "\n",
       "    .dataframe tbody tr th {\n",
       "        vertical-align: top;\n",
       "    }\n",
       "\n",
       "    .dataframe thead th {\n",
       "        text-align: right;\n",
       "    }\n",
       "</style>\n",
       "<table border=\"1\" class=\"dataframe\">\n",
       "  <thead>\n",
       "    <tr style=\"text-align: right;\">\n",
       "      <th></th>\n",
       "      <th>Unnamed: 0</th>\n",
       "      <th>consumer_id</th>\n",
       "      <th>age</th>\n",
       "      <th>gender</th>\n",
       "      <th>interest</th>\n",
       "      <th>product_record_id</th>\n",
       "      <th>product_name</th>\n",
       "      <th>brand</th>\n",
       "      <th>product_category</th>\n",
       "      <th>feature_type</th>\n",
       "      <th>level_1</th>\n",
       "      <th>level_2</th>\n",
       "      <th>level_3</th>\n",
       "      <th>rating_scale</th>\n",
       "      <th>rating_score</th>\n",
       "    </tr>\n",
       "  </thead>\n",
       "  <tbody>\n",
       "    <tr>\n",
       "      <th>0</th>\n",
       "      <td>0</td>\n",
       "      <td>0#zuQEGGm4pcV6YV77EYdSyw</td>\n",
       "      <td>54-64</td>\n",
       "      <td>F</td>\n",
       "      <td>{\"Lifestyle::Fashion and Beauty\": 0.0674021810...</td>\n",
       "      <td>EiR6HtpXL6ufJDeU6B/Ufw</td>\n",
       "      <td>Jubilee Embroidered Mesh Peasant Top</td>\n",
       "      <td>Free People</td>\n",
       "      <td>Womens::Tops::Assorted</td>\n",
       "      <td>attribute</td>\n",
       "      <td>Design Details</td>\n",
       "      <td>Closure</td>\n",
       "      <td>Placket Closure Category</td>\n",
       "      <td>5</td>\n",
       "      <td>3</td>\n",
       "    </tr>\n",
       "  </tbody>\n",
       "</table>\n",
       "</div>"
      ],
      "text/plain": [
       "   Unnamed: 0               consumer_id    age gender  \\\n",
       "0           0  0#zuQEGGm4pcV6YV77EYdSyw  54-64      F   \n",
       "\n",
       "                                            interest       product_record_id  \\\n",
       "0  {\"Lifestyle::Fashion and Beauty\": 0.0674021810...  EiR6HtpXL6ufJDeU6B/Ufw   \n",
       "\n",
       "                           product_name        brand        product_category  \\\n",
       "0  Jubilee Embroidered Mesh Peasant Top  Free People  Womens::Tops::Assorted   \n",
       "\n",
       "  feature_type         level_1  level_2                   level_3  \\\n",
       "0    attribute  Design Details  Closure  Placket Closure Category   \n",
       "\n",
       "   rating_scale  rating_score  \n",
       "0             5             3  "
      ]
     },
     "execution_count": 46,
     "metadata": {},
     "output_type": "execute_result"
    }
   ],
   "source": [
    "data.head(1)"
   ]
  },
  {
   "cell_type": "code",
   "execution_count": 47,
   "metadata": {},
   "outputs": [],
   "source": [
    "data = data[[\"age\",\"gender\",\"product_category\",\"brand\"]]"
   ]
  },
  {
   "cell_type": "code",
   "execution_count": 48,
   "metadata": {},
   "outputs": [
    {
     "data": {
      "text/html": [
       "<div>\n",
       "<style scoped>\n",
       "    .dataframe tbody tr th:only-of-type {\n",
       "        vertical-align: middle;\n",
       "    }\n",
       "\n",
       "    .dataframe tbody tr th {\n",
       "        vertical-align: top;\n",
       "    }\n",
       "\n",
       "    .dataframe thead th {\n",
       "        text-align: right;\n",
       "    }\n",
       "</style>\n",
       "<table border=\"1\" class=\"dataframe\">\n",
       "  <thead>\n",
       "    <tr style=\"text-align: right;\">\n",
       "      <th></th>\n",
       "      <th>age</th>\n",
       "      <th>gender</th>\n",
       "      <th>product_category</th>\n",
       "      <th>brand</th>\n",
       "    </tr>\n",
       "  </thead>\n",
       "  <tbody>\n",
       "    <tr>\n",
       "      <th>0</th>\n",
       "      <td>54-64</td>\n",
       "      <td>F</td>\n",
       "      <td>Womens::Tops::Assorted</td>\n",
       "      <td>Free People</td>\n",
       "    </tr>\n",
       "    <tr>\n",
       "      <th>1</th>\n",
       "      <td>54-64</td>\n",
       "      <td>F</td>\n",
       "      <td>Womens::Tops::Assorted</td>\n",
       "      <td>Podlily</td>\n",
       "    </tr>\n",
       "    <tr>\n",
       "      <th>2</th>\n",
       "      <td>54-64</td>\n",
       "      <td>M</td>\n",
       "      <td>Men::Bottoms::Shorts</td>\n",
       "      <td>Quality Durables Co.</td>\n",
       "    </tr>\n",
       "    <tr>\n",
       "      <th>3</th>\n",
       "      <td>24-38</td>\n",
       "      <td>F</td>\n",
       "      <td>Womens::Dresses::Assorted</td>\n",
       "      <td>Angelady</td>\n",
       "    </tr>\n",
       "    <tr>\n",
       "      <th>4</th>\n",
       "      <td>39-53</td>\n",
       "      <td>F</td>\n",
       "      <td>Womens::Dresses::Assorted</td>\n",
       "      <td>Laksmi</td>\n",
       "    </tr>\n",
       "  </tbody>\n",
       "</table>\n",
       "</div>"
      ],
      "text/plain": [
       "     age gender           product_category                 brand\n",
       "0  54-64      F     Womens::Tops::Assorted           Free People\n",
       "1  54-64      F     Womens::Tops::Assorted               Podlily\n",
       "2  54-64      M       Men::Bottoms::Shorts  Quality Durables Co.\n",
       "3  24-38      F  Womens::Dresses::Assorted              Angelady\n",
       "4  39-53      F  Womens::Dresses::Assorted                Laksmi"
      ]
     },
     "execution_count": 48,
     "metadata": {},
     "output_type": "execute_result"
    }
   ],
   "source": [
    "data.head()"
   ]
  },
  {
   "cell_type": "markdown",
   "metadata": {},
   "source": [
    "Finding the unique length of product categories"
   ]
  },
  {
   "cell_type": "code",
   "execution_count": 49,
   "metadata": {},
   "outputs": [
    {
     "data": {
      "text/plain": [
       "array([3, 4, 2], dtype=int64)"
      ]
     },
     "execution_count": 49,
     "metadata": {},
     "output_type": "execute_result"
    }
   ],
   "source": [
    "data.product_category.apply(lambda x : len(x.split(\"::\"))).unique()"
   ]
  },
  {
   "cell_type": "code",
   "execution_count": 50,
   "metadata": {},
   "outputs": [
    {
     "data": {
      "text/html": [
       "<div>\n",
       "<style scoped>\n",
       "    .dataframe tbody tr th:only-of-type {\n",
       "        vertical-align: middle;\n",
       "    }\n",
       "\n",
       "    .dataframe tbody tr th {\n",
       "        vertical-align: top;\n",
       "    }\n",
       "\n",
       "    .dataframe thead th {\n",
       "        text-align: right;\n",
       "    }\n",
       "</style>\n",
       "<table border=\"1\" class=\"dataframe\">\n",
       "  <thead>\n",
       "    <tr style=\"text-align: right;\">\n",
       "      <th></th>\n",
       "      <th>age</th>\n",
       "      <th>gender</th>\n",
       "      <th>product_category</th>\n",
       "      <th>brand</th>\n",
       "    </tr>\n",
       "  </thead>\n",
       "  <tbody>\n",
       "    <tr>\n",
       "      <th>0</th>\n",
       "      <td>54-64</td>\n",
       "      <td>F</td>\n",
       "      <td>Womens::Tops::Assorted</td>\n",
       "      <td>Free People</td>\n",
       "    </tr>\n",
       "    <tr>\n",
       "      <th>1</th>\n",
       "      <td>54-64</td>\n",
       "      <td>F</td>\n",
       "      <td>Womens::Tops::Assorted</td>\n",
       "      <td>Podlily</td>\n",
       "    </tr>\n",
       "    <tr>\n",
       "      <th>2</th>\n",
       "      <td>54-64</td>\n",
       "      <td>M</td>\n",
       "      <td>Men::Bottoms::Shorts</td>\n",
       "      <td>Quality Durables Co.</td>\n",
       "    </tr>\n",
       "    <tr>\n",
       "      <th>3</th>\n",
       "      <td>24-38</td>\n",
       "      <td>F</td>\n",
       "      <td>Womens::Dresses::Assorted</td>\n",
       "      <td>Angelady</td>\n",
       "    </tr>\n",
       "    <tr>\n",
       "      <th>4</th>\n",
       "      <td>39-53</td>\n",
       "      <td>F</td>\n",
       "      <td>Womens::Dresses::Assorted</td>\n",
       "      <td>Laksmi</td>\n",
       "    </tr>\n",
       "    <tr>\n",
       "      <th>5</th>\n",
       "      <td>39-53</td>\n",
       "      <td>F</td>\n",
       "      <td>Womens::Outerwear::Assorted</td>\n",
       "      <td>Misakia</td>\n",
       "    </tr>\n",
       "    <tr>\n",
       "      <th>6</th>\n",
       "      <td>39-53</td>\n",
       "      <td>F</td>\n",
       "      <td>Womens::Tops::Assorted</td>\n",
       "      <td>Soteer</td>\n",
       "    </tr>\n",
       "    <tr>\n",
       "      <th>7</th>\n",
       "      <td>39-53</td>\n",
       "      <td>F</td>\n",
       "      <td>Womens::Sweaters::Assorted</td>\n",
       "      <td>onlypuff</td>\n",
       "    </tr>\n",
       "    <tr>\n",
       "      <th>8</th>\n",
       "      <td>0-23</td>\n",
       "      <td>F</td>\n",
       "      <td>Womens::Tops::Activewear</td>\n",
       "      <td>Life is Good</td>\n",
       "    </tr>\n",
       "    <tr>\n",
       "      <th>9</th>\n",
       "      <td>54-64</td>\n",
       "      <td>F</td>\n",
       "      <td>Womens::Dresses::Assorted</td>\n",
       "      <td>Romwe</td>\n",
       "    </tr>\n",
       "    <tr>\n",
       "      <th>10</th>\n",
       "      <td>39-53</td>\n",
       "      <td>F</td>\n",
       "      <td>Womens::Dresses::Assorted</td>\n",
       "      <td>MUXXN</td>\n",
       "    </tr>\n",
       "    <tr>\n",
       "      <th>11</th>\n",
       "      <td>39-53</td>\n",
       "      <td>F</td>\n",
       "      <td>Womens::Outerwear::Assorted</td>\n",
       "      <td>Eddie Bauer</td>\n",
       "    </tr>\n",
       "    <tr>\n",
       "      <th>12</th>\n",
       "      <td>24-38</td>\n",
       "      <td>F</td>\n",
       "      <td>Womens::Pants::Assorted</td>\n",
       "      <td>90 Degree By Reflex</td>\n",
       "    </tr>\n",
       "    <tr>\n",
       "      <th>13</th>\n",
       "      <td>39-53</td>\n",
       "      <td>F</td>\n",
       "      <td>Womens::Tops::Assorted</td>\n",
       "      <td>Beautife</td>\n",
       "    </tr>\n",
       "    <tr>\n",
       "      <th>14</th>\n",
       "      <td>39-53</td>\n",
       "      <td>M</td>\n",
       "      <td>Men::Bottoms::Jeans</td>\n",
       "      <td>Southpole</td>\n",
       "    </tr>\n",
       "    <tr>\n",
       "      <th>15</th>\n",
       "      <td>39-53</td>\n",
       "      <td>F</td>\n",
       "      <td>Womens::Pants::Assorted</td>\n",
       "      <td>Mint Lilac</td>\n",
       "    </tr>\n",
       "    <tr>\n",
       "      <th>16</th>\n",
       "      <td>54-64</td>\n",
       "      <td>F</td>\n",
       "      <td>Womens::Tops::Assorted</td>\n",
       "      <td>Re</td>\n",
       "    </tr>\n",
       "    <tr>\n",
       "      <th>17</th>\n",
       "      <td>54-64</td>\n",
       "      <td>F</td>\n",
       "      <td>Womens::Pants::Plus Sizes</td>\n",
       "      <td>Rekucci</td>\n",
       "    </tr>\n",
       "    <tr>\n",
       "      <th>18</th>\n",
       "      <td>39-53</td>\n",
       "      <td>F</td>\n",
       "      <td>Womens::Pants::Petites</td>\n",
       "      <td>Karen Scott</td>\n",
       "    </tr>\n",
       "    <tr>\n",
       "      <th>19</th>\n",
       "      <td>54-64</td>\n",
       "      <td>F</td>\n",
       "      <td>Womens::Sweaters::Hoodies</td>\n",
       "      <td>Timeson</td>\n",
       "    </tr>\n",
       "    <tr>\n",
       "      <th>20</th>\n",
       "      <td>24-38</td>\n",
       "      <td>F</td>\n",
       "      <td>Womens::Dresses::Assorted</td>\n",
       "      <td>Vemper</td>\n",
       "    </tr>\n",
       "    <tr>\n",
       "      <th>21</th>\n",
       "      <td>39-53</td>\n",
       "      <td>F</td>\n",
       "      <td>Womens::Dresses::Assorted</td>\n",
       "      <td>OYISHA</td>\n",
       "    </tr>\n",
       "    <tr>\n",
       "      <th>22</th>\n",
       "      <td>39-53</td>\n",
       "      <td>F</td>\n",
       "      <td>Womens::Outerwear::coats &amp; jackets</td>\n",
       "      <td>Lauren Ralph Lauren</td>\n",
       "    </tr>\n",
       "    <tr>\n",
       "      <th>23</th>\n",
       "      <td>54-64</td>\n",
       "      <td>F</td>\n",
       "      <td>Womens::Dresses::Assorted</td>\n",
       "      <td>Dresstore</td>\n",
       "    </tr>\n",
       "    <tr>\n",
       "      <th>24</th>\n",
       "      <td>39-53</td>\n",
       "      <td>F</td>\n",
       "      <td>Womens::Sweaters::sweatshirts</td>\n",
       "      <td>ELESOL</td>\n",
       "    </tr>\n",
       "    <tr>\n",
       "      <th>25</th>\n",
       "      <td>39-53</td>\n",
       "      <td>F</td>\n",
       "      <td>Womens::Dresses::Assorted</td>\n",
       "      <td>Angashion</td>\n",
       "    </tr>\n",
       "    <tr>\n",
       "      <th>26</th>\n",
       "      <td>24-38</td>\n",
       "      <td>F</td>\n",
       "      <td>Womens::Tops::Shirts &amp; Blouses</td>\n",
       "      <td>Pietro Brunelli</td>\n",
       "    </tr>\n",
       "    <tr>\n",
       "      <th>27</th>\n",
       "      <td>39-53</td>\n",
       "      <td>F</td>\n",
       "      <td>Womens::Dresses::Assorted</td>\n",
       "      <td>Tom's Ware</td>\n",
       "    </tr>\n",
       "    <tr>\n",
       "      <th>28</th>\n",
       "      <td>54-64</td>\n",
       "      <td>F</td>\n",
       "      <td>Womens::Dresses::Assorted</td>\n",
       "      <td>Ceaiqu</td>\n",
       "    </tr>\n",
       "    <tr>\n",
       "      <th>29</th>\n",
       "      <td>24-38</td>\n",
       "      <td>F</td>\n",
       "      <td>Womens::Tops::Assorted</td>\n",
       "      <td>Pxmoda</td>\n",
       "    </tr>\n",
       "    <tr>\n",
       "      <th>...</th>\n",
       "      <td>...</td>\n",
       "      <td>...</td>\n",
       "      <td>...</td>\n",
       "      <td>...</td>\n",
       "    </tr>\n",
       "    <tr>\n",
       "      <th>9970</th>\n",
       "      <td>39-53</td>\n",
       "      <td>F</td>\n",
       "      <td>Womens::Dresses::Assorted</td>\n",
       "      <td>Foxred</td>\n",
       "    </tr>\n",
       "    <tr>\n",
       "      <th>9971</th>\n",
       "      <td>24-38</td>\n",
       "      <td>F</td>\n",
       "      <td>Womens::Sweaters::Hoodies</td>\n",
       "      <td>NUTEXROL</td>\n",
       "    </tr>\n",
       "    <tr>\n",
       "      <th>9972</th>\n",
       "      <td>54-64</td>\n",
       "      <td>F</td>\n",
       "      <td>Womens::Tops::Assorted</td>\n",
       "      <td>The Thompson Tee</td>\n",
       "    </tr>\n",
       "    <tr>\n",
       "      <th>9973</th>\n",
       "      <td>54-64</td>\n",
       "      <td>F</td>\n",
       "      <td>Womens::Sweaters::Assorted</td>\n",
       "      <td>Inorin</td>\n",
       "    </tr>\n",
       "    <tr>\n",
       "      <th>9974</th>\n",
       "      <td>0-23</td>\n",
       "      <td>F</td>\n",
       "      <td>Womens::Tops::Activewear</td>\n",
       "      <td>Fruit of the Loom</td>\n",
       "    </tr>\n",
       "    <tr>\n",
       "      <th>9975</th>\n",
       "      <td>54-64</td>\n",
       "      <td>F</td>\n",
       "      <td>Womens::Sweaters::Hoodies</td>\n",
       "      <td>Hgvoetty</td>\n",
       "    </tr>\n",
       "    <tr>\n",
       "      <th>9976</th>\n",
       "      <td>39-53</td>\n",
       "      <td>F</td>\n",
       "      <td>Womens::Dresses::Assorted</td>\n",
       "      <td>Dearlovers</td>\n",
       "    </tr>\n",
       "    <tr>\n",
       "      <th>9977</th>\n",
       "      <td>54-64</td>\n",
       "      <td>F</td>\n",
       "      <td>Womens::Skirts::Wear to Work</td>\n",
       "      <td>Hybrid</td>\n",
       "    </tr>\n",
       "    <tr>\n",
       "      <th>9978</th>\n",
       "      <td>39-53</td>\n",
       "      <td>F</td>\n",
       "      <td>Womens::Dresses::Assorted</td>\n",
       "      <td>Milumia</td>\n",
       "    </tr>\n",
       "    <tr>\n",
       "      <th>9979</th>\n",
       "      <td>39-53</td>\n",
       "      <td>F</td>\n",
       "      <td>Womens::Dresses::Assorted</td>\n",
       "      <td>Yangprom</td>\n",
       "    </tr>\n",
       "    <tr>\n",
       "      <th>9980</th>\n",
       "      <td>54-64</td>\n",
       "      <td>F</td>\n",
       "      <td>Womens::Dresses::Assorted</td>\n",
       "      <td>kayamiya</td>\n",
       "    </tr>\n",
       "    <tr>\n",
       "      <th>9981</th>\n",
       "      <td>54-64</td>\n",
       "      <td>F</td>\n",
       "      <td>Womens::Dresses::Assorted</td>\n",
       "      <td>Honwenle</td>\n",
       "    </tr>\n",
       "    <tr>\n",
       "      <th>9982</th>\n",
       "      <td>39-53</td>\n",
       "      <td>F</td>\n",
       "      <td>Womens::Outerwear::Assorted</td>\n",
       "      <td>iLoveSIA</td>\n",
       "    </tr>\n",
       "    <tr>\n",
       "      <th>9983</th>\n",
       "      <td>39-53</td>\n",
       "      <td>F</td>\n",
       "      <td>Womens::Outerwear::Blazers</td>\n",
       "      <td>Grace Karin</td>\n",
       "    </tr>\n",
       "    <tr>\n",
       "      <th>9984</th>\n",
       "      <td>54-64</td>\n",
       "      <td>F</td>\n",
       "      <td>Womens::Dresses::Plus Sizes</td>\n",
       "      <td>Meenew</td>\n",
       "    </tr>\n",
       "    <tr>\n",
       "      <th>9985</th>\n",
       "      <td>39-53</td>\n",
       "      <td>F</td>\n",
       "      <td>Womens::Tops::Assorted</td>\n",
       "      <td>Lyxinpf</td>\n",
       "    </tr>\n",
       "    <tr>\n",
       "      <th>9986</th>\n",
       "      <td>39-53</td>\n",
       "      <td>F</td>\n",
       "      <td>Womens::Pants::Leggings</td>\n",
       "      <td>Zella</td>\n",
       "    </tr>\n",
       "    <tr>\n",
       "      <th>9987</th>\n",
       "      <td>24-38</td>\n",
       "      <td>F</td>\n",
       "      <td>Womens::Tops::Assorted</td>\n",
       "      <td>Alternative</td>\n",
       "    </tr>\n",
       "    <tr>\n",
       "      <th>9988</th>\n",
       "      <td>54-64</td>\n",
       "      <td>F</td>\n",
       "      <td>Womens::Pants::Capris</td>\n",
       "      <td>Gloria Vanderbilt</td>\n",
       "    </tr>\n",
       "    <tr>\n",
       "      <th>9989</th>\n",
       "      <td>39-53</td>\n",
       "      <td>F</td>\n",
       "      <td>Womens::Dresses::Assorted</td>\n",
       "      <td>Yingkis</td>\n",
       "    </tr>\n",
       "    <tr>\n",
       "      <th>9990</th>\n",
       "      <td>54-64</td>\n",
       "      <td>F</td>\n",
       "      <td>Womens::Tops::Petites</td>\n",
       "      <td>JM Collection</td>\n",
       "    </tr>\n",
       "    <tr>\n",
       "      <th>9991</th>\n",
       "      <td>54-64</td>\n",
       "      <td>F</td>\n",
       "      <td>Womens::Dresses::Assorted</td>\n",
       "      <td>Adelyn Rae</td>\n",
       "    </tr>\n",
       "    <tr>\n",
       "      <th>9992</th>\n",
       "      <td>39-53</td>\n",
       "      <td>F</td>\n",
       "      <td>Womens::Dresses::Assorted</td>\n",
       "      <td>Romacci</td>\n",
       "    </tr>\n",
       "    <tr>\n",
       "      <th>9993</th>\n",
       "      <td>39-53</td>\n",
       "      <td>F</td>\n",
       "      <td>Womens::Dresses::Plus Sizes</td>\n",
       "      <td>Bohistyle</td>\n",
       "    </tr>\n",
       "    <tr>\n",
       "      <th>9994</th>\n",
       "      <td>39-53</td>\n",
       "      <td>F</td>\n",
       "      <td>Womens::Sweaters::Assorted</td>\n",
       "      <td>Beautife</td>\n",
       "    </tr>\n",
       "    <tr>\n",
       "      <th>9995</th>\n",
       "      <td>54-64</td>\n",
       "      <td>F</td>\n",
       "      <td>Womens::Pants::Leggings</td>\n",
       "      <td>Conceited</td>\n",
       "    </tr>\n",
       "    <tr>\n",
       "      <th>9996</th>\n",
       "      <td>39-53</td>\n",
       "      <td>F</td>\n",
       "      <td>Womens::Outerwear::Assorted</td>\n",
       "      <td>Kenneth Cole</td>\n",
       "    </tr>\n",
       "    <tr>\n",
       "      <th>9997</th>\n",
       "      <td>39-53</td>\n",
       "      <td>F</td>\n",
       "      <td>Womens::Outerwear::vests</td>\n",
       "      <td>Devon &amp; Jones</td>\n",
       "    </tr>\n",
       "    <tr>\n",
       "      <th>9998</th>\n",
       "      <td>54-64</td>\n",
       "      <td>M</td>\n",
       "      <td>Men::Tops::Dress Shirts</td>\n",
       "      <td>Giovanni Uomo</td>\n",
       "    </tr>\n",
       "    <tr>\n",
       "      <th>9999</th>\n",
       "      <td>54-64</td>\n",
       "      <td>F</td>\n",
       "      <td>Womens::Tops::Assorted</td>\n",
       "      <td>Thread Tank</td>\n",
       "    </tr>\n",
       "  </tbody>\n",
       "</table>\n",
       "<p>10000 rows × 4 columns</p>\n",
       "</div>"
      ],
      "text/plain": [
       "        age gender                    product_category                 brand\n",
       "0     54-64      F              Womens::Tops::Assorted           Free People\n",
       "1     54-64      F              Womens::Tops::Assorted               Podlily\n",
       "2     54-64      M                Men::Bottoms::Shorts  Quality Durables Co.\n",
       "3     24-38      F           Womens::Dresses::Assorted              Angelady\n",
       "4     39-53      F           Womens::Dresses::Assorted                Laksmi\n",
       "5     39-53      F         Womens::Outerwear::Assorted               Misakia\n",
       "6     39-53      F              Womens::Tops::Assorted                Soteer\n",
       "7     39-53      F          Womens::Sweaters::Assorted              onlypuff\n",
       "8      0-23      F            Womens::Tops::Activewear          Life is Good\n",
       "9     54-64      F           Womens::Dresses::Assorted                 Romwe\n",
       "10    39-53      F           Womens::Dresses::Assorted                 MUXXN\n",
       "11    39-53      F         Womens::Outerwear::Assorted           Eddie Bauer\n",
       "12    24-38      F             Womens::Pants::Assorted   90 Degree By Reflex\n",
       "13    39-53      F              Womens::Tops::Assorted              Beautife\n",
       "14    39-53      M                 Men::Bottoms::Jeans             Southpole\n",
       "15    39-53      F             Womens::Pants::Assorted            Mint Lilac\n",
       "16    54-64      F              Womens::Tops::Assorted                    Re\n",
       "17    54-64      F           Womens::Pants::Plus Sizes               Rekucci\n",
       "18    39-53      F              Womens::Pants::Petites           Karen Scott\n",
       "19    54-64      F           Womens::Sweaters::Hoodies               Timeson\n",
       "20    24-38      F           Womens::Dresses::Assorted                Vemper\n",
       "21    39-53      F           Womens::Dresses::Assorted                OYISHA\n",
       "22    39-53      F  Womens::Outerwear::coats & jackets   Lauren Ralph Lauren\n",
       "23    54-64      F           Womens::Dresses::Assorted             Dresstore\n",
       "24    39-53      F       Womens::Sweaters::sweatshirts                ELESOL\n",
       "25    39-53      F           Womens::Dresses::Assorted             Angashion\n",
       "26    24-38      F      Womens::Tops::Shirts & Blouses       Pietro Brunelli\n",
       "27    39-53      F           Womens::Dresses::Assorted            Tom's Ware\n",
       "28    54-64      F           Womens::Dresses::Assorted                Ceaiqu\n",
       "29    24-38      F              Womens::Tops::Assorted                Pxmoda\n",
       "...     ...    ...                                 ...                   ...\n",
       "9970  39-53      F           Womens::Dresses::Assorted                Foxred\n",
       "9971  24-38      F           Womens::Sweaters::Hoodies              NUTEXROL\n",
       "9972  54-64      F              Womens::Tops::Assorted      The Thompson Tee\n",
       "9973  54-64      F          Womens::Sweaters::Assorted                Inorin\n",
       "9974   0-23      F            Womens::Tops::Activewear     Fruit of the Loom\n",
       "9975  54-64      F           Womens::Sweaters::Hoodies              Hgvoetty\n",
       "9976  39-53      F           Womens::Dresses::Assorted            Dearlovers\n",
       "9977  54-64      F        Womens::Skirts::Wear to Work                Hybrid\n",
       "9978  39-53      F           Womens::Dresses::Assorted               Milumia\n",
       "9979  39-53      F           Womens::Dresses::Assorted              Yangprom\n",
       "9980  54-64      F           Womens::Dresses::Assorted              kayamiya\n",
       "9981  54-64      F           Womens::Dresses::Assorted              Honwenle\n",
       "9982  39-53      F         Womens::Outerwear::Assorted              iLoveSIA\n",
       "9983  39-53      F          Womens::Outerwear::Blazers           Grace Karin\n",
       "9984  54-64      F         Womens::Dresses::Plus Sizes                Meenew\n",
       "9985  39-53      F              Womens::Tops::Assorted               Lyxinpf\n",
       "9986  39-53      F             Womens::Pants::Leggings                 Zella\n",
       "9987  24-38      F              Womens::Tops::Assorted           Alternative\n",
       "9988  54-64      F               Womens::Pants::Capris     Gloria Vanderbilt\n",
       "9989  39-53      F           Womens::Dresses::Assorted               Yingkis\n",
       "9990  54-64      F               Womens::Tops::Petites         JM Collection\n",
       "9991  54-64      F           Womens::Dresses::Assorted            Adelyn Rae\n",
       "9992  39-53      F           Womens::Dresses::Assorted               Romacci\n",
       "9993  39-53      F         Womens::Dresses::Plus Sizes             Bohistyle\n",
       "9994  39-53      F          Womens::Sweaters::Assorted              Beautife\n",
       "9995  54-64      F             Womens::Pants::Leggings             Conceited\n",
       "9996  39-53      F         Womens::Outerwear::Assorted          Kenneth Cole\n",
       "9997  39-53      F            Womens::Outerwear::vests         Devon & Jones\n",
       "9998  54-64      M             Men::Tops::Dress Shirts         Giovanni Uomo\n",
       "9999  54-64      F              Womens::Tops::Assorted           Thread Tank\n",
       "\n",
       "[10000 rows x 4 columns]"
      ]
     },
     "execution_count": 50,
     "metadata": {},
     "output_type": "execute_result"
    }
   ],
   "source": [
    "data.assign()"
   ]
  },
  {
   "cell_type": "code",
   "execution_count": 51,
   "metadata": {},
   "outputs": [
    {
     "data": {
      "text/plain": [
       "split_len\n",
       "2       2\n",
       "3    9480\n",
       "4     518\n",
       "Name: age, dtype: int64"
      ]
     },
     "execution_count": 51,
     "metadata": {},
     "output_type": "execute_result"
    }
   ],
   "source": [
    "data = data.assign(split_len = data.product_category.apply(lambda x : len(x.split(\"::\"))))\n",
    "data.groupby(\"split_len\").count()[\"age\"]"
   ]
  },
  {
   "cell_type": "code",
   "execution_count": 52,
   "metadata": {},
   "outputs": [
    {
     "data": {
      "text/html": [
       "<div>\n",
       "<style scoped>\n",
       "    .dataframe tbody tr th:only-of-type {\n",
       "        vertical-align: middle;\n",
       "    }\n",
       "\n",
       "    .dataframe tbody tr th {\n",
       "        vertical-align: top;\n",
       "    }\n",
       "\n",
       "    .dataframe thead th {\n",
       "        text-align: right;\n",
       "    }\n",
       "</style>\n",
       "<table border=\"1\" class=\"dataframe\">\n",
       "  <thead>\n",
       "    <tr style=\"text-align: right;\">\n",
       "      <th></th>\n",
       "      <th>age</th>\n",
       "      <th>gender</th>\n",
       "      <th>product_category</th>\n",
       "      <th>brand</th>\n",
       "      <th>split_len</th>\n",
       "    </tr>\n",
       "  </thead>\n",
       "  <tbody>\n",
       "    <tr>\n",
       "      <th>0</th>\n",
       "      <td>54-64</td>\n",
       "      <td>F</td>\n",
       "      <td>Womens::Tops::Assorted</td>\n",
       "      <td>Free People</td>\n",
       "      <td>3</td>\n",
       "    </tr>\n",
       "    <tr>\n",
       "      <th>1</th>\n",
       "      <td>54-64</td>\n",
       "      <td>F</td>\n",
       "      <td>Womens::Tops::Assorted</td>\n",
       "      <td>Podlily</td>\n",
       "      <td>3</td>\n",
       "    </tr>\n",
       "    <tr>\n",
       "      <th>2</th>\n",
       "      <td>54-64</td>\n",
       "      <td>M</td>\n",
       "      <td>Men::Bottoms::Shorts</td>\n",
       "      <td>Quality Durables Co.</td>\n",
       "      <td>3</td>\n",
       "    </tr>\n",
       "    <tr>\n",
       "      <th>3</th>\n",
       "      <td>24-38</td>\n",
       "      <td>F</td>\n",
       "      <td>Womens::Dresses::Assorted</td>\n",
       "      <td>Angelady</td>\n",
       "      <td>3</td>\n",
       "    </tr>\n",
       "    <tr>\n",
       "      <th>4</th>\n",
       "      <td>39-53</td>\n",
       "      <td>F</td>\n",
       "      <td>Womens::Dresses::Assorted</td>\n",
       "      <td>Laksmi</td>\n",
       "      <td>3</td>\n",
       "    </tr>\n",
       "  </tbody>\n",
       "</table>\n",
       "</div>"
      ],
      "text/plain": [
       "     age gender           product_category                 brand  split_len\n",
       "0  54-64      F     Womens::Tops::Assorted           Free People          3\n",
       "1  54-64      F     Womens::Tops::Assorted               Podlily          3\n",
       "2  54-64      M       Men::Bottoms::Shorts  Quality Durables Co.          3\n",
       "3  24-38      F  Womens::Dresses::Assorted              Angelady          3\n",
       "4  39-53      F  Womens::Dresses::Assorted                Laksmi          3"
      ]
     },
     "execution_count": 52,
     "metadata": {},
     "output_type": "execute_result"
    }
   ],
   "source": [
    "data.head()"
   ]
  },
  {
   "cell_type": "markdown",
   "metadata": {},
   "source": [
    "There seems to be mis-match between product_categories. Rather than having \"NA\" filled, lets see what we can do."
   ]
  },
  {
   "cell_type": "code",
   "execution_count": 53,
   "metadata": {},
   "outputs": [
    {
     "data": {
      "text/html": [
       "<div>\n",
       "<style scoped>\n",
       "    .dataframe tbody tr th:only-of-type {\n",
       "        vertical-align: middle;\n",
       "    }\n",
       "\n",
       "    .dataframe tbody tr th {\n",
       "        vertical-align: top;\n",
       "    }\n",
       "\n",
       "    .dataframe thead th {\n",
       "        text-align: right;\n",
       "    }\n",
       "</style>\n",
       "<table border=\"1\" class=\"dataframe\">\n",
       "  <thead>\n",
       "    <tr style=\"text-align: right;\">\n",
       "      <th></th>\n",
       "      <th>age</th>\n",
       "      <th>gender</th>\n",
       "      <th>product_category</th>\n",
       "      <th>brand</th>\n",
       "      <th>split_len</th>\n",
       "    </tr>\n",
       "  </thead>\n",
       "  <tbody>\n",
       "    <tr>\n",
       "      <th>1277</th>\n",
       "      <td>24-38</td>\n",
       "      <td>M</td>\n",
       "      <td>Big &amp; Tall::Dress Shirts</td>\n",
       "      <td>Alimens &amp; Gentle</td>\n",
       "      <td>2</td>\n",
       "    </tr>\n",
       "    <tr>\n",
       "      <th>7251</th>\n",
       "      <td>54-64</td>\n",
       "      <td>M</td>\n",
       "      <td>Big &amp; Tall::Dress Shirts</td>\n",
       "      <td>Stacy Adams</td>\n",
       "      <td>2</td>\n",
       "    </tr>\n",
       "  </tbody>\n",
       "</table>\n",
       "</div>"
      ],
      "text/plain": [
       "        age gender          product_category             brand  split_len\n",
       "1277  24-38      M  Big & Tall::Dress Shirts  Alimens & Gentle          2\n",
       "7251  54-64      M  Big & Tall::Dress Shirts       Stacy Adams          2"
      ]
     },
     "execution_count": 53,
     "metadata": {},
     "output_type": "execute_result"
    }
   ],
   "source": [
    "data[data.split_len == 2]"
   ]
  },
  {
   "cell_type": "markdown",
   "metadata": {},
   "source": [
    "There are just 2, which are for Big & Tall, and that go with Males.\n",
    "Ideally we should convert them with the gender as the product_category1\n",
    "\n",
    "Further more, as we do not have any other segment in men which says, Dress: Shirts, we will have this as\n",
    "**Men::Dress Shirts::Assorted**\n",
    "\n",
    "Assorted as being a general category (from business perspective)"
   ]
  },
  {
   "cell_type": "code",
   "execution_count": 54,
   "metadata": {},
   "outputs": [],
   "source": [
    "data.loc[[1277,7251],\"product_category\"] = \"Men::Dress Shirts::Assorted\""
   ]
  },
  {
   "cell_type": "code",
   "execution_count": 55,
   "metadata": {},
   "outputs": [
    {
     "data": {
      "text/html": [
       "<div>\n",
       "<style scoped>\n",
       "    .dataframe tbody tr th:only-of-type {\n",
       "        vertical-align: middle;\n",
       "    }\n",
       "\n",
       "    .dataframe tbody tr th {\n",
       "        vertical-align: top;\n",
       "    }\n",
       "\n",
       "    .dataframe thead th {\n",
       "        text-align: right;\n",
       "    }\n",
       "</style>\n",
       "<table border=\"1\" class=\"dataframe\">\n",
       "  <thead>\n",
       "    <tr style=\"text-align: right;\">\n",
       "      <th></th>\n",
       "      <th>age</th>\n",
       "      <th>gender</th>\n",
       "      <th>product_category</th>\n",
       "      <th>brand</th>\n",
       "      <th>split_len</th>\n",
       "    </tr>\n",
       "  </thead>\n",
       "  <tbody>\n",
       "    <tr>\n",
       "      <th>1277</th>\n",
       "      <td>24-38</td>\n",
       "      <td>M</td>\n",
       "      <td>Men::Dress Shirts::Assorted</td>\n",
       "      <td>Alimens &amp; Gentle</td>\n",
       "      <td>2</td>\n",
       "    </tr>\n",
       "    <tr>\n",
       "      <th>7251</th>\n",
       "      <td>54-64</td>\n",
       "      <td>M</td>\n",
       "      <td>Men::Dress Shirts::Assorted</td>\n",
       "      <td>Stacy Adams</td>\n",
       "      <td>2</td>\n",
       "    </tr>\n",
       "  </tbody>\n",
       "</table>\n",
       "</div>"
      ],
      "text/plain": [
       "        age gender             product_category             brand  split_len\n",
       "1277  24-38      M  Men::Dress Shirts::Assorted  Alimens & Gentle          2\n",
       "7251  54-64      M  Men::Dress Shirts::Assorted       Stacy Adams          2"
      ]
     },
     "execution_count": 55,
     "metadata": {},
     "output_type": "execute_result"
    }
   ],
   "source": [
    "data[data.split_len == 2]"
   ]
  },
  {
   "cell_type": "markdown",
   "metadata": {},
   "source": [
    "**Working on product_category where split_len == 4**"
   ]
  },
  {
   "cell_type": "code",
   "execution_count": 56,
   "metadata": {},
   "outputs": [
    {
     "data": {
      "text/html": [
       "<div>\n",
       "<style scoped>\n",
       "    .dataframe tbody tr th:only-of-type {\n",
       "        vertical-align: middle;\n",
       "    }\n",
       "\n",
       "    .dataframe tbody tr th {\n",
       "        vertical-align: top;\n",
       "    }\n",
       "\n",
       "    .dataframe thead th {\n",
       "        text-align: right;\n",
       "    }\n",
       "</style>\n",
       "<table border=\"1\" class=\"dataframe\">\n",
       "  <thead>\n",
       "    <tr style=\"text-align: right;\">\n",
       "      <th></th>\n",
       "      <th>age</th>\n",
       "      <th>gender</th>\n",
       "      <th>product_category</th>\n",
       "      <th>brand</th>\n",
       "      <th>split_len</th>\n",
       "    </tr>\n",
       "  </thead>\n",
       "  <tbody>\n",
       "    <tr>\n",
       "      <th>31</th>\n",
       "      <td>54-64</td>\n",
       "      <td>F</td>\n",
       "      <td>Womens::Pants::Jeans::Jeggings</td>\n",
       "      <td>Genie</td>\n",
       "      <td>4</td>\n",
       "    </tr>\n",
       "    <tr>\n",
       "      <th>40</th>\n",
       "      <td>54-64</td>\n",
       "      <td>F</td>\n",
       "      <td>Womens::Pants::Jeans::Assorted</td>\n",
       "      <td>Lee</td>\n",
       "      <td>4</td>\n",
       "    </tr>\n",
       "    <tr>\n",
       "      <th>85</th>\n",
       "      <td>54-64</td>\n",
       "      <td>F</td>\n",
       "      <td>Womens::Pants::Jeans::Assorted</td>\n",
       "      <td>Jag Jeans</td>\n",
       "      <td>4</td>\n",
       "    </tr>\n",
       "    <tr>\n",
       "      <th>90</th>\n",
       "      <td>39-53</td>\n",
       "      <td>F</td>\n",
       "      <td>Womens::Pants::Jeans::Assorted</td>\n",
       "      <td>Vibrant</td>\n",
       "      <td>4</td>\n",
       "    </tr>\n",
       "    <tr>\n",
       "      <th>94</th>\n",
       "      <td>39-53</td>\n",
       "      <td>F</td>\n",
       "      <td>Womens::Pants::Jeans::Plus Size</td>\n",
       "      <td>Silver Jeans Co.</td>\n",
       "      <td>4</td>\n",
       "    </tr>\n",
       "  </tbody>\n",
       "</table>\n",
       "</div>"
      ],
      "text/plain": [
       "      age gender                 product_category             brand  split_len\n",
       "31  54-64      F   Womens::Pants::Jeans::Jeggings             Genie          4\n",
       "40  54-64      F   Womens::Pants::Jeans::Assorted               Lee          4\n",
       "85  54-64      F   Womens::Pants::Jeans::Assorted         Jag Jeans          4\n",
       "90  39-53      F   Womens::Pants::Jeans::Assorted           Vibrant          4\n",
       "94  39-53      F  Womens::Pants::Jeans::Plus Size  Silver Jeans Co.          4"
      ]
     },
     "execution_count": 56,
     "metadata": {},
     "output_type": "execute_result"
    }
   ],
   "source": [
    "data[data.split_len == 4].head()"
   ]
  },
  {
   "cell_type": "code",
   "execution_count": 57,
   "metadata": {},
   "outputs": [
    {
     "data": {
      "text/plain": [
       "array(['F'], dtype=object)"
      ]
     },
     "execution_count": 57,
     "metadata": {},
     "output_type": "execute_result"
    }
   ],
   "source": [
    "data[data.split_len == 4][\"gender\"].unique()"
   ]
  },
  {
   "cell_type": "markdown",
   "metadata": {},
   "source": [
    "**It seems that Womens::Pants::Jeans is the unique element here, lets check**"
   ]
  },
  {
   "cell_type": "code",
   "execution_count": 58,
   "metadata": {},
   "outputs": [
    {
     "data": {
      "text/plain": [
       "array(['Womens::Pants::Jeans'], dtype=object)"
      ]
     },
     "execution_count": 58,
     "metadata": {},
     "output_type": "execute_result"
    }
   ],
   "source": [
    "data[data.split_len == 4][\"product_category\"].apply(lambda x : \"::\".join(x.split(\"::\")[:3])).unique()"
   ]
  },
  {
   "cell_type": "markdown",
   "metadata": {},
   "source": [
    "**Indeed, Women::Pants::Jeans is the unique element here**\n",
    "Strategy, what we would do is following\n",
    "1. We would make this as Women::Jeans::<4th category> so that we have information pertaining to jeans for women\n",
    "\n",
    "*Note*\n",
    "Let's just check what \"Jeans\" category in Men section"
   ]
  },
  {
   "cell_type": "code",
   "execution_count": 59,
   "metadata": {},
   "outputs": [
    {
     "data": {
      "text/html": [
       "<div>\n",
       "<style scoped>\n",
       "    .dataframe tbody tr th:only-of-type {\n",
       "        vertical-align: middle;\n",
       "    }\n",
       "\n",
       "    .dataframe tbody tr th {\n",
       "        vertical-align: top;\n",
       "    }\n",
       "\n",
       "    .dataframe thead th {\n",
       "        text-align: right;\n",
       "    }\n",
       "</style>\n",
       "<table border=\"1\" class=\"dataframe\">\n",
       "  <thead>\n",
       "    <tr style=\"text-align: right;\">\n",
       "      <th></th>\n",
       "      <th>age</th>\n",
       "      <th>gender</th>\n",
       "      <th>product_category</th>\n",
       "      <th>brand</th>\n",
       "      <th>split_len</th>\n",
       "    </tr>\n",
       "  </thead>\n",
       "  <tbody>\n",
       "    <tr>\n",
       "      <th>2</th>\n",
       "      <td>54-64</td>\n",
       "      <td>M</td>\n",
       "      <td>Men::Bottoms::Shorts</td>\n",
       "      <td>Quality Durables Co.</td>\n",
       "      <td>3</td>\n",
       "    </tr>\n",
       "    <tr>\n",
       "      <th>14</th>\n",
       "      <td>39-53</td>\n",
       "      <td>M</td>\n",
       "      <td>Men::Bottoms::Jeans</td>\n",
       "      <td>Southpole</td>\n",
       "      <td>3</td>\n",
       "    </tr>\n",
       "    <tr>\n",
       "      <th>66</th>\n",
       "      <td>24-38</td>\n",
       "      <td>M</td>\n",
       "      <td>Men::Outerwear::Coats &amp; Jackets</td>\n",
       "      <td>Simbama</td>\n",
       "      <td>3</td>\n",
       "    </tr>\n",
       "    <tr>\n",
       "      <th>78</th>\n",
       "      <td>24-38</td>\n",
       "      <td>M</td>\n",
       "      <td>Men::Bottoms::Dress Pants</td>\n",
       "      <td>IZOD</td>\n",
       "      <td>3</td>\n",
       "    </tr>\n",
       "    <tr>\n",
       "      <th>102</th>\n",
       "      <td>39-53</td>\n",
       "      <td>M</td>\n",
       "      <td>Men::Outerwear::Coats &amp; Jackets</td>\n",
       "      <td>Wantdo</td>\n",
       "      <td>3</td>\n",
       "    </tr>\n",
       "  </tbody>\n",
       "</table>\n",
       "</div>"
      ],
      "text/plain": [
       "       age gender                 product_category                 brand  \\\n",
       "2    54-64      M             Men::Bottoms::Shorts  Quality Durables Co.   \n",
       "14   39-53      M              Men::Bottoms::Jeans             Southpole   \n",
       "66   24-38      M  Men::Outerwear::Coats & Jackets               Simbama   \n",
       "78   24-38      M        Men::Bottoms::Dress Pants                  IZOD   \n",
       "102  39-53      M  Men::Outerwear::Coats & Jackets                Wantdo   \n",
       "\n",
       "     split_len  \n",
       "2            3  \n",
       "14           3  \n",
       "66           3  \n",
       "78           3  \n",
       "102          3  "
      ]
     },
     "execution_count": 59,
     "metadata": {},
     "output_type": "execute_result"
    }
   ],
   "source": [
    "data[data.product_category.apply(lambda x: x.split(\"::\")[0]) == \"Men\"].head()"
   ]
  },
  {
   "cell_type": "markdown",
   "metadata": {},
   "source": [
    "Some observations\n",
    "1. Obviously, when we have \"Men\" in product category, we will have the gender as Male. This means that the classfier would have almost 100% correlation between \"Gender\" feature and \"Product category 1\" feature\n",
    "2. However, we would like to have segmentation between \"Age_Gender\" class, so we would like to keep this.\n",
    "3. It seems that product_cateogories and their association with respective classes would \"intuitively\" work better when we have a Decision Tree kind of model, because if you look at the product categories, we can \"intuitively\" say that it belongs to a certain segment.\n",
    "4. DecisionTrees / RandomForest seems to be a good choice, but we will see"
   ]
  },
  {
   "cell_type": "markdown",
   "metadata": {},
   "source": [
    "As we strategized earlier, we will gave the Women::Jeans category changed as following\n",
    "**Women::Jeans::<4th category>**"
   ]
  },
  {
   "cell_type": "code",
   "execution_count": 60,
   "metadata": {},
   "outputs": [],
   "source": [
    "women_jeans_data = data[data.split_len == 4][\"product_category\"].apply(lambda x : \"::\".join([x.split(\"::\")[0],x.split(\"::\")[2],x.split(\"::\")[3]]))\n",
    "data.loc[data.split_len == 4,\"product_category\"] = women_jeans_data"
   ]
  },
  {
   "cell_type": "code",
   "execution_count": 61,
   "metadata": {},
   "outputs": [
    {
     "data": {
      "text/plain": [
       "array(['Womens::Jeans::Jeggings', 'Womens::Jeans::Assorted',\n",
       "       'Womens::Jeans::Plus Size', 'Womens::Jeans::Petites'], dtype=object)"
      ]
     },
     "execution_count": 61,
     "metadata": {},
     "output_type": "execute_result"
    }
   ],
   "source": [
    "data[data.split_len == 4][\"product_category\"].unique()"
   ]
  },
  {
   "cell_type": "markdown",
   "metadata": {},
   "source": [
    "Lets check the distribution now"
   ]
  },
  {
   "cell_type": "code",
   "execution_count": 62,
   "metadata": {},
   "outputs": [
    {
     "data": {
      "text/plain": [
       "split_len\n",
       "3    10000\n",
       "Name: age, dtype: int64"
      ]
     },
     "execution_count": 62,
     "metadata": {},
     "output_type": "execute_result"
    }
   ],
   "source": [
    "data = data.assign(split_len = data.product_category.apply(lambda x : len(x.split(\"::\"))))\n",
    "data.groupby(\"split_len\").count()[\"age\"]"
   ]
  },
  {
   "cell_type": "markdown",
   "metadata": {},
   "source": [
    "**Now we have all product categories in 3 (\"::\") lengths**"
   ]
  },
  {
   "cell_type": "markdown",
   "metadata": {},
   "source": [
    "## 2. Feature Preparation"
   ]
  },
  {
   "cell_type": "markdown",
   "metadata": {},
   "source": [
    "### 2.1 Encode product_category\n",
    "\n",
    "#### IMPORTANT NOTE ####\n",
    "Right now we are just using get_dummies from Pandas, however in real life, we will using sklearn's One-HotEncoder class, and have pickle dump of it so that we can have a consistent encoding"
   ]
  },
  {
   "cell_type": "code",
   "execution_count": 63,
   "metadata": {},
   "outputs": [
    {
     "data": {
      "text/plain": [
       "0"
      ]
     },
     "execution_count": 63,
     "metadata": {},
     "output_type": "execute_result"
    }
   ],
   "source": [
    "data[\"product_category\"].isnull().sum()"
   ]
  },
  {
   "cell_type": "code",
   "execution_count": 64,
   "metadata": {},
   "outputs": [
    {
     "data": {
      "text/html": [
       "<div>\n",
       "<style scoped>\n",
       "    .dataframe tbody tr th:only-of-type {\n",
       "        vertical-align: middle;\n",
       "    }\n",
       "\n",
       "    .dataframe tbody tr th {\n",
       "        vertical-align: top;\n",
       "    }\n",
       "\n",
       "    .dataframe thead th {\n",
       "        text-align: right;\n",
       "    }\n",
       "</style>\n",
       "<table border=\"1\" class=\"dataframe\">\n",
       "  <thead>\n",
       "    <tr style=\"text-align: right;\">\n",
       "      <th></th>\n",
       "      <th>product_category_1</th>\n",
       "      <th>product_category_2</th>\n",
       "      <th>product_category_3</th>\n",
       "    </tr>\n",
       "  </thead>\n",
       "  <tbody>\n",
       "    <tr>\n",
       "      <th>0</th>\n",
       "      <td>Womens</td>\n",
       "      <td>Tops</td>\n",
       "      <td>Assorted</td>\n",
       "    </tr>\n",
       "    <tr>\n",
       "      <th>1</th>\n",
       "      <td>Womens</td>\n",
       "      <td>Tops</td>\n",
       "      <td>Assorted</td>\n",
       "    </tr>\n",
       "    <tr>\n",
       "      <th>2</th>\n",
       "      <td>Men</td>\n",
       "      <td>Bottoms</td>\n",
       "      <td>Shorts</td>\n",
       "    </tr>\n",
       "    <tr>\n",
       "      <th>3</th>\n",
       "      <td>Womens</td>\n",
       "      <td>Dresses</td>\n",
       "      <td>Assorted</td>\n",
       "    </tr>\n",
       "    <tr>\n",
       "      <th>4</th>\n",
       "      <td>Womens</td>\n",
       "      <td>Dresses</td>\n",
       "      <td>Assorted</td>\n",
       "    </tr>\n",
       "  </tbody>\n",
       "</table>\n",
       "</div>"
      ],
      "text/plain": [
       "  product_category_1 product_category_2 product_category_3\n",
       "0             Womens               Tops           Assorted\n",
       "1             Womens               Tops           Assorted\n",
       "2                Men            Bottoms             Shorts\n",
       "3             Womens            Dresses           Assorted\n",
       "4             Womens            Dresses           Assorted"
      ]
     },
     "execution_count": 64,
     "metadata": {},
     "output_type": "execute_result"
    }
   ],
   "source": [
    "split_df = data[\"product_category\"].str.split(\"::\", expand=True).fillna(\"N/A\")\n",
    "split_df.columns = [\"product_category_1\",\"product_category_2\",\"product_category_3\"]\n",
    "split_df.head()"
   ]
  },
  {
   "cell_type": "code",
   "execution_count": 65,
   "metadata": {
    "scrolled": true
   },
   "outputs": [
    {
     "data": {
      "text/html": [
       "<div>\n",
       "<style scoped>\n",
       "    .dataframe tbody tr th:only-of-type {\n",
       "        vertical-align: middle;\n",
       "    }\n",
       "\n",
       "    .dataframe tbody tr th {\n",
       "        vertical-align: top;\n",
       "    }\n",
       "\n",
       "    .dataframe thead th {\n",
       "        text-align: right;\n",
       "    }\n",
       "</style>\n",
       "<table border=\"1\" class=\"dataframe\">\n",
       "  <thead>\n",
       "    <tr style=\"text-align: right;\">\n",
       "      <th></th>\n",
       "      <th>product_category_1_Womens</th>\n",
       "      <th>product_category_2_Dress Shirts</th>\n",
       "      <th>product_category_2_Dresses</th>\n",
       "      <th>product_category_2_Jeans</th>\n",
       "      <th>product_category_2_Outerwear</th>\n",
       "      <th>product_category_2_Pants</th>\n",
       "      <th>product_category_2_Shorts</th>\n",
       "      <th>product_category_2_Skirts</th>\n",
       "      <th>product_category_2_Suits &amp; Tuxedos</th>\n",
       "      <th>product_category_2_Sweaters</th>\n",
       "      <th>...</th>\n",
       "      <th>product_category_3_Tank Tops &amp; T-Shirts</th>\n",
       "      <th>product_category_3_Tuxedo Shirts</th>\n",
       "      <th>product_category_3_Various</th>\n",
       "      <th>product_category_3_Vests</th>\n",
       "      <th>product_category_3_Wear to Work</th>\n",
       "      <th>product_category_3_cardigans</th>\n",
       "      <th>product_category_3_coats &amp; jackets</th>\n",
       "      <th>product_category_3_sweatshirts</th>\n",
       "      <th>product_category_3_tanks &amp; camis</th>\n",
       "      <th>product_category_3_vests</th>\n",
       "    </tr>\n",
       "  </thead>\n",
       "  <tbody>\n",
       "    <tr>\n",
       "      <th>0</th>\n",
       "      <td>1</td>\n",
       "      <td>0</td>\n",
       "      <td>0</td>\n",
       "      <td>0</td>\n",
       "      <td>0</td>\n",
       "      <td>0</td>\n",
       "      <td>0</td>\n",
       "      <td>0</td>\n",
       "      <td>0</td>\n",
       "      <td>0</td>\n",
       "      <td>...</td>\n",
       "      <td>0</td>\n",
       "      <td>0</td>\n",
       "      <td>0</td>\n",
       "      <td>0</td>\n",
       "      <td>0</td>\n",
       "      <td>0</td>\n",
       "      <td>0</td>\n",
       "      <td>0</td>\n",
       "      <td>0</td>\n",
       "      <td>0</td>\n",
       "    </tr>\n",
       "    <tr>\n",
       "      <th>1</th>\n",
       "      <td>1</td>\n",
       "      <td>0</td>\n",
       "      <td>0</td>\n",
       "      <td>0</td>\n",
       "      <td>0</td>\n",
       "      <td>0</td>\n",
       "      <td>0</td>\n",
       "      <td>0</td>\n",
       "      <td>0</td>\n",
       "      <td>0</td>\n",
       "      <td>...</td>\n",
       "      <td>0</td>\n",
       "      <td>0</td>\n",
       "      <td>0</td>\n",
       "      <td>0</td>\n",
       "      <td>0</td>\n",
       "      <td>0</td>\n",
       "      <td>0</td>\n",
       "      <td>0</td>\n",
       "      <td>0</td>\n",
       "      <td>0</td>\n",
       "    </tr>\n",
       "    <tr>\n",
       "      <th>2</th>\n",
       "      <td>0</td>\n",
       "      <td>0</td>\n",
       "      <td>0</td>\n",
       "      <td>0</td>\n",
       "      <td>0</td>\n",
       "      <td>0</td>\n",
       "      <td>0</td>\n",
       "      <td>0</td>\n",
       "      <td>0</td>\n",
       "      <td>0</td>\n",
       "      <td>...</td>\n",
       "      <td>0</td>\n",
       "      <td>0</td>\n",
       "      <td>0</td>\n",
       "      <td>0</td>\n",
       "      <td>0</td>\n",
       "      <td>0</td>\n",
       "      <td>0</td>\n",
       "      <td>0</td>\n",
       "      <td>0</td>\n",
       "      <td>0</td>\n",
       "    </tr>\n",
       "    <tr>\n",
       "      <th>3</th>\n",
       "      <td>1</td>\n",
       "      <td>0</td>\n",
       "      <td>1</td>\n",
       "      <td>0</td>\n",
       "      <td>0</td>\n",
       "      <td>0</td>\n",
       "      <td>0</td>\n",
       "      <td>0</td>\n",
       "      <td>0</td>\n",
       "      <td>0</td>\n",
       "      <td>...</td>\n",
       "      <td>0</td>\n",
       "      <td>0</td>\n",
       "      <td>0</td>\n",
       "      <td>0</td>\n",
       "      <td>0</td>\n",
       "      <td>0</td>\n",
       "      <td>0</td>\n",
       "      <td>0</td>\n",
       "      <td>0</td>\n",
       "      <td>0</td>\n",
       "    </tr>\n",
       "    <tr>\n",
       "      <th>4</th>\n",
       "      <td>1</td>\n",
       "      <td>0</td>\n",
       "      <td>1</td>\n",
       "      <td>0</td>\n",
       "      <td>0</td>\n",
       "      <td>0</td>\n",
       "      <td>0</td>\n",
       "      <td>0</td>\n",
       "      <td>0</td>\n",
       "      <td>0</td>\n",
       "      <td>...</td>\n",
       "      <td>0</td>\n",
       "      <td>0</td>\n",
       "      <td>0</td>\n",
       "      <td>0</td>\n",
       "      <td>0</td>\n",
       "      <td>0</td>\n",
       "      <td>0</td>\n",
       "      <td>0</td>\n",
       "      <td>0</td>\n",
       "      <td>0</td>\n",
       "    </tr>\n",
       "  </tbody>\n",
       "</table>\n",
       "<p>5 rows × 48 columns</p>\n",
       "</div>"
      ],
      "text/plain": [
       "   product_category_1_Womens  product_category_2_Dress Shirts  \\\n",
       "0                          1                                0   \n",
       "1                          1                                0   \n",
       "2                          0                                0   \n",
       "3                          1                                0   \n",
       "4                          1                                0   \n",
       "\n",
       "   product_category_2_Dresses  product_category_2_Jeans  \\\n",
       "0                           0                         0   \n",
       "1                           0                         0   \n",
       "2                           0                         0   \n",
       "3                           1                         0   \n",
       "4                           1                         0   \n",
       "\n",
       "   product_category_2_Outerwear  product_category_2_Pants  \\\n",
       "0                             0                         0   \n",
       "1                             0                         0   \n",
       "2                             0                         0   \n",
       "3                             0                         0   \n",
       "4                             0                         0   \n",
       "\n",
       "   product_category_2_Shorts  product_category_2_Skirts  \\\n",
       "0                          0                          0   \n",
       "1                          0                          0   \n",
       "2                          0                          0   \n",
       "3                          0                          0   \n",
       "4                          0                          0   \n",
       "\n",
       "   product_category_2_Suits & Tuxedos  product_category_2_Sweaters  \\\n",
       "0                                   0                            0   \n",
       "1                                   0                            0   \n",
       "2                                   0                            0   \n",
       "3                                   0                            0   \n",
       "4                                   0                            0   \n",
       "\n",
       "             ...             product_category_3_Tank Tops & T-Shirts  \\\n",
       "0            ...                                                   0   \n",
       "1            ...                                                   0   \n",
       "2            ...                                                   0   \n",
       "3            ...                                                   0   \n",
       "4            ...                                                   0   \n",
       "\n",
       "   product_category_3_Tuxedo Shirts  product_category_3_Various  \\\n",
       "0                                 0                           0   \n",
       "1                                 0                           0   \n",
       "2                                 0                           0   \n",
       "3                                 0                           0   \n",
       "4                                 0                           0   \n",
       "\n",
       "   product_category_3_Vests  product_category_3_Wear to Work  \\\n",
       "0                         0                                0   \n",
       "1                         0                                0   \n",
       "2                         0                                0   \n",
       "3                         0                                0   \n",
       "4                         0                                0   \n",
       "\n",
       "   product_category_3_cardigans  product_category_3_coats & jackets  \\\n",
       "0                             0                                   0   \n",
       "1                             0                                   0   \n",
       "2                             0                                   0   \n",
       "3                             0                                   0   \n",
       "4                             0                                   0   \n",
       "\n",
       "   product_category_3_sweatshirts  product_category_3_tanks & camis  \\\n",
       "0                               0                                 0   \n",
       "1                               0                                 0   \n",
       "2                               0                                 0   \n",
       "3                               0                                 0   \n",
       "4                               0                                 0   \n",
       "\n",
       "   product_category_3_vests  \n",
       "0                         0  \n",
       "1                         0  \n",
       "2                         0  \n",
       "3                         0  \n",
       "4                         0  \n",
       "\n",
       "[5 rows x 48 columns]"
      ]
     },
     "execution_count": 65,
     "metadata": {},
     "output_type": "execute_result"
    }
   ],
   "source": [
    "X_prod_cat = get_dummies(split_df,drop_first=True) ## to reduce feature space, why not drop first #\n",
    "X_prod_cat.head()"
   ]
  },
  {
   "cell_type": "markdown",
   "metadata": {},
   "source": [
    "### 2.2 Encode Brands"
   ]
  },
  {
   "cell_type": "code",
   "execution_count": 66,
   "metadata": {
    "scrolled": true
   },
   "outputs": [
    {
     "data": {
      "text/html": [
       "<div>\n",
       "<style scoped>\n",
       "    .dataframe tbody tr th:only-of-type {\n",
       "        vertical-align: middle;\n",
       "    }\n",
       "\n",
       "    .dataframe tbody tr th {\n",
       "        vertical-align: top;\n",
       "    }\n",
       "\n",
       "    .dataframe thead th {\n",
       "        text-align: right;\n",
       "    }\n",
       "</style>\n",
       "<table border=\"1\" class=\"dataframe\">\n",
       "  <thead>\n",
       "    <tr style=\"text-align: right;\">\n",
       "      <th></th>\n",
       "      <th>#followme</th>\n",
       "      <th>1 Madison</th>\n",
       "      <th>1.State</th>\n",
       "      <th>12 Ami</th>\n",
       "      <th>12.99 Prime Tees</th>\n",
       "      <th>1822 DENIM</th>\n",
       "      <th>2020AVE</th>\n",
       "      <th>2LUV</th>\n",
       "      <th>2ND DATE</th>\n",
       "      <th>2XU</th>\n",
       "      <th>...</th>\n",
       "      <th>spoear</th>\n",
       "      <th>taigee</th>\n",
       "      <th>uxcell</th>\n",
       "      <th>vadim</th>\n",
       "      <th>virblatt</th>\n",
       "      <th>vs by spursgrl</th>\n",
       "      <th>wanture</th>\n",
       "      <th>yangelo</th>\n",
       "      <th>youvimi</th>\n",
       "      <th>yubinyu</th>\n",
       "    </tr>\n",
       "  </thead>\n",
       "  <tbody>\n",
       "    <tr>\n",
       "      <th>0</th>\n",
       "      <td>0</td>\n",
       "      <td>0</td>\n",
       "      <td>0</td>\n",
       "      <td>0</td>\n",
       "      <td>0</td>\n",
       "      <td>0</td>\n",
       "      <td>0</td>\n",
       "      <td>0</td>\n",
       "      <td>0</td>\n",
       "      <td>0</td>\n",
       "      <td>...</td>\n",
       "      <td>0</td>\n",
       "      <td>0</td>\n",
       "      <td>0</td>\n",
       "      <td>0</td>\n",
       "      <td>0</td>\n",
       "      <td>0</td>\n",
       "      <td>0</td>\n",
       "      <td>0</td>\n",
       "      <td>0</td>\n",
       "      <td>0</td>\n",
       "    </tr>\n",
       "    <tr>\n",
       "      <th>1</th>\n",
       "      <td>0</td>\n",
       "      <td>0</td>\n",
       "      <td>0</td>\n",
       "      <td>0</td>\n",
       "      <td>0</td>\n",
       "      <td>0</td>\n",
       "      <td>0</td>\n",
       "      <td>0</td>\n",
       "      <td>0</td>\n",
       "      <td>0</td>\n",
       "      <td>...</td>\n",
       "      <td>0</td>\n",
       "      <td>0</td>\n",
       "      <td>0</td>\n",
       "      <td>0</td>\n",
       "      <td>0</td>\n",
       "      <td>0</td>\n",
       "      <td>0</td>\n",
       "      <td>0</td>\n",
       "      <td>0</td>\n",
       "      <td>0</td>\n",
       "    </tr>\n",
       "    <tr>\n",
       "      <th>2</th>\n",
       "      <td>0</td>\n",
       "      <td>0</td>\n",
       "      <td>0</td>\n",
       "      <td>0</td>\n",
       "      <td>0</td>\n",
       "      <td>0</td>\n",
       "      <td>0</td>\n",
       "      <td>0</td>\n",
       "      <td>0</td>\n",
       "      <td>0</td>\n",
       "      <td>...</td>\n",
       "      <td>0</td>\n",
       "      <td>0</td>\n",
       "      <td>0</td>\n",
       "      <td>0</td>\n",
       "      <td>0</td>\n",
       "      <td>0</td>\n",
       "      <td>0</td>\n",
       "      <td>0</td>\n",
       "      <td>0</td>\n",
       "      <td>0</td>\n",
       "    </tr>\n",
       "    <tr>\n",
       "      <th>3</th>\n",
       "      <td>0</td>\n",
       "      <td>0</td>\n",
       "      <td>0</td>\n",
       "      <td>0</td>\n",
       "      <td>0</td>\n",
       "      <td>0</td>\n",
       "      <td>0</td>\n",
       "      <td>0</td>\n",
       "      <td>0</td>\n",
       "      <td>0</td>\n",
       "      <td>...</td>\n",
       "      <td>0</td>\n",
       "      <td>0</td>\n",
       "      <td>0</td>\n",
       "      <td>0</td>\n",
       "      <td>0</td>\n",
       "      <td>0</td>\n",
       "      <td>0</td>\n",
       "      <td>0</td>\n",
       "      <td>0</td>\n",
       "      <td>0</td>\n",
       "    </tr>\n",
       "    <tr>\n",
       "      <th>4</th>\n",
       "      <td>0</td>\n",
       "      <td>0</td>\n",
       "      <td>0</td>\n",
       "      <td>0</td>\n",
       "      <td>0</td>\n",
       "      <td>0</td>\n",
       "      <td>0</td>\n",
       "      <td>0</td>\n",
       "      <td>0</td>\n",
       "      <td>0</td>\n",
       "      <td>...</td>\n",
       "      <td>0</td>\n",
       "      <td>0</td>\n",
       "      <td>0</td>\n",
       "      <td>0</td>\n",
       "      <td>0</td>\n",
       "      <td>0</td>\n",
       "      <td>0</td>\n",
       "      <td>0</td>\n",
       "      <td>0</td>\n",
       "      <td>0</td>\n",
       "    </tr>\n",
       "  </tbody>\n",
       "</table>\n",
       "<p>5 rows × 2734 columns</p>\n",
       "</div>"
      ],
      "text/plain": [
       "   #followme  1 Madison  1.State  12 Ami  12.99 Prime Tees  1822 DENIM  \\\n",
       "0          0          0        0       0                 0           0   \n",
       "1          0          0        0       0                 0           0   \n",
       "2          0          0        0       0                 0           0   \n",
       "3          0          0        0       0                 0           0   \n",
       "4          0          0        0       0                 0           0   \n",
       "\n",
       "   2020AVE  2LUV  2ND DATE  2XU   ...     spoear  taigee  uxcell  vadim  \\\n",
       "0        0     0         0    0   ...          0       0       0      0   \n",
       "1        0     0         0    0   ...          0       0       0      0   \n",
       "2        0     0         0    0   ...          0       0       0      0   \n",
       "3        0     0         0    0   ...          0       0       0      0   \n",
       "4        0     0         0    0   ...          0       0       0      0   \n",
       "\n",
       "   virblatt  vs by spursgrl  wanture  yangelo  youvimi  yubinyu  \n",
       "0         0               0        0        0        0        0  \n",
       "1         0               0        0        0        0        0  \n",
       "2         0               0        0        0        0        0  \n",
       "3         0               0        0        0        0        0  \n",
       "4         0               0        0        0        0        0  \n",
       "\n",
       "[5 rows x 2734 columns]"
      ]
     },
     "execution_count": 66,
     "metadata": {},
     "output_type": "execute_result"
    }
   ],
   "source": [
    "X_brand = get_dummies(data[\"brand\"],drop_first=True) ## Why not drop first to reduce feature space ##\n",
    "X_brand.head()"
   ]
  },
  {
   "cell_type": "markdown",
   "metadata": {},
   "source": [
    "### 2.3 Combine brands and product_category"
   ]
  },
  {
   "cell_type": "code",
   "execution_count": 67,
   "metadata": {},
   "outputs": [
    {
     "name": "stdout",
     "output_type": "stream",
     "text": [
      "Shape of feature set (10000, 2782)\n"
     ]
    }
   ],
   "source": [
    "X = concat([X_prod_cat, X_brand], axis=1)\n",
    "print(\"Shape of feature set\", X.shape)"
   ]
  },
  {
   "cell_type": "markdown",
   "metadata": {},
   "source": [
    "### 2.4 Create Label vector"
   ]
  },
  {
   "cell_type": "code",
   "execution_count": 68,
   "metadata": {},
   "outputs": [
    {
     "name": "stdout",
     "output_type": "stream",
     "text": [
      "Shape of label vector (10000,)\n"
     ]
    }
   ],
   "source": [
    "#Y = data[['age', 'gender']].apply(lambda x: LABELS[\"_\".join(x)], axis=1)\n",
    "Y = data[['age', 'gender']].apply(lambda x: \"_\".join(x), axis=1)\n",
    "print(\"Shape of label vector\", Y.shape)"
   ]
  },
  {
   "cell_type": "markdown",
   "metadata": {},
   "source": [
    "## 3. PCA decomposition of feature set"
   ]
  },
  {
   "cell_type": "markdown",
   "metadata": {},
   "source": [
    "### 3.1 Plot cummulative variance vs Components "
   ]
  },
  {
   "cell_type": "code",
   "execution_count": 78,
   "metadata": {},
   "outputs": [],
   "source": [
    "import pandas as pd"
   ]
  },
  {
   "cell_type": "code",
   "execution_count": 87,
   "metadata": {},
   "outputs": [
    {
     "data": {
      "text/html": [
       "<div>\n",
       "<style scoped>\n",
       "    .dataframe tbody tr th:only-of-type {\n",
       "        vertical-align: middle;\n",
       "    }\n",
       "\n",
       "    .dataframe tbody tr th {\n",
       "        vertical-align: top;\n",
       "    }\n",
       "\n",
       "    .dataframe thead th {\n",
       "        text-align: right;\n",
       "    }\n",
       "</style>\n",
       "<table border=\"1\" class=\"dataframe\">\n",
       "  <thead>\n",
       "    <tr style=\"text-align: right;\">\n",
       "      <th></th>\n",
       "      <th>Null values</th>\n",
       "    </tr>\n",
       "  </thead>\n",
       "  <tbody>\n",
       "    <tr>\n",
       "      <th>product_category_1_Womens</th>\n",
       "      <td>0</td>\n",
       "    </tr>\n",
       "    <tr>\n",
       "      <th>product_category_2_Dress Shirts</th>\n",
       "      <td>0</td>\n",
       "    </tr>\n",
       "    <tr>\n",
       "      <th>product_category_2_Dresses</th>\n",
       "      <td>0</td>\n",
       "    </tr>\n",
       "    <tr>\n",
       "      <th>product_category_2_Jeans</th>\n",
       "      <td>0</td>\n",
       "    </tr>\n",
       "    <tr>\n",
       "      <th>product_category_2_Outerwear</th>\n",
       "      <td>0</td>\n",
       "    </tr>\n",
       "  </tbody>\n",
       "</table>\n",
       "</div>"
      ],
      "text/plain": [
       "                                 Null values\n",
       "product_category_1_Womens                  0\n",
       "product_category_2_Dress Shirts            0\n",
       "product_category_2_Dresses                 0\n",
       "product_category_2_Jeans                   0\n",
       "product_category_2_Outerwear               0"
      ]
     },
     "execution_count": 87,
     "metadata": {},
     "output_type": "execute_result"
    }
   ],
   "source": [
    "A = pd.DataFrame({\"Null values\" : X.isnull().sum()})\n",
    "A.head()"
   ]
  },
  {
   "cell_type": "markdown",
   "metadata": {},
   "source": [
    "Ref : https://etav.github.io/python/scikit_pca.html"
   ]
  },
  {
   "cell_type": "code",
   "execution_count": 95,
   "metadata": {},
   "outputs": [
    {
     "data": {
      "image/png": "[encoded data removed]",
      "text/plain": [
       "<Figure size 432x288 with 1 Axes>"
      ]
     },
     "metadata": {},
     "output_type": "display_data"
    },
    {
     "name": "stdout",
     "output_type": "stream",
     "text": [
      "Cumulative Variance to study [0.14226129 0.24281997 0.31558913 ... 1.         1.         1.        ]\n"
     ]
    }
   ],
   "source": [
    "pca = PCA(random_state=100)\n",
    "pca.fit(X)\n",
    "cum_var = pca.explained_variance_ratio_.cumsum()\n",
    "principal_component_ix = [i+1 for i in range(len(cum_var))]\n",
    "plt.title(\"Component Vs Cummalative Variance Ratio\")\n",
    "plt.scatter(principal_component_ix,cum_var,s=5)\n",
    "plt.xlabel(\"Components\")\n",
    "plt.ylabel(\"Cummulative_variance(%)\")\n",
    "plt.title(\"PCA Cumm Variance Vs Components\")\n",
    "plt.show()\n",
    "\n",
    "print(\"Cumulative Variance to study {}\".format(cum_var))\n",
    "\n",
    "#sns.lineplot(x=\"Components\", y=\"Cummulative_variance%\", data=DataFrame({\"Components\": principal_component_ix, \"Cummulative_variance%\": cum_var}))"
   ]
  },
  {
   "cell_type": "code",
   "execution_count": 98,
   "metadata": {},
   "outputs": [],
   "source": [
    "cum_var_df = pd.DataFrame({\"Cum_var\": cum_var})\n",
    "cum_var_df.to_csv(\"Cum_var.csv\")"
   ]
  },
  {
   "cell_type": "markdown",
   "metadata": {},
   "source": [
    "We have 90% variance explained by **815** components\n",
    "\n",
    "**Idea**\n",
    "1. We should have a pipeline which could would on 90%/95% variance with other model tuning paramters, but we can try that later.\n",
    "\n",
    "As of now going with 90% variance aka 815 parameters"
   ]
  },
  {
   "cell_type": "markdown",
   "metadata": {},
   "source": [
    "## 3.2 Encode using PCA"
   ]
  },
  {
   "cell_type": "code",
   "execution_count": 99,
   "metadata": {},
   "outputs": [
    {
     "name": "stdout",
     "output_type": "stream",
     "text": [
      "PCA Reduced data set shape = (10000, 815)\n"
     ]
    },
    {
     "data": {
      "text/html": [
       "<div>\n",
       "<style scoped>\n",
       "    .dataframe tbody tr th:only-of-type {\n",
       "        vertical-align: middle;\n",
       "    }\n",
       "\n",
       "    .dataframe tbody tr th {\n",
       "        vertical-align: top;\n",
       "    }\n",
       "\n",
       "    .dataframe thead th {\n",
       "        text-align: right;\n",
       "    }\n",
       "</style>\n",
       "<table border=\"1\" class=\"dataframe\">\n",
       "  <thead>\n",
       "    <tr style=\"text-align: right;\">\n",
       "      <th></th>\n",
       "      <th>X_0</th>\n",
       "      <th>X_1</th>\n",
       "      <th>X_2</th>\n",
       "      <th>X_3</th>\n",
       "      <th>X_4</th>\n",
       "      <th>X_5</th>\n",
       "      <th>X_6</th>\n",
       "      <th>X_7</th>\n",
       "      <th>X_8</th>\n",
       "      <th>X_9</th>\n",
       "      <th>...</th>\n",
       "      <th>X_805</th>\n",
       "      <th>X_806</th>\n",
       "      <th>X_807</th>\n",
       "      <th>X_808</th>\n",
       "      <th>X_809</th>\n",
       "      <th>X_810</th>\n",
       "      <th>X_811</th>\n",
       "      <th>X_812</th>\n",
       "      <th>X_813</th>\n",
       "      <th>X_814</th>\n",
       "    </tr>\n",
       "  </thead>\n",
       "  <tbody>\n",
       "    <tr>\n",
       "      <th>0</th>\n",
       "      <td>-0.482851</td>\n",
       "      <td>0.765744</td>\n",
       "      <td>0.157949</td>\n",
       "      <td>0.002392</td>\n",
       "      <td>0.023774</td>\n",
       "      <td>-0.038384</td>\n",
       "      <td>-0.087292</td>\n",
       "      <td>0.082749</td>\n",
       "      <td>-0.032191</td>\n",
       "      <td>-0.013024</td>\n",
       "      <td>...</td>\n",
       "      <td>-0.000598</td>\n",
       "      <td>-0.000158</td>\n",
       "      <td>0.001393</td>\n",
       "      <td>0.000230</td>\n",
       "      <td>-0.000120</td>\n",
       "      <td>-0.000128</td>\n",
       "      <td>-0.000730</td>\n",
       "      <td>0.000216</td>\n",
       "      <td>0.000743</td>\n",
       "      <td>-0.000307</td>\n",
       "    </tr>\n",
       "    <tr>\n",
       "      <th>1</th>\n",
       "      <td>-0.480685</td>\n",
       "      <td>0.760461</td>\n",
       "      <td>0.157525</td>\n",
       "      <td>-0.003451</td>\n",
       "      <td>0.025787</td>\n",
       "      <td>-0.036583</td>\n",
       "      <td>-0.083043</td>\n",
       "      <td>0.078961</td>\n",
       "      <td>-0.027839</td>\n",
       "      <td>-0.008227</td>\n",
       "      <td>...</td>\n",
       "      <td>0.000707</td>\n",
       "      <td>-0.002985</td>\n",
       "      <td>-0.000620</td>\n",
       "      <td>0.002789</td>\n",
       "      <td>-0.002686</td>\n",
       "      <td>0.001664</td>\n",
       "      <td>-0.003611</td>\n",
       "      <td>0.001045</td>\n",
       "      <td>-0.002336</td>\n",
       "      <td>0.005671</td>\n",
       "    </tr>\n",
       "    <tr>\n",
       "      <th>2</th>\n",
       "      <td>0.592822</td>\n",
       "      <td>-0.011609</td>\n",
       "      <td>-0.366305</td>\n",
       "      <td>-0.173658</td>\n",
       "      <td>0.212608</td>\n",
       "      <td>0.795445</td>\n",
       "      <td>-0.288967</td>\n",
       "      <td>-0.149569</td>\n",
       "      <td>0.049697</td>\n",
       "      <td>0.033779</td>\n",
       "      <td>...</td>\n",
       "      <td>0.003900</td>\n",
       "      <td>-0.008803</td>\n",
       "      <td>0.006154</td>\n",
       "      <td>0.000488</td>\n",
       "      <td>-0.005329</td>\n",
       "      <td>0.002155</td>\n",
       "      <td>-0.006231</td>\n",
       "      <td>0.000532</td>\n",
       "      <td>0.003961</td>\n",
       "      <td>-0.004513</td>\n",
       "    </tr>\n",
       "    <tr>\n",
       "      <th>3</th>\n",
       "      <td>-0.675202</td>\n",
       "      <td>-0.609552</td>\n",
       "      <td>0.009616</td>\n",
       "      <td>-0.059817</td>\n",
       "      <td>0.203943</td>\n",
       "      <td>-0.028597</td>\n",
       "      <td>-0.040223</td>\n",
       "      <td>-0.040651</td>\n",
       "      <td>-0.062751</td>\n",
       "      <td>-0.001935</td>\n",
       "      <td>...</td>\n",
       "      <td>-0.003463</td>\n",
       "      <td>-0.001474</td>\n",
       "      <td>0.000731</td>\n",
       "      <td>-0.005775</td>\n",
       "      <td>0.000846</td>\n",
       "      <td>-0.003269</td>\n",
       "      <td>0.005386</td>\n",
       "      <td>-0.001769</td>\n",
       "      <td>0.003612</td>\n",
       "      <td>-0.000988</td>\n",
       "    </tr>\n",
       "    <tr>\n",
       "      <th>4</th>\n",
       "      <td>-0.676700</td>\n",
       "      <td>-0.609025</td>\n",
       "      <td>0.009952</td>\n",
       "      <td>-0.059438</td>\n",
       "      <td>0.204349</td>\n",
       "      <td>-0.029188</td>\n",
       "      <td>-0.041607</td>\n",
       "      <td>-0.040178</td>\n",
       "      <td>-0.064028</td>\n",
       "      <td>-0.001761</td>\n",
       "      <td>...</td>\n",
       "      <td>-0.000495</td>\n",
       "      <td>-0.000124</td>\n",
       "      <td>0.000126</td>\n",
       "      <td>-0.000995</td>\n",
       "      <td>0.001998</td>\n",
       "      <td>0.000514</td>\n",
       "      <td>-0.000133</td>\n",
       "      <td>-0.000094</td>\n",
       "      <td>-0.000275</td>\n",
       "      <td>-0.000309</td>\n",
       "    </tr>\n",
       "  </tbody>\n",
       "</table>\n",
       "<p>5 rows × 815 columns</p>\n",
       "</div>"
      ],
      "text/plain": [
       "        X_0       X_1       X_2       X_3       X_4       X_5       X_6  \\\n",
       "0 -0.482851  0.765744  0.157949  0.002392  0.023774 -0.038384 -0.087292   \n",
       "1 -0.480685  0.760461  0.157525 -0.003451  0.025787 -0.036583 -0.083043   \n",
       "2  0.592822 -0.011609 -0.366305 -0.173658  0.212608  0.795445 -0.288967   \n",
       "3 -0.675202 -0.609552  0.009616 -0.059817  0.203943 -0.028597 -0.040223   \n",
       "4 -0.676700 -0.609025  0.009952 -0.059438  0.204349 -0.029188 -0.041607   \n",
       "\n",
       "        X_7       X_8       X_9    ...        X_805     X_806     X_807  \\\n",
       "0  0.082749 -0.032191 -0.013024    ...    -0.000598 -0.000158  0.001393   \n",
       "1  0.078961 -0.027839 -0.008227    ...     0.000707 -0.002985 -0.000620   \n",
       "2 -0.149569  0.049697  0.033779    ...     0.003900 -0.008803  0.006154   \n",
       "3 -0.040651 -0.062751 -0.001935    ...    -0.003463 -0.001474  0.000731   \n",
       "4 -0.040178 -0.064028 -0.001761    ...    -0.000495 -0.000124  0.000126   \n",
       "\n",
       "      X_808     X_809     X_810     X_811     X_812     X_813     X_814  \n",
       "0  0.000230 -0.000120 -0.000128 -0.000730  0.000216  0.000743 -0.000307  \n",
       "1  0.002789 -0.002686  0.001664 -0.003611  0.001045 -0.002336  0.005671  \n",
       "2  0.000488 -0.005329  0.002155 -0.006231  0.000532  0.003961 -0.004513  \n",
       "3 -0.005775  0.000846 -0.003269  0.005386 -0.001769  0.003612 -0.000988  \n",
       "4 -0.000995  0.001998  0.000514 -0.000133 -0.000094 -0.000275 -0.000309  \n",
       "\n",
       "[5 rows x 815 columns]"
      ]
     },
     "execution_count": 99,
     "metadata": {},
     "output_type": "execute_result"
    }
   ],
   "source": [
    "pca_clf = PCA(n_components=815, svd_solver=\"randomized\", random_state=100)\n",
    "reduced_x = pca_clf.fit_transform(X)\n",
    "X = DataFrame(reduced_x, columns=[f'X_{i}' for i in range(reduced_x.shape[1])])\n",
    "print(\"PCA Reduced data set shape =\",X.shape)\n",
    "X.head()"
   ]
  },
  {
   "cell_type": "markdown",
   "metadata": {},
   "source": [
    "## 4. Training and Measurement"
   ]
  },
  {
   "cell_type": "markdown",
   "metadata": {},
   "source": [
    "#### 4.1 Train/Test split ####\n",
    "1. Do not use StratifiedKFold, instead use [train_test_split](https://scikit-learn.org/stable/modules/generated/sklearn.model_selection.train_test_split.html) with stratify option. Build a 80/20 split for training/validation respectively, use some static random_state so that we could reproduce the results when we share the notebook.\n",
    "2. Later on we will use StratifiedKFold on the train set when we use GridSearch."
   ]
  },
  {
   "cell_type": "code",
   "execution_count": null,
   "metadata": {},
   "outputs": [],
   "source": [
    "np.vstack()"
   ]
  },
  {
   "cell_type": "code",
   "execution_count": null,
   "metadata": {},
   "outputs": [],
   "source": [
    "(DataFrame(np.vstack((np.arange(0,Y.shape[0],1),Y)).T,columns=[\"idx\",\"segment\"]).groupby(\"segment\").count()[\"idx\"] / Y.shape[0])*100"
   ]
  },
  {
   "cell_type": "code",
   "execution_count": 52,
   "metadata": {},
   "outputs": [
    {
     "name": "stdout",
     "output_type": "stream",
     "text": [
      "Distribution of data in original data set\n"
     ]
    },
    {
     "data": {
      "text/plain": [
       "segment\n",
       "0-23_F      1.99\n",
       "0-23_M      0.17\n",
       "24-38_F    14.14\n",
       "24-38_M     0.97\n",
       "39-53_F    43.84\n",
       "39-53_M     2.42\n",
       "54-64_F    33.60\n",
       "54-64_M     2.87\n",
       "Name: idx, dtype: float64"
      ]
     },
     "execution_count": 52,
     "metadata": {},
     "output_type": "execute_result"
    }
   ],
   "source": [
    "print(\"Distribution of data in original data set\")\n",
    "(DataFrame(np.vstack((np.arange(0,Y.shape[0],1),Y)).T,columns=[\"idx\",\"segment\"]).groupby(\"segment\").count()[\"idx\"] / Y.shape[0])*100"
   ]
  },
  {
   "cell_type": "code",
   "execution_count": 53,
   "metadata": {},
   "outputs": [
    {
     "name": "stdout",
     "output_type": "stream",
     "text": [
      "Shape of Training Features:: (8000, 815)\n",
      "Shape of Training Labels:: (8000,)\n"
     ]
    }
   ],
   "source": [
    "train_x, test_x, train_y, test_y = train_test_split(X, Y, test_size=0.2, stratify=Y)\n",
    "print(\"Shape of Training Features::\", train_x.shape)\n",
    "print(\"Shape of Training Labels::\", train_y.shape)"
   ]
  },
  {
   "cell_type": "code",
   "execution_count": 54,
   "metadata": {},
   "outputs": [
    {
     "name": "stdout",
     "output_type": "stream",
     "text": [
      "Distribution of segments in train data set\n"
     ]
    },
    {
     "data": {
      "text/plain": [
       "segment\n",
       "0-23_F      1.9875\n",
       "0-23_M      0.1750\n",
       "24-38_F    14.1375\n",
       "24-38_M     0.9625\n",
       "39-53_F    43.8375\n",
       "39-53_M     2.4250\n",
       "54-64_F    33.6000\n",
       "54-64_M     2.8750\n",
       "Name: idx, dtype: float64"
      ]
     },
     "execution_count": 54,
     "metadata": {},
     "output_type": "execute_result"
    }
   ],
   "source": [
    "print(\"Distribution of segments in train data set\")\n",
    "(DataFrame(np.vstack((np.arange(0,train_y.shape[0],1),train_y)).T,columns=[\"idx\",\"segment\"]).groupby(\"segment\").count()[\"idx\"] / train_y.shape[0])*100"
   ]
  },
  {
   "cell_type": "code",
   "execution_count": 55,
   "metadata": {},
   "outputs": [
    {
     "name": "stdout",
     "output_type": "stream",
     "text": [
      "\n",
      " Distribution of segments in test data set\n"
     ]
    },
    {
     "data": {
      "text/plain": [
       "segment\n",
       "0-23_F      2.00\n",
       "0-23_M      0.15\n",
       "24-38_F    14.15\n",
       "24-38_M     1.00\n",
       "39-53_F    43.85\n",
       "39-53_M     2.40\n",
       "54-64_F    33.60\n",
       "54-64_M     2.85\n",
       "Name: idx, dtype: float64"
      ]
     },
     "execution_count": 55,
     "metadata": {},
     "output_type": "execute_result"
    }
   ],
   "source": [
    "print(\"\\n Distribution of segments in test data set\")\n",
    "(DataFrame(np.vstack((np.arange(0,test_y.shape[0],1),test_y)).T,columns=[\"idx\",\"segment\"]).groupby(\"segment\").count()[\"idx\"] / test_y.shape[0])*100"
   ]
  },
  {
   "cell_type": "markdown",
   "metadata": {},
   "source": [
    "#### 4.2 Build K Fold sets \n",
    "1. Build 5 Cross Cross validation using [sklearn.model_selection.StatifiedKFold](https://scikit-learn.org/stable/modules/generated/sklearn.model_selection.StratifiedKFold.html)."
   ]
  },
  {
   "cell_type": "code",
   "execution_count": 56,
   "metadata": {},
   "outputs": [
    {
     "data": {
      "text/plain": [
       "StratifiedKFold(n_splits=5, random_state=100, shuffle=True)"
      ]
     },
     "execution_count": 56,
     "metadata": {},
     "output_type": "execute_result"
    }
   ],
   "source": [
    "skf = StratifiedKFold(n_splits=CROSS_VAL_FOLDS, random_state=100, shuffle=True)\n",
    "skf"
   ]
  },
  {
   "cell_type": "code",
   "execution_count": 57,
   "metadata": {},
   "outputs": [],
   "source": [
    "def calculate_confusion_matrix(y_pred, y_true):\n",
    "    accuracies = []\n",
    "    df = DataFrame(confusion_matrix(y_true, y_pred))\n",
    "    for i in range(8):\n",
    "        actual = df.iloc[i, :].sum()\n",
    "        correct_pred = df.iloc[i, i]\n",
    "        accuracies.append(correct_pred/actual)\n",
    "    return df, accuracies"
   ]
  },
  {
   "cell_type": "markdown",
   "metadata": {},
   "source": [
    "#### 4.3 (Default Logistic Regression)\n",
    "1. By default LR will choose L2 regularization. (Make sure you increase max_iter variable to around 100,000).\n",
    "2. Check avg accuracy on train set and validation set\n",
    "3. Build a proper confusion matrix for with class-wise accuracy details. DO NOT USE multilabel_confusion_matrix. Use standard confusion_matrix and build a dataframe out of it, and provide a row-wise segement based accuracy. Probably you can make a function for this."
   ]
  },
  {
   "cell_type": "code",
   "execution_count": 58,
   "metadata": {},
   "outputs": [],
   "source": [
    "def get_segment_accuracies(y_pred, y_true):\n",
    "    accuracies = []\n",
    "    df = DataFrame(confusion_matrix(y_true, y_pred))\n",
    "    for i in range(8):\n",
    "        actual = df.iloc[i, :].sum()\n",
    "        correct_pred = df.iloc[i, i]\n",
    "        accuracies.append(correct_pred/actual)\n",
    "    return df, accuracies"
   ]
  },
  {
   "cell_type": "code",
   "execution_count": 59,
   "metadata": {},
   "outputs": [
    {
     "name": "stdout",
     "output_type": "stream",
     "text": [
      "Average Training Accuracy =  0.442030411597936\n",
      "Average Testing Accuracy =  0.3037603851409905\n"
     ]
    }
   ],
   "source": [
    "lr_clf = LogisticRegression(multi_class=\"multinomial\"\n",
    "                            , class_weight=\"balanced\"\n",
    "                            , solver=\"lbfgs\"\n",
    "                            , max_iter=100000\n",
    "                            , random_state=100)\n",
    "sum_test_score, sum_train_score = 0, 0\n",
    "for train_ix, test_ix in skf.split(train_x,train_y):\n",
    "    train_x_k, test_x_k = X.iloc[train_ix], X.iloc[test_ix]\n",
    "    train_y_k, test_y_k = Y.iloc[train_ix], Y.iloc[test_ix]\n",
    "\n",
    "    #  1. fit the logit curve on training data\n",
    "    lr_clf.fit(train_x_k, train_y_k)\n",
    "    \n",
    "    # 2. Calculate accuracy scores in each fold\n",
    "    sum_test_score += accuracy_score(test_y_k, lr_clf.predict(test_x_k))\n",
    "    sum_train_score += accuracy_score(train_y_k, lr_clf.predict(train_x_k))\n",
    "\n",
    "print(\"Average Training Accuracy = \", sum_train_score/CROSS_VAL_FOLDS)\n",
    "print(\"Average Testing Accuracy = \", sum_test_score/CROSS_VAL_FOLDS)"
   ]
  },
  {
   "cell_type": "code",
   "execution_count": 1,
   "metadata": {},
   "outputs": [
    {
     "ename": "NameError",
     "evalue": "name 'lr_clf' is not defined",
     "output_type": "error",
     "traceback": [
      "\u001b[1;31m---------------------------------------------------------------------------\u001b[0m",
      "\u001b[1;31mNameError\u001b[0m                                 Traceback (most recent call last)",
      "\u001b[1;32m<ipython-input-1-37b019008db1>\u001b[0m in \u001b[0;36m<module>\u001b[1;34m\u001b[0m\n\u001b[1;32m----> 1\u001b[1;33m \u001b[0mpred_y\u001b[0m \u001b[1;33m=\u001b[0m \u001b[0mlr_clf\u001b[0m\u001b[1;33m.\u001b[0m\u001b[0mpredict\u001b[0m\u001b[1;33m(\u001b[0m\u001b[0mtest_x\u001b[0m\u001b[1;33m)\u001b[0m\u001b[1;33m\u001b[0m\u001b[1;33m\u001b[0m\u001b[0m\n\u001b[0m\u001b[0;32m      2\u001b[0m \u001b[0mcm\u001b[0m\u001b[1;33m,\u001b[0m \u001b[0maccuracies\u001b[0m \u001b[1;33m=\u001b[0m \u001b[0mget_segment_accuracies\u001b[0m\u001b[1;33m(\u001b[0m\u001b[0mtest_y\u001b[0m\u001b[1;33m,\u001b[0m \u001b[0mpred_y\u001b[0m\u001b[1;33m)\u001b[0m\u001b[1;33m\u001b[0m\u001b[1;33m\u001b[0m\u001b[0m\n\u001b[0;32m      3\u001b[0m \u001b[0mprint\u001b[0m\u001b[1;33m(\u001b[0m\u001b[1;34m\"==========================================\"\u001b[0m\u001b[1;33m)\u001b[0m\u001b[1;33m\u001b[0m\u001b[1;33m\u001b[0m\u001b[0m\n\u001b[0;32m      4\u001b[0m \u001b[0mprint\u001b[0m\u001b[1;33m(\u001b[0m\u001b[1;34m\"Confusion Matrix\"\u001b[0m\u001b[1;33m)\u001b[0m\u001b[1;33m\u001b[0m\u001b[1;33m\u001b[0m\u001b[0m\n\u001b[0;32m      5\u001b[0m \u001b[0mprint\u001b[0m\u001b[1;33m(\u001b[0m\u001b[1;34m\"==========================================\"\u001b[0m\u001b[1;33m)\u001b[0m\u001b[1;33m\u001b[0m\u001b[1;33m\u001b[0m\u001b[0m\n",
      "\u001b[1;31mNameError\u001b[0m: name 'lr_clf' is not defined"
     ]
    }
   ],
   "source": [
    "pred_y = lr_clf.predict(test_x)\n",
    "cm, accuracies = get_segment_accuracies(test_y, pred_y)\n",
    "print(\"==========================================\")\n",
    "print(\"Confusion Matrix\")\n",
    "print(\"==========================================\")\n",
    "print(cm)\n",
    "print(\"==========================================\")\n",
    "i = 0\n",
    "for acc in accuracies:\n",
    "    print(\"Accuracy of Segment {} = {:1f}\".format(list(LABELS.keys())[i], acc))\n",
    "    i += 1"
   ]
  },
  {
   "cell_type": "markdown",
   "metadata": {},
   "source": [
    "#### 4.4 (Logistic Regression with L1 Regularization - LASSO)\n",
    "1. Use ```penalty=\"l1\"``` as the option for LogisticRegression\n",
    "2. Do a 5-Cross Cross validation. See below for example\n",
    "      - Parameter ranges given below \n",
    "  \n",
    "      ``` param_l1_lr = { \"C\" = np.linspace(0.01,1.0,50) }```\n",
    "  \n",
    "      - Example\n",
    "      ```\n",
    "      lasso_model = LogisticRegression(penalty='l1')\n",
    "      fold = StratifiedKFold(n_splits=5,shuffle=True,random_state=100)\n",
    "      params = {\"C\" : np.linspace(0.01,1.0,50)}\n",
    "      grid = GridSearchCV(estimator=lasso_model,\n",
    "                          param_grid=params,\n",
    "                          scoring=\"accuracy\",\n",
    "                          cv=fold,\n",
    "                          verbose=1,\n",
    "                          return_train_score=True,\n",
    "                          n_jobs=-1)\n",
    "      grid.fit(X_train_churn_detect_pca,Y_train_churn_detect)\n",
    "      ```\n",
    "3. Build a proper train_accuracy & test_accuracy graph Vs C value\n",
    "4. Check what the graph is saying and what does the ```grid.best_params_``` is giving.\n",
    "5. Select an appropriate parameter\n",
    "6. Build a final LR object with ```LogisticRegression(penalty=\"l1\", C=<selected_param>)``` and check training and validation avg accuracy. Also build the confusion_matrix and ```segment``` wise accuracy values."
   ]
  },
  {
   "cell_type": "code",
   "execution_count": 61,
   "metadata": {},
   "outputs": [],
   "source": [
    "# grid search is not converging for even a single fit\n",
    "# Multinomail LR with L1 regularization is supported only by 'saga' solver\n",
    "# training is taking a lot of time\n",
    "\n",
    "\n",
    "##########################################################\n",
    "#param_l1_lr = {\"C\" : np.linspace(0.01,1.0,50)}\n",
    "#lr_clf_l1 = LogisticRegression(multi_class=\"multinomial\"\n",
    "#                            , class_weight=\"balanced\"\n",
    "#                            , solver=\"saga\"\n",
    "#                            , max_iter=100000\n",
    "#                            , random_state=100\n",
    "#                            , penalty=\"l1\")\n",
    "#grid_search_clf_l1 = GridSearchCV(estimator=lr_clf_l1  \n",
    "#                              , param_grid=param_l1_lr\n",
    "#                              , scoring='accuracy'\n",
    "#                              , verbose=1\n",
    "#                              , cv=CROSS_VAL_FOLDS\n",
    "#                              , n_jobs=-1)\n",
    "#print(\"Starting Grid search..........\")\n",
    "#grid_search_clf_l1.fit(train_x, train_y)\n",
    "#print(\"Grid Search completed!!!!!\")"
   ]
  },
  {
   "cell_type": "markdown",
   "metadata": {},
   "source": [
    "#### 4.4 (Logistic Regression with L2 regularization - RIDGE)\n",
    "1. Use similar steps described above for L2 also. Parameter tuning information provided below\n",
    "     \n",
    "     ``` param_l2_lr = { \"C\" = np.linspace(0.01,1.0,50) }```"
   ]
  },
  {
   "cell_type": "code",
   "execution_count": 62,
   "metadata": {},
   "outputs": [
    {
     "name": "stdout",
     "output_type": "stream",
     "text": [
      "Starting Grid search..........\n",
      "Fitting 5 folds for each of 50 candidates, totalling 250 fits\n"
     ]
    },
    {
     "name": "stderr",
     "output_type": "stream",
     "text": [
      "[Parallel(n_jobs=-1)]: Done  42 tasks      | elapsed:  1.0min\n",
      "[Parallel(n_jobs=-1)]: Done 192 tasks      | elapsed:  7.7min\n",
      "[Parallel(n_jobs=-1)]: Done 250 out of 250 | elapsed: 10.9min finished\n"
     ]
    },
    {
     "name": "stdout",
     "output_type": "stream",
     "text": [
      "Grid Search completed!!!!!\n"
     ]
    }
   ],
   "source": [
    "param_l2_lr = {\"C\" : np.linspace(0.01,1.0,50)}\n",
    "lr_clf_l2 = LogisticRegression(multi_class=\"multinomial\"\n",
    "                            , class_weight=\"balanced\"\n",
    "                            , solver=\"lbfgs\"\n",
    "                            , max_iter=100000\n",
    "                            , random_state=100\n",
    "                            , penalty=\"l2\")\n",
    "grid_search_clf_l2 = GridSearchCV(estimator=lr_clf_l2  \n",
    "                              , param_grid=param_l2_lr\n",
    "                              , scoring='accuracy'\n",
    "                              , verbose=1\n",
    "                              , cv=CROSS_VAL_FOLDS\n",
    "                              , n_jobs=-1)\n",
    "print(\"Starting Grid search..........\")\n",
    "grid_search_clf_l2.fit(train_x, train_y)\n",
    "print(\"Grid Search completed!!!!!\")"
   ]
  },
  {
   "cell_type": "code",
   "execution_count": 66,
   "metadata": {},
   "outputs": [
    {
     "ename": "AttributeError",
     "evalue": "module 'seaborn' has no attribute 'scatterplot'",
     "output_type": "error",
     "traceback": [
      "\u001b[1;31m---------------------------------------------------------------------------\u001b[0m",
      "\u001b[1;31mAttributeError\u001b[0m                            Traceback (most recent call last)",
      "\u001b[1;32m<ipython-input-66-7cf30d5b18af>\u001b[0m in \u001b[0;36m<module>\u001b[1;34m\u001b[0m\n\u001b[0;32m      5\u001b[0m \u001b[0mdf\u001b[0m \u001b[1;33m=\u001b[0m \u001b[0mdf\u001b[0m\u001b[1;33m.\u001b[0m\u001b[0mmelt\u001b[0m\u001b[1;33m(\u001b[0m\u001b[1;34m'C'\u001b[0m\u001b[1;33m,\u001b[0m \u001b[0mvar_name\u001b[0m\u001b[1;33m=\u001b[0m\u001b[1;34m'cols'\u001b[0m\u001b[1;33m,\u001b[0m  \u001b[0mvalue_name\u001b[0m\u001b[1;33m=\u001b[0m\u001b[1;34m'vals'\u001b[0m\u001b[1;33m)\u001b[0m\u001b[1;33m\u001b[0m\u001b[0m\n\u001b[0;32m      6\u001b[0m \u001b[0mplt\u001b[0m\u001b[1;33m.\u001b[0m\u001b[0mtitle\u001b[0m\u001b[1;33m(\u001b[0m\u001b[1;34m\"L2 Penalty vs score plot\"\u001b[0m\u001b[1;33m)\u001b[0m\u001b[1;33m\u001b[0m\u001b[0m\n\u001b[1;32m----> 7\u001b[1;33m \u001b[0msns\u001b[0m\u001b[1;33m.\u001b[0m\u001b[0mscatterplot\u001b[0m\u001b[1;33m(\u001b[0m\u001b[0mx\u001b[0m\u001b[1;33m=\u001b[0m\u001b[1;34m\"C\"\u001b[0m\u001b[1;33m,\u001b[0m \u001b[0my\u001b[0m\u001b[1;33m=\u001b[0m\u001b[1;34m\"vals\"\u001b[0m\u001b[1;33m,\u001b[0m \u001b[0mhue\u001b[0m\u001b[1;33m=\u001b[0m\u001b[1;34m'cols'\u001b[0m\u001b[1;33m,\u001b[0m \u001b[0mdata\u001b[0m\u001b[1;33m=\u001b[0m\u001b[0mdf\u001b[0m\u001b[1;33m)\u001b[0m\u001b[1;33m\u001b[0m\u001b[0m\n\u001b[0m\u001b[0;32m      8\u001b[0m \u001b[0mplt\u001b[0m\u001b[1;33m.\u001b[0m\u001b[0mxlabel\u001b[0m\u001b[1;33m(\u001b[0m\u001b[1;34m\"C\"\u001b[0m\u001b[1;33m)\u001b[0m\u001b[1;33m\u001b[0m\u001b[0m\n\u001b[0;32m      9\u001b[0m \u001b[0mplt\u001b[0m\u001b[1;33m.\u001b[0m\u001b[0mylabel\u001b[0m\u001b[1;33m(\u001b[0m\u001b[1;34m\"Score\"\u001b[0m\u001b[1;33m)\u001b[0m\u001b[1;33m\u001b[0m\u001b[0m\n",
      "\u001b[1;31mAttributeError\u001b[0m: module 'seaborn' has no attribute 'scatterplot'"
     ]
    },
    {
     "data": {
      "image/png": "[encoded data removed]",
      "text/plain": [
       "<matplotlib.figure.Figure at 0xbdaff96978>"
      ]
     },
     "metadata": {
      "needs_background": "light"
     },
     "output_type": "display_data"
    }
   ],
   "source": [
    "mean_train_score = grid_search_clf_l2.cv_results_[\"mean_train_score\"]\n",
    "mean_test_score = grid_search_clf_l2.cv_results_[\"mean_test_score\"]\n",
    "C_val = [p[\"C\"] for p in grid_search_clf_l2.cv_results_[\"params\"]]\n",
    "df = DataFrame({\"train_score\":mean_train_score, \"test_score\": mean_test_score, \"C\": C_val})\n",
    "df = df.melt('C', var_name='cols',  value_name='vals')\n",
    "plt.title(\"L2 Penalty vs score plot\")\n",
    "sns.scatterplot(x=\"C\", y=\"vals\", hue='cols', data=df)\n",
    "plt.xlabel(\"C\")\n",
    "plt.ylabel(\"Score\")\n",
    "plt.show()"
   ]
  },
  {
   "cell_type": "markdown",
   "metadata": {},
   "source": [
    "<p style=\"color:red\">There seems to be some problem with my seaborn package, I am working on it. For the time being, plotting graph with native matplotlib</p>"
   ]
  },
  {
   "cell_type": "code",
   "execution_count": 70,
   "metadata": {},
   "outputs": [
    {
     "name": "stdout",
     "output_type": "stream",
     "text": [
      "Best Value of C chosen by GS =  {'C': 1.0}\n"
     ]
    }
   ],
   "source": [
    "print(\"Best Value of C chosen by GS = \", grid_search_clf_l2.best_params_)"
   ]
  },
  {
   "cell_type": "code",
   "execution_count": 77,
   "metadata": {},
   "outputs": [
    {
     "name": "stderr",
     "output_type": "stream",
     "text": [
      "c:\\program files\\python36\\lib\\site-packages\\sklearn\\utils\\deprecation.py:122: FutureWarning: You are accessing a training score ('mean_train_score'), which will not be available by default any more in 0.21. If you need training scores, please set return_train_score=True\n",
      "  warnings.warn(*warn_args, **warn_kwargs)\n"
     ]
    },
    {
     "data": {
      "image/png": "[encoded data removed]",
      "text/plain": [
       "<matplotlib.figure.Figure at 0xbd80673c88>"
      ]
     },
     "metadata": {
      "needs_background": "light"
     },
     "output_type": "display_data"
    }
   ],
   "source": [
    "plt.scatter(grid_search_clf_l2.param_grid[\"C\"],grid_search_clf_l2.cv_results_[\"mean_train_score\"],s=3)\n",
    "plt.scatter(grid_search_clf_l2.param_grid[\"C\"],grid_search_clf_l2.cv_results_[\"mean_test_score\"],s=3)\n",
    "plt.legend([\"train_score\",\"test_score\"])\n",
    "plt.xlabel(\"C\")\n",
    "plt.ylabel(\"Accuracy\")\n",
    "plt.title(\"Multinomial - LBFGS - L2 Penalty - Cross Validation\")\n",
    "plt.show()"
   ]
  },
  {
   "cell_type": "code",
   "execution_count": 87,
   "metadata": {},
   "outputs": [
    {
     "name": "stdout",
     "output_type": "stream",
     "text": [
      "Starting Grid search..........\n",
      "Fitting 5 folds for each of 50 candidates, totalling 250 fits\n"
     ]
    },
    {
     "name": "stderr",
     "output_type": "stream",
     "text": [
      "[Parallel(n_jobs=-1)]: Done  42 tasks      | elapsed:  4.3min\n",
      "[Parallel(n_jobs=-1)]: Done 192 tasks      | elapsed: 26.8min\n",
      "[Parallel(n_jobs=-1)]: Done 250 out of 250 | elapsed: 36.6min finished\n"
     ]
    },
    {
     "name": "stdout",
     "output_type": "stream",
     "text": [
      "Grid Search completed!!!!!\n"
     ]
    }
   ],
   "source": [
    "param_l2_lr = {\"C\" : np.linspace(0.01,1.0,50)}\n",
    "lr_clf_l2 = LogisticRegression(multi_class=\"ovr\"\n",
    "                            , class_weight=\"balanced\"\n",
    "                            , solver=\"liblinear\"               # liblinear will limit to 1 thread, I think we should use \"saga\" because it supports L1 penalty also\n",
    "                            , max_iter=100000\n",
    "                            , random_state=100\n",
    "                            , penalty=\"l2\")\n",
    "grid_search_clf_l2 = GridSearchCV(estimator=lr_clf_l2  \n",
    "                              , param_grid=param_l2_lr\n",
    "                              , scoring='accuracy'\n",
    "                              , verbose=1\n",
    "                              , cv=CROSS_VAL_FOLDS\n",
    "                              , n_jobs=-1)\n",
    "print(\"Starting Grid search..........\")\n",
    "grid_search_clf_l2.fit(train_x, train_y)\n",
    "print(\"Grid Search completed!!!!!\")"
   ]
  },
  {
   "cell_type": "code",
   "execution_count": 88,
   "metadata": {},
   "outputs": [
    {
     "name": "stderr",
     "output_type": "stream",
     "text": [
      "c:\\program files\\python36\\lib\\site-packages\\sklearn\\utils\\deprecation.py:122: FutureWarning: You are accessing a training score ('mean_train_score'), which will not be available by default any more in 0.21. If you need training scores, please set return_train_score=True\n",
      "  warnings.warn(*warn_args, **warn_kwargs)\n"
     ]
    },
    {
     "data": {
      "image/png": "[encoded data removed]",
      "text/plain": [
       "<matplotlib.figure.Figure at 0xbd82533cf8>"
      ]
     },
     "metadata": {
      "needs_background": "light"
     },
     "output_type": "display_data"
    }
   ],
   "source": [
    "plt.scatter(grid_search_clf_l2.param_grid[\"C\"],grid_search_clf_l2.cv_results_[\"mean_train_score\"],s=3)\n",
    "plt.scatter(grid_search_clf_l2.param_grid[\"C\"],grid_search_clf_l2.cv_results_[\"mean_test_score\"],s=3)\n",
    "plt.legend([\"train_score\",\"test_score\"])\n",
    "plt.show()"
   ]
  },
  {
   "cell_type": "code",
   "execution_count": 89,
   "metadata": {},
   "outputs": [
    {
     "name": "stdout",
     "output_type": "stream",
     "text": [
      "0.4625\n",
      "{'C': 0.01}\n"
     ]
    }
   ],
   "source": [
    "print(grid_search_clf_l2.best_score_)\n",
    "print(grid_search_clf_l2.best_params_)"
   ]
  },
  {
   "cell_type": "code",
   "execution_count": 90,
   "metadata": {},
   "outputs": [
    {
     "name": "stdout",
     "output_type": "stream",
     "text": [
      "Average Training Accuracy =  0.47190700740749686\n",
      "Average Testing Accuracy =  0.4605107891196882\n"
     ]
    }
   ],
   "source": [
    "lr_clf_regularised_l2 = LogisticRegression(multi_class=\"ovr\"\n",
    "                                        , class_weight=\"balanced\"\n",
    "                                        , solver=\"liblinear\"\n",
    "                                        , max_iter=100000\n",
    "                                        , random_state=100\n",
    "                                        , C=0.01)\n",
    "sum_test_score_l2_reg, sum_train_score_l2_reg = 0, 0\n",
    "for train_ix, test_ix in skf.split(train_x,train_y):\n",
    "    train_x_k, test_x_k = X.iloc[train_ix], X.iloc[test_ix]\n",
    "    train_y_k, test_y_k = Y.iloc[train_ix], Y.iloc[test_ix]\n",
    "\n",
    "    #  1. fit the logit curve on training data\n",
    "    lr_clf_regularised_l2.fit(train_x_k, train_y_k)\n",
    "    \n",
    "    # 2. Calculate accuracy scores in each fold\n",
    "    sum_test_score_l2_reg += accuracy_score(test_y_k, lr_clf_regularised_l2.predict(test_x_k))\n",
    "    sum_train_score_l2_reg += accuracy_score(train_y_k, lr_clf_regularised_l2.predict(train_x_k))\n",
    "\n",
    "print(\"Average Training Accuracy = \", sum_train_score_l2_reg/CROSS_VAL_FOLDS)\n",
    "print(\"Average Testing Accuracy = \", sum_test_score_l2_reg/CROSS_VAL_FOLDS)"
   ]
  },
  {
   "cell_type": "code",
   "execution_count": 122,
   "metadata": {},
   "outputs": [],
   "source": [
    "pred_y = lr_clf_regularised_l2.predict(test_x)"
   ]
  },
  {
   "cell_type": "code",
   "execution_count": 123,
   "metadata": {},
   "outputs": [
    {
     "data": {
      "text/html": [
       "<div>\n",
       "<style>\n",
       "    .dataframe thead tr:only-child th {\n",
       "        text-align: right;\n",
       "    }\n",
       "\n",
       "    .dataframe thead th {\n",
       "        text-align: left;\n",
       "    }\n",
       "\n",
       "    .dataframe tbody tr th {\n",
       "        vertical-align: top;\n",
       "    }\n",
       "</style>\n",
       "<table border=\"1\" class=\"dataframe\">\n",
       "  <thead>\n",
       "    <tr style=\"text-align: right;\">\n",
       "      <th></th>\n",
       "      <th>54-64_F_Pred</th>\n",
       "      <th>24-38_F_Pred</th>\n",
       "      <th>39-53_F_Pred</th>\n",
       "      <th>54-64_M_Pred</th>\n",
       "      <th>24-38_M_Pred</th>\n",
       "      <th>39-53_M_Pred</th>\n",
       "      <th>0-23_F_Pred</th>\n",
       "      <th>0-23_M_Pred</th>\n",
       "      <th>Total</th>\n",
       "      <th>Accuracy</th>\n",
       "    </tr>\n",
       "  </thead>\n",
       "  <tbody>\n",
       "    <tr>\n",
       "      <th>54-64_F_Actual</th>\n",
       "      <td>50</td>\n",
       "      <td>0</td>\n",
       "      <td>622</td>\n",
       "      <td>0</td>\n",
       "      <td>0</td>\n",
       "      <td>0</td>\n",
       "      <td>0</td>\n",
       "      <td>0</td>\n",
       "      <td>672</td>\n",
       "      <td>0.074405</td>\n",
       "    </tr>\n",
       "    <tr>\n",
       "      <th>24-38_F_Actual</th>\n",
       "      <td>16</td>\n",
       "      <td>0</td>\n",
       "      <td>267</td>\n",
       "      <td>0</td>\n",
       "      <td>0</td>\n",
       "      <td>0</td>\n",
       "      <td>0</td>\n",
       "      <td>0</td>\n",
       "      <td>283</td>\n",
       "      <td>0.000000</td>\n",
       "    </tr>\n",
       "    <tr>\n",
       "      <th>39-53_F_Actual</th>\n",
       "      <td>42</td>\n",
       "      <td>0</td>\n",
       "      <td>834</td>\n",
       "      <td>0</td>\n",
       "      <td>0</td>\n",
       "      <td>0</td>\n",
       "      <td>0</td>\n",
       "      <td>1</td>\n",
       "      <td>877</td>\n",
       "      <td>0.950969</td>\n",
       "    </tr>\n",
       "    <tr>\n",
       "      <th>54-64_M_Actual</th>\n",
       "      <td>0</td>\n",
       "      <td>0</td>\n",
       "      <td>0</td>\n",
       "      <td>39</td>\n",
       "      <td>3</td>\n",
       "      <td>10</td>\n",
       "      <td>0</td>\n",
       "      <td>5</td>\n",
       "      <td>57</td>\n",
       "      <td>0.684211</td>\n",
       "    </tr>\n",
       "    <tr>\n",
       "      <th>24-38_M_Actual</th>\n",
       "      <td>0</td>\n",
       "      <td>0</td>\n",
       "      <td>0</td>\n",
       "      <td>13</td>\n",
       "      <td>1</td>\n",
       "      <td>5</td>\n",
       "      <td>0</td>\n",
       "      <td>1</td>\n",
       "      <td>20</td>\n",
       "      <td>0.050000</td>\n",
       "    </tr>\n",
       "    <tr>\n",
       "      <th>39-53_M_Actual</th>\n",
       "      <td>0</td>\n",
       "      <td>0</td>\n",
       "      <td>0</td>\n",
       "      <td>29</td>\n",
       "      <td>0</td>\n",
       "      <td>18</td>\n",
       "      <td>0</td>\n",
       "      <td>1</td>\n",
       "      <td>48</td>\n",
       "      <td>0.375000</td>\n",
       "    </tr>\n",
       "    <tr>\n",
       "      <th>0-23_F_Actual</th>\n",
       "      <td>1</td>\n",
       "      <td>0</td>\n",
       "      <td>39</td>\n",
       "      <td>0</td>\n",
       "      <td>0</td>\n",
       "      <td>0</td>\n",
       "      <td>0</td>\n",
       "      <td>0</td>\n",
       "      <td>40</td>\n",
       "      <td>0.000000</td>\n",
       "    </tr>\n",
       "    <tr>\n",
       "      <th>0-23_M_Actual</th>\n",
       "      <td>0</td>\n",
       "      <td>0</td>\n",
       "      <td>0</td>\n",
       "      <td>1</td>\n",
       "      <td>0</td>\n",
       "      <td>0</td>\n",
       "      <td>0</td>\n",
       "      <td>2</td>\n",
       "      <td>3</td>\n",
       "      <td>0.666667</td>\n",
       "    </tr>\n",
       "  </tbody>\n",
       "</table>\n",
       "</div>"
      ],
      "text/plain": [
       "                54-64_F_Pred  24-38_F_Pred  39-53_F_Pred  54-64_M_Pred  \\\n",
       "54-64_F_Actual            50             0           622             0   \n",
       "24-38_F_Actual            16             0           267             0   \n",
       "39-53_F_Actual            42             0           834             0   \n",
       "54-64_M_Actual             0             0             0            39   \n",
       "24-38_M_Actual             0             0             0            13   \n",
       "39-53_M_Actual             0             0             0            29   \n",
       "0-23_F_Actual              1             0            39             0   \n",
       "0-23_M_Actual              0             0             0             1   \n",
       "\n",
       "                24-38_M_Pred  39-53_M_Pred  0-23_F_Pred  0-23_M_Pred  Total  \\\n",
       "54-64_F_Actual             0             0            0            0    672   \n",
       "24-38_F_Actual             0             0            0            0    283   \n",
       "39-53_F_Actual             0             0            0            1    877   \n",
       "54-64_M_Actual             3            10            0            5     57   \n",
       "24-38_M_Actual             1             5            0            1     20   \n",
       "39-53_M_Actual             0            18            0            1     48   \n",
       "0-23_F_Actual              0             0            0            0     40   \n",
       "0-23_M_Actual              0             0            0            2      3   \n",
       "\n",
       "                Accuracy  \n",
       "54-64_F_Actual  0.074405  \n",
       "24-38_F_Actual  0.000000  \n",
       "39-53_F_Actual  0.950969  \n",
       "54-64_M_Actual  0.684211  \n",
       "24-38_M_Actual  0.050000  \n",
       "39-53_M_Actual  0.375000  \n",
       "0-23_F_Actual   0.000000  \n",
       "0-23_M_Actual   0.666667  "
      ]
     },
     "execution_count": 123,
     "metadata": {},
     "output_type": "execute_result"
    }
   ],
   "source": [
    "cm_pd = DataFrame(confusion_matrix(test_y,pred_y,labels=test_y.unique()),\n",
    "             index = [x + \"_Actual\" for x in test_y.unique()],\n",
    "             columns = [x + \"_Pred\" for x in test_y.unique()])\n",
    "cm_pd = cm_pd.assign(Total = [cm_pd.iloc[x,:].sum() for x in range(0,len(cm_pd.columns),1)])\n",
    "cm_pd = cm_pd.assign(Accuracy = [cm_pd.iloc[x,x] / cm_pd.iloc[x,0:len(cm_pd.columns)-1].sum() for x in range(0,len(cm_pd.columns)-1,1)])\n",
    "cm_pd"
   ]
  },
  {
   "cell_type": "code",
   "execution_count": 114,
   "metadata": {},
   "outputs": [
    {
     "data": {
      "text/plain": [
       "0.472"
      ]
     },
     "execution_count": 114,
     "metadata": {},
     "output_type": "execute_result"
    }
   ],
   "source": [
    "accuracy_score(test_y,pred_y)"
   ]
  },
  {
   "cell_type": "markdown",
   "metadata": {},
   "source": [
    "Strategy to be followed now onwards\n",
    "1. LR (using L1 regularization)\n",
    "2. Build DT model\n",
    "3. Build RF model\n",
    "\n",
    "Tree based model may do much better over here.\n",
    "Subsequently, we can also use AdaBoost over DT model, and \"intuitively\" we may have a good model."
   ]
  },
  {
   "cell_type": "code",
   "execution_count": null,
   "metadata": {},
   "outputs": [],
   "source": []
  }
 ],
 "metadata": {
  "kernelspec": {
   "display_name": "Python 3",
   "language": "python",
   "name": "python3"
  },
  "language_info": {
   "codemirror_mode": {
    "name": "ipython",
    "version": 3
   },
   "file_extension": ".py",
   "mimetype": "text/x-python",
   "name": "python",
   "nbconvert_exporter": "python",
   "pygments_lexer": "ipython3",
   "version": "3.7.0"
  }
 },
 "nbformat": 4,
 "nbformat_minor": 2
}
