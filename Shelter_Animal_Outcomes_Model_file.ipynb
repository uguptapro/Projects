{
  "nbformat": 4,
  "nbformat_minor": 0,
  "metadata": {
    "colab": {
      "name": "Model file",
      "version": "0.3.2",
      "provenance": []
    },
    "kernelspec": {
      "display_name": "Python 3",
      "language": "python",
      "name": "python3"
    }
  },
  "cells": [
    {
      "metadata": {
        "id": "IwofXa9kEv6S",
        "colab_type": "code",
        "colab": {}
      },
      "cell_type": "code",
      "source": [
        "import pandas as pd\n",
        "import matplotlib.pyplot as plt\n",
        "import numpy as np\n",
        "import seaborn as sns\n",
        "%matplotlib inline\n",
        "plt.style.use(\"fivethirtyeight\")\n"
      ],
      "execution_count": 0,
      "outputs": []
    },
    {
      "metadata": {
        "id": "Yapy4eepEv6W",
        "colab_type": "code",
        "colab": {}
      },
      "cell_type": "code",
      "source": [
        "df_train = pd.read_csv(\"../Datasets/Animal State Prediction - dataset/train.csv\")\n",
        "df_test= pd.read_csv(\"../Datasets/Animal State Prediction - dataset/test.csv\")\n",
        "\n",
        "df_merged = pd.concat(objs=[df_train,df_test],axis=0,ignore_index=False).sort_values(by=\"animal_id_outcome\")\n"
      ],
      "execution_count": 0,
      "outputs": []
    },
    {
      "metadata": {
        "id": "8bGerQuDEv6b",
        "colab_type": "code",
        "colab": {
          "base_uri": "https://localhost:8080/",
          "height": 338
        },
        "outputId": "30c7249f-02ad-4ba2-b840-f6f1232c20e8"
      },
      "cell_type": "code",
      "source": [
        "df_merged.head()"
      ],
      "execution_count": 8,
      "outputs": [
        {
          "output_type": "execute_result",
          "data": {
            "text/html": [
              "<div>\n",
              "<style scoped>\n",
              "    .dataframe tbody tr th:only-of-type {\n",
              "        vertical-align: middle;\n",
              "    }\n",
              "\n",
              "    .dataframe tbody tr th {\n",
              "        vertical-align: top;\n",
              "    }\n",
              "\n",
              "    .dataframe thead th {\n",
              "        text-align: right;\n",
              "    }\n",
              "</style>\n",
              "<table border=\"1\" class=\"dataframe\">\n",
              "  <thead>\n",
              "    <tr style=\"text-align: right;\">\n",
              "      <th></th>\n",
              "      <th>age_upon_intake</th>\n",
              "      <th>age_upon_intake_(days)</th>\n",
              "      <th>age_upon_intake_(years)</th>\n",
              "      <th>age_upon_intake_age_group</th>\n",
              "      <th>age_upon_outcome</th>\n",
              "      <th>age_upon_outcome_(days)</th>\n",
              "      <th>age_upon_outcome_(years)</th>\n",
              "      <th>age_upon_outcome_age_group</th>\n",
              "      <th>animal_id_outcome</th>\n",
              "      <th>animal_type</th>\n",
              "      <th>...</th>\n",
              "      <th>outcome_month</th>\n",
              "      <th>outcome_monthyear</th>\n",
              "      <th>outcome_number</th>\n",
              "      <th>outcome_type</th>\n",
              "      <th>outcome_weekday</th>\n",
              "      <th>outcome_year</th>\n",
              "      <th>sex_upon_intake</th>\n",
              "      <th>sex_upon_outcome</th>\n",
              "      <th>time_in_shelter</th>\n",
              "      <th>time_in_shelter_days</th>\n",
              "    </tr>\n",
              "  </thead>\n",
              "  <tbody>\n",
              "    <tr>\n",
              "      <th>0</th>\n",
              "      <td>10 years</td>\n",
              "      <td>3650</td>\n",
              "      <td>10.0</td>\n",
              "      <td>(7.5, 10.0]</td>\n",
              "      <td>10 years</td>\n",
              "      <td>3650</td>\n",
              "      <td>10.0</td>\n",
              "      <td>(7.5, 10.0]</td>\n",
              "      <td>A006100</td>\n",
              "      <td>Dog</td>\n",
              "      <td>...</td>\n",
              "      <td>12</td>\n",
              "      <td>2017-12</td>\n",
              "      <td>1.0</td>\n",
              "      <td>Return to Owner</td>\n",
              "      <td>Thursday</td>\n",
              "      <td>2017</td>\n",
              "      <td>Neutered Male</td>\n",
              "      <td>Neutered Male</td>\n",
              "      <td>0 days 14:07:00.000000000</td>\n",
              "      <td>0.588194</td>\n",
              "    </tr>\n",
              "    <tr>\n",
              "      <th>1</th>\n",
              "      <td>7 years</td>\n",
              "      <td>2555</td>\n",
              "      <td>7.0</td>\n",
              "      <td>(5.0, 7.5]</td>\n",
              "      <td>7 years</td>\n",
              "      <td>2555</td>\n",
              "      <td>7.0</td>\n",
              "      <td>(5.0, 7.5]</td>\n",
              "      <td>A006100</td>\n",
              "      <td>Dog</td>\n",
              "      <td>...</td>\n",
              "      <td>12</td>\n",
              "      <td>2014-12</td>\n",
              "      <td>2.0</td>\n",
              "      <td>Return to Owner</td>\n",
              "      <td>Saturday</td>\n",
              "      <td>2014</td>\n",
              "      <td>Neutered Male</td>\n",
              "      <td>Neutered Male</td>\n",
              "      <td>1 days 06:14:00.000000000</td>\n",
              "      <td>1.259722</td>\n",
              "    </tr>\n",
              "    <tr>\n",
              "      <th>2</th>\n",
              "      <td>6 years</td>\n",
              "      <td>2190</td>\n",
              "      <td>6.0</td>\n",
              "      <td>(5.0, 7.5]</td>\n",
              "      <td>6 years</td>\n",
              "      <td>2190</td>\n",
              "      <td>6.0</td>\n",
              "      <td>(5.0, 7.5]</td>\n",
              "      <td>A006100</td>\n",
              "      <td>Dog</td>\n",
              "      <td>...</td>\n",
              "      <td>3</td>\n",
              "      <td>2014-03</td>\n",
              "      <td>3.0</td>\n",
              "      <td>Return to Owner</td>\n",
              "      <td>Saturday</td>\n",
              "      <td>2014</td>\n",
              "      <td>Neutered Male</td>\n",
              "      <td>Neutered Male</td>\n",
              "      <td>1 days 02:44:00.000000000</td>\n",
              "      <td>1.113889</td>\n",
              "    </tr>\n",
              "    <tr>\n",
              "      <th>3</th>\n",
              "      <td>10 years</td>\n",
              "      <td>3650</td>\n",
              "      <td>10.0</td>\n",
              "      <td>(7.5, 10.0]</td>\n",
              "      <td>10 years</td>\n",
              "      <td>3650</td>\n",
              "      <td>10.0</td>\n",
              "      <td>(7.5, 10.0]</td>\n",
              "      <td>A047759</td>\n",
              "      <td>Dog</td>\n",
              "      <td>...</td>\n",
              "      <td>4</td>\n",
              "      <td>2014-04</td>\n",
              "      <td>1.0</td>\n",
              "      <td>Missing</td>\n",
              "      <td>Monday</td>\n",
              "      <td>2014</td>\n",
              "      <td>Neutered Male</td>\n",
              "      <td>Neutered Male</td>\n",
              "      <td>4 days 23:17:00.000000000</td>\n",
              "      <td>4.970139</td>\n",
              "    </tr>\n",
              "    <tr>\n",
              "      <th>4</th>\n",
              "      <td>16 years</td>\n",
              "      <td>5840</td>\n",
              "      <td>16.0</td>\n",
              "      <td>(15.0, 17.5]</td>\n",
              "      <td>16 years</td>\n",
              "      <td>5840</td>\n",
              "      <td>16.0</td>\n",
              "      <td>(15.0, 17.5]</td>\n",
              "      <td>A134067</td>\n",
              "      <td>Dog</td>\n",
              "      <td>...</td>\n",
              "      <td>11</td>\n",
              "      <td>2013-11</td>\n",
              "      <td>1.0</td>\n",
              "      <td>Return to Owner</td>\n",
              "      <td>Saturday</td>\n",
              "      <td>2013</td>\n",
              "      <td>Neutered Male</td>\n",
              "      <td>Neutered Male</td>\n",
              "      <td>0 days 02:52:00.000000000</td>\n",
              "      <td>0.119444</td>\n",
              "    </tr>\n",
              "  </tbody>\n",
              "</table>\n",
              "<p>5 rows × 37 columns</p>\n",
              "</div>"
            ],
            "text/plain": [
              "  age_upon_intake  age_upon_intake_(days)  age_upon_intake_(years)  \\\n",
              "0        10 years                    3650                     10.0   \n",
              "1         7 years                    2555                      7.0   \n",
              "2         6 years                    2190                      6.0   \n",
              "3        10 years                    3650                     10.0   \n",
              "4        16 years                    5840                     16.0   \n",
              "\n",
              "  age_upon_intake_age_group age_upon_outcome  age_upon_outcome_(days)  \\\n",
              "0               (7.5, 10.0]         10 years                     3650   \n",
              "1                (5.0, 7.5]          7 years                     2555   \n",
              "2                (5.0, 7.5]          6 years                     2190   \n",
              "3               (7.5, 10.0]         10 years                     3650   \n",
              "4              (15.0, 17.5]         16 years                     5840   \n",
              "\n",
              "   age_upon_outcome_(years) age_upon_outcome_age_group animal_id_outcome  \\\n",
              "0                      10.0                (7.5, 10.0]           A006100   \n",
              "1                       7.0                 (5.0, 7.5]           A006100   \n",
              "2                       6.0                 (5.0, 7.5]           A006100   \n",
              "3                      10.0                (7.5, 10.0]           A047759   \n",
              "4                      16.0               (15.0, 17.5]           A134067   \n",
              "\n",
              "  animal_type          ...          outcome_month outcome_monthyear  \\\n",
              "0         Dog          ...                     12           2017-12   \n",
              "1         Dog          ...                     12           2014-12   \n",
              "2         Dog          ...                      3           2014-03   \n",
              "3         Dog          ...                      4           2014-04   \n",
              "4         Dog          ...                     11           2013-11   \n",
              "\n",
              "   outcome_number     outcome_type  outcome_weekday  outcome_year  \\\n",
              "0             1.0  Return to Owner         Thursday          2017   \n",
              "1             2.0  Return to Owner         Saturday          2014   \n",
              "2             3.0  Return to Owner         Saturday          2014   \n",
              "3             1.0          Missing           Monday          2014   \n",
              "4             1.0  Return to Owner         Saturday          2013   \n",
              "\n",
              "  sex_upon_intake sex_upon_outcome            time_in_shelter  \\\n",
              "0   Neutered Male    Neutered Male  0 days 14:07:00.000000000   \n",
              "1   Neutered Male    Neutered Male  1 days 06:14:00.000000000   \n",
              "2   Neutered Male    Neutered Male  1 days 02:44:00.000000000   \n",
              "3   Neutered Male    Neutered Male  4 days 23:17:00.000000000   \n",
              "4   Neutered Male    Neutered Male  0 days 02:52:00.000000000   \n",
              "\n",
              "   time_in_shelter_days  \n",
              "0              0.588194  \n",
              "1              1.259722  \n",
              "2              1.113889  \n",
              "3              4.970139  \n",
              "4              0.119444  \n",
              "\n",
              "[5 rows x 37 columns]"
            ]
          },
          "metadata": {
            "tags": []
          },
          "execution_count": 8
        }
      ]
    },
    {
      "metadata": {
        "id": "-UimYT53Ev6f",
        "colab_type": "code",
        "colab": {
          "base_uri": "https://localhost:8080/",
          "height": 794
        },
        "outputId": "6b16bdcf-0103-44f3-e029-6ca8aeecaea0"
      },
      "cell_type": "code",
      "source": [
        "# check data-type of each variable\n",
        "df_merged.info()"
      ],
      "execution_count": 9,
      "outputs": [
        {
          "output_type": "stream",
          "text": [
            "<class 'pandas.core.frame.DataFrame'>\n",
            "Int64Index: 79672 entries, 0 to 31868\n",
            "Data columns (total 37 columns):\n",
            "age_upon_intake               79672 non-null object\n",
            "age_upon_intake_(days)        79672 non-null int64\n",
            "age_upon_intake_(years)       79672 non-null float64\n",
            "age_upon_intake_age_group     79672 non-null object\n",
            "age_upon_outcome              79672 non-null object\n",
            "age_upon_outcome_(days)       79672 non-null int64\n",
            "age_upon_outcome_(years)      79672 non-null float64\n",
            "age_upon_outcome_age_group    79672 non-null object\n",
            "animal_id_outcome             79672 non-null object\n",
            "animal_type                   79672 non-null object\n",
            "breed                         79672 non-null object\n",
            "color                         79672 non-null object\n",
            "count                         79672 non-null int64\n",
            "date_of_birth                 79672 non-null object\n",
            "dob_month                     79672 non-null int64\n",
            "dob_year                      79672 non-null int64\n",
            "intake_condition              79672 non-null object\n",
            "intake_datetime               79672 non-null object\n",
            "intake_hour                   79672 non-null int64\n",
            "intake_month                  79672 non-null int64\n",
            "intake_monthyear              79672 non-null object\n",
            "intake_number                 79672 non-null float64\n",
            "intake_type                   79672 non-null object\n",
            "intake_weekday                79672 non-null object\n",
            "intake_year                   79672 non-null int64\n",
            "outcome_datetime              70053 non-null object\n",
            "outcome_hour                  79672 non-null int64\n",
            "outcome_month                 79672 non-null int64\n",
            "outcome_monthyear             79672 non-null object\n",
            "outcome_number                79672 non-null float64\n",
            "outcome_type                  47803 non-null object\n",
            "outcome_weekday               79672 non-null object\n",
            "outcome_year                  79672 non-null int64\n",
            "sex_upon_intake               79671 non-null object\n",
            "sex_upon_outcome              79671 non-null object\n",
            "time_in_shelter               79672 non-null object\n",
            "time_in_shelter_days          79672 non-null float64\n",
            "dtypes: float64(5), int64(11), object(21)\n",
            "memory usage: 23.1+ MB\n"
          ],
          "name": "stdout"
        }
      ]
    },
    {
      "metadata": {
        "id": "Pc_FBveSEv6j",
        "colab_type": "text"
      },
      "cell_type": "markdown",
      "source": [
        "In above we can see that datatype for some of the feature_columns such as dates are not correct. Also, some of the columns can be converted to categorical. let's do that first"
      ]
    },
    {
      "metadata": {
        "id": "WuNhVlEtEv6k",
        "colab_type": "code",
        "colab": {}
      },
      "cell_type": "code",
      "source": [
        "# for training dataset\n",
        "\n",
        "for i in df_merged[[\"intake_datetime\",\"outcome_datetime\"]]:\n",
        "    df_merged[i]=pd.to_datetime(df_merged[i])\n",
        "    \n",
        "df_merged[\"time_in_shelter\"] = pd.to_timedelta(df_merged[\"time_in_shelter\"])\n",
        "\n",
        "df_merged[\"age_upon_intake\"] = df_merged[\"age_upon_intake\"].str.split(\" \").str.get(0).astype(\"int32\")\n",
        "df_merged[\"age_upon_outcome\"] = df_merged[\"age_upon_outcome\"].str.split(\" \").str.get(0).astype(\"int32\")\n",
        "\n",
        "# also convert categorical_variables to categorical to reduce memory usage\n",
        "\n",
        "for i in df_merged[[\"animal_type\",\"breed\",\"color\",\"intake_condition\",\"intake_type\",\"sex_upon_intake\",\"outcome_type\",\n",
        "                   \"sex_upon_outcome\",\"outcome_weekday\",\"outcome_year\"]]:\n",
        "    df_merged[i] = df_merged[i].astype(\"category\")"
      ],
      "execution_count": 0,
      "outputs": []
    },
    {
      "metadata": {
        "id": "IMXNg3mREv6m",
        "colab_type": "code",
        "colab": {
          "base_uri": "https://localhost:8080/",
          "height": 794
        },
        "outputId": "0ca628dd-11ac-45d3-f696-57cd43913902"
      },
      "cell_type": "code",
      "source": [
        "df_merged.info()"
      ],
      "execution_count": 11,
      "outputs": [
        {
          "output_type": "stream",
          "text": [
            "<class 'pandas.core.frame.DataFrame'>\n",
            "Int64Index: 79672 entries, 0 to 31868\n",
            "Data columns (total 37 columns):\n",
            "age_upon_intake               79672 non-null int32\n",
            "age_upon_intake_(days)        79672 non-null int64\n",
            "age_upon_intake_(years)       79672 non-null float64\n",
            "age_upon_intake_age_group     79672 non-null object\n",
            "age_upon_outcome              79672 non-null int32\n",
            "age_upon_outcome_(days)       79672 non-null int64\n",
            "age_upon_outcome_(years)      79672 non-null float64\n",
            "age_upon_outcome_age_group    79672 non-null object\n",
            "animal_id_outcome             79672 non-null object\n",
            "animal_type                   79672 non-null category\n",
            "breed                         79672 non-null category\n",
            "color                         79672 non-null category\n",
            "count                         79672 non-null int64\n",
            "date_of_birth                 79672 non-null object\n",
            "dob_month                     79672 non-null int64\n",
            "dob_year                      79672 non-null int64\n",
            "intake_condition              79672 non-null category\n",
            "intake_datetime               79672 non-null datetime64[ns]\n",
            "intake_hour                   79672 non-null int64\n",
            "intake_month                  79672 non-null int64\n",
            "intake_monthyear              79672 non-null object\n",
            "intake_number                 79672 non-null float64\n",
            "intake_type                   79672 non-null category\n",
            "intake_weekday                79672 non-null object\n",
            "intake_year                   79672 non-null int64\n",
            "outcome_datetime              70053 non-null datetime64[ns]\n",
            "outcome_hour                  79672 non-null int64\n",
            "outcome_month                 79672 non-null int64\n",
            "outcome_monthyear             79672 non-null object\n",
            "outcome_number                79672 non-null float64\n",
            "outcome_type                  47803 non-null category\n",
            "outcome_weekday               79672 non-null category\n",
            "outcome_year                  79672 non-null category\n",
            "sex_upon_intake               79671 non-null category\n",
            "sex_upon_outcome              79671 non-null category\n",
            "time_in_shelter               79672 non-null timedelta64[ns]\n",
            "time_in_shelter_days          79672 non-null float64\n",
            "dtypes: category(10), datetime64[ns](2), float64(5), int32(2), int64(10), object(7), timedelta64[ns](1)\n",
            "memory usage: 17.4+ MB\n"
          ],
          "name": "stdout"
        }
      ]
    },
    {
      "metadata": {
        "id": "bZSed6VxEv6q",
        "colab_type": "code",
        "colab": {
          "base_uri": "https://localhost:8080/",
          "height": 35
        },
        "outputId": "2a62b32e-3270-4822-9b29-63ade2733e47"
      },
      "cell_type": "code",
      "source": [
        "print ('The dataset has {0} rows and {1} columns'.format(df_merged.shape[0],df_merged.shape[1]))"
      ],
      "execution_count": 12,
      "outputs": [
        {
          "output_type": "stream",
          "text": [
            "The dataset has 79672 rows and 37 columns\n"
          ],
          "name": "stdout"
        }
      ]
    },
    {
      "metadata": {
        "id": "4MEbX99sEv6w",
        "colab_type": "code",
        "colab": {}
      },
      "cell_type": "code",
      "source": [
        "# check if there are any duplicates in animal_id_outcome column\n",
        "\n",
        "df_merged[\"animal_id_outcome\"].value_counts()\n",
        "\n",
        "df_merged.drop_duplicates(subset=[\"animal_id_outcome\"],inplace=True)"
      ],
      "execution_count": 0,
      "outputs": []
    },
    {
      "metadata": {
        "id": "_Oh1LpTrEv6y",
        "colab_type": "code",
        "colab": {
          "base_uri": "https://localhost:8080/",
          "height": 35
        },
        "outputId": "4008696b-d8e3-4c57-f493-baf9d8abeebf"
      },
      "cell_type": "code",
      "source": [
        "print ('The dataset has {0} rows and {1} columns'.format(df_merged.shape[0],df_merged.shape[1]))"
      ],
      "execution_count": 14,
      "outputs": [
        {
          "output_type": "stream",
          "text": [
            "The dataset has 71961 rows and 37 columns\n"
          ],
          "name": "stdout"
        }
      ]
    },
    {
      "metadata": {
        "id": "1Tt1RUf0Ev62",
        "colab_type": "text"
      },
      "cell_type": "markdown",
      "source": [
        "### Data Cleaning and Null Values Removal"
      ]
    },
    {
      "metadata": {
        "id": "Ld3lpwjfEv62",
        "colab_type": "code",
        "colab": {
          "base_uri": "https://localhost:8080/",
          "height": 720
        },
        "outputId": "5b154fad-59db-4df2-c919-f845d5c639d0"
      },
      "cell_type": "code",
      "source": [
        "# check null values in each column of dataset\n",
        "df_merged.isnull().sum()"
      ],
      "execution_count": 15,
      "outputs": [
        {
          "output_type": "execute_result",
          "data": {
            "text/plain": [
              "age_upon_intake                   0\n",
              "age_upon_intake_(days)            0\n",
              "age_upon_intake_(years)           0\n",
              "age_upon_intake_age_group         0\n",
              "age_upon_outcome                  0\n",
              "age_upon_outcome_(days)           0\n",
              "age_upon_outcome_(years)          0\n",
              "age_upon_outcome_age_group        0\n",
              "animal_id_outcome                 0\n",
              "animal_type                       0\n",
              "breed                             0\n",
              "color                             0\n",
              "count                             0\n",
              "date_of_birth                     0\n",
              "dob_month                         0\n",
              "dob_year                          0\n",
              "intake_condition                  0\n",
              "intake_datetime                   0\n",
              "intake_hour                       0\n",
              "intake_month                      0\n",
              "intake_monthyear                  0\n",
              "intake_number                     0\n",
              "intake_type                       0\n",
              "intake_weekday                    0\n",
              "intake_year                       0\n",
              "outcome_datetime               8588\n",
              "outcome_hour                      0\n",
              "outcome_month                     0\n",
              "outcome_monthyear                 0\n",
              "outcome_number                    0\n",
              "outcome_type                  29282\n",
              "outcome_weekday                   0\n",
              "outcome_year                      0\n",
              "sex_upon_intake                   1\n",
              "sex_upon_outcome                  1\n",
              "time_in_shelter                   0\n",
              "time_in_shelter_days              0\n",
              "dtype: int64"
            ]
          },
          "metadata": {
            "tags": []
          },
          "execution_count": 15
        }
      ]
    },
    {
      "metadata": {
        "id": "gGOw4VTsEv65",
        "colab_type": "text"
      },
      "cell_type": "markdown",
      "source": [
        "Out of 38 features, only 3 features have missing values viz. \n",
        "- sex_upon_intake, \n",
        "- sex_upon_outcome \n",
        "- outcome_datetime \n",
        "\n",
        "- Missing value in \"outcome_type\" is the target value."
      ]
    },
    {
      "metadata": {
        "id": "LS9yv4WLEv65",
        "colab_type": "code",
        "colab": {}
      },
      "cell_type": "code",
      "source": [
        "# inputing missing values of outcome_datetime. This can easily be computed by adding intake_datetime and time that animal spent\n",
        "# in shelter.\n",
        "\n",
        "df_merged[\"outcome_datetime\"] = df_merged[\"intake_datetime\"] + df_merged[\"time_in_shelter\"]"
      ],
      "execution_count": 0,
      "outputs": []
    },
    {
      "metadata": {
        "id": "S9sEoOhzEv67",
        "colab_type": "code",
        "colab": {
          "base_uri": "https://localhost:8080/",
          "height": 35
        },
        "outputId": "10d9ce45-8ca5-4205-c0dc-e164c9f05efa"
      },
      "cell_type": "code",
      "source": [
        "df_merged[\"outcome_datetime\"].isnull().sum()\n",
        "\n",
        "# so now, no null value in outcome_datetime column."
      ],
      "execution_count": 17,
      "outputs": [
        {
          "output_type": "execute_result",
          "data": {
            "text/plain": [
              "0"
            ]
          },
          "metadata": {
            "tags": []
          },
          "execution_count": 17
        }
      ]
    },
    {
      "metadata": {
        "id": "P0pg1RvVEv7B",
        "colab_type": "code",
        "colab": {
          "base_uri": "https://localhost:8080/",
          "height": 129
        },
        "outputId": "730be0b8-0598-45ff-c007-ff3793d3bdba"
      },
      "cell_type": "code",
      "source": [
        "df_merged[df_merged[\"sex_upon_outcome\"].isnull()]"
      ],
      "execution_count": 18,
      "outputs": [
        {
          "output_type": "execute_result",
          "data": {
            "text/html": [
              "<div>\n",
              "<style scoped>\n",
              "    .dataframe tbody tr th:only-of-type {\n",
              "        vertical-align: middle;\n",
              "    }\n",
              "\n",
              "    .dataframe tbody tr th {\n",
              "        vertical-align: top;\n",
              "    }\n",
              "\n",
              "    .dataframe thead th {\n",
              "        text-align: right;\n",
              "    }\n",
              "</style>\n",
              "<table border=\"1\" class=\"dataframe\">\n",
              "  <thead>\n",
              "    <tr style=\"text-align: right;\">\n",
              "      <th></th>\n",
              "      <th>age_upon_intake</th>\n",
              "      <th>age_upon_intake_(days)</th>\n",
              "      <th>age_upon_intake_(years)</th>\n",
              "      <th>age_upon_intake_age_group</th>\n",
              "      <th>age_upon_outcome</th>\n",
              "      <th>age_upon_outcome_(days)</th>\n",
              "      <th>age_upon_outcome_(years)</th>\n",
              "      <th>age_upon_outcome_age_group</th>\n",
              "      <th>animal_id_outcome</th>\n",
              "      <th>animal_type</th>\n",
              "      <th>...</th>\n",
              "      <th>outcome_month</th>\n",
              "      <th>outcome_monthyear</th>\n",
              "      <th>outcome_number</th>\n",
              "      <th>outcome_type</th>\n",
              "      <th>outcome_weekday</th>\n",
              "      <th>outcome_year</th>\n",
              "      <th>sex_upon_intake</th>\n",
              "      <th>sex_upon_outcome</th>\n",
              "      <th>time_in_shelter</th>\n",
              "      <th>time_in_shelter_days</th>\n",
              "    </tr>\n",
              "  </thead>\n",
              "  <tbody>\n",
              "    <tr>\n",
              "      <th>6523</th>\n",
              "      <td>7</td>\n",
              "      <td>2555</td>\n",
              "      <td>7.0</td>\n",
              "      <td>(5.0, 7.5]</td>\n",
              "      <td>7</td>\n",
              "      <td>2555</td>\n",
              "      <td>7.0</td>\n",
              "      <td>(5.0, 7.5]</td>\n",
              "      <td>A667395</td>\n",
              "      <td>Dog</td>\n",
              "      <td>...</td>\n",
              "      <td>11</td>\n",
              "      <td>2013-11</td>\n",
              "      <td>1.0</td>\n",
              "      <td>Return to Owner</td>\n",
              "      <td>Wednesday</td>\n",
              "      <td>2013</td>\n",
              "      <td>NaN</td>\n",
              "      <td>NaN</td>\n",
              "      <td>10 days 02:56:00</td>\n",
              "      <td>10.122222</td>\n",
              "    </tr>\n",
              "  </tbody>\n",
              "</table>\n",
              "<p>1 rows × 37 columns</p>\n",
              "</div>"
            ],
            "text/plain": [
              "      age_upon_intake  age_upon_intake_(days)  age_upon_intake_(years)  \\\n",
              "6523                7                    2555                      7.0   \n",
              "\n",
              "     age_upon_intake_age_group  age_upon_outcome  age_upon_outcome_(days)  \\\n",
              "6523                (5.0, 7.5]                 7                     2555   \n",
              "\n",
              "      age_upon_outcome_(years) age_upon_outcome_age_group animal_id_outcome  \\\n",
              "6523                       7.0                 (5.0, 7.5]           A667395   \n",
              "\n",
              "     animal_type          ...          outcome_month outcome_monthyear  \\\n",
              "6523         Dog          ...                     11           2013-11   \n",
              "\n",
              "      outcome_number     outcome_type  outcome_weekday  outcome_year  \\\n",
              "6523             1.0  Return to Owner        Wednesday          2013   \n",
              "\n",
              "     sex_upon_intake sex_upon_outcome  time_in_shelter  time_in_shelter_days  \n",
              "6523             NaN              NaN 10 days 02:56:00             10.122222  \n",
              "\n",
              "[1 rows x 37 columns]"
            ]
          },
          "metadata": {
            "tags": []
          },
          "execution_count": 18
        }
      ]
    },
    {
      "metadata": {
        "id": "0QwVri6ZEv7E",
        "colab_type": "code",
        "colab": {
          "base_uri": "https://localhost:8080/",
          "height": 129
        },
        "outputId": "b5bacbfd-4bc0-46dc-a039-fd0bd2c2017c"
      },
      "cell_type": "code",
      "source": [
        "df_merged[df_merged[\"sex_upon_intake\"].isnull()]"
      ],
      "execution_count": 19,
      "outputs": [
        {
          "output_type": "execute_result",
          "data": {
            "text/html": [
              "<div>\n",
              "<style scoped>\n",
              "    .dataframe tbody tr th:only-of-type {\n",
              "        vertical-align: middle;\n",
              "    }\n",
              "\n",
              "    .dataframe tbody tr th {\n",
              "        vertical-align: top;\n",
              "    }\n",
              "\n",
              "    .dataframe thead th {\n",
              "        text-align: right;\n",
              "    }\n",
              "</style>\n",
              "<table border=\"1\" class=\"dataframe\">\n",
              "  <thead>\n",
              "    <tr style=\"text-align: right;\">\n",
              "      <th></th>\n",
              "      <th>age_upon_intake</th>\n",
              "      <th>age_upon_intake_(days)</th>\n",
              "      <th>age_upon_intake_(years)</th>\n",
              "      <th>age_upon_intake_age_group</th>\n",
              "      <th>age_upon_outcome</th>\n",
              "      <th>age_upon_outcome_(days)</th>\n",
              "      <th>age_upon_outcome_(years)</th>\n",
              "      <th>age_upon_outcome_age_group</th>\n",
              "      <th>animal_id_outcome</th>\n",
              "      <th>animal_type</th>\n",
              "      <th>...</th>\n",
              "      <th>outcome_month</th>\n",
              "      <th>outcome_monthyear</th>\n",
              "      <th>outcome_number</th>\n",
              "      <th>outcome_type</th>\n",
              "      <th>outcome_weekday</th>\n",
              "      <th>outcome_year</th>\n",
              "      <th>sex_upon_intake</th>\n",
              "      <th>sex_upon_outcome</th>\n",
              "      <th>time_in_shelter</th>\n",
              "      <th>time_in_shelter_days</th>\n",
              "    </tr>\n",
              "  </thead>\n",
              "  <tbody>\n",
              "    <tr>\n",
              "      <th>6523</th>\n",
              "      <td>7</td>\n",
              "      <td>2555</td>\n",
              "      <td>7.0</td>\n",
              "      <td>(5.0, 7.5]</td>\n",
              "      <td>7</td>\n",
              "      <td>2555</td>\n",
              "      <td>7.0</td>\n",
              "      <td>(5.0, 7.5]</td>\n",
              "      <td>A667395</td>\n",
              "      <td>Dog</td>\n",
              "      <td>...</td>\n",
              "      <td>11</td>\n",
              "      <td>2013-11</td>\n",
              "      <td>1.0</td>\n",
              "      <td>Return to Owner</td>\n",
              "      <td>Wednesday</td>\n",
              "      <td>2013</td>\n",
              "      <td>NaN</td>\n",
              "      <td>NaN</td>\n",
              "      <td>10 days 02:56:00</td>\n",
              "      <td>10.122222</td>\n",
              "    </tr>\n",
              "  </tbody>\n",
              "</table>\n",
              "<p>1 rows × 37 columns</p>\n",
              "</div>"
            ],
            "text/plain": [
              "      age_upon_intake  age_upon_intake_(days)  age_upon_intake_(years)  \\\n",
              "6523                7                    2555                      7.0   \n",
              "\n",
              "     age_upon_intake_age_group  age_upon_outcome  age_upon_outcome_(days)  \\\n",
              "6523                (5.0, 7.5]                 7                     2555   \n",
              "\n",
              "      age_upon_outcome_(years) age_upon_outcome_age_group animal_id_outcome  \\\n",
              "6523                       7.0                 (5.0, 7.5]           A667395   \n",
              "\n",
              "     animal_type          ...          outcome_month outcome_monthyear  \\\n",
              "6523         Dog          ...                     11           2013-11   \n",
              "\n",
              "      outcome_number     outcome_type  outcome_weekday  outcome_year  \\\n",
              "6523             1.0  Return to Owner        Wednesday          2013   \n",
              "\n",
              "     sex_upon_intake sex_upon_outcome  time_in_shelter  time_in_shelter_days  \n",
              "6523             NaN              NaN 10 days 02:56:00             10.122222  \n",
              "\n",
              "[1 rows x 37 columns]"
            ]
          },
          "metadata": {
            "tags": []
          },
          "execution_count": 19
        }
      ]
    },
    {
      "metadata": {
        "id": "7vAC_SyGEv7G",
        "colab_type": "code",
        "colab": {}
      },
      "cell_type": "code",
      "source": [
        "# so this is just a single entry where \"sex_upon_outcome\" and \"sex_upon_intake\" are NaNs, this can be dropped.\n",
        "\n",
        "df_merged.dropna(axis=0,subset=[\"sex_upon_intake\",\"sex_upon_outcome\"],inplace=True)"
      ],
      "execution_count": 0,
      "outputs": []
    },
    {
      "metadata": {
        "id": "5x22gnarEv7J",
        "colab_type": "code",
        "colab": {
          "base_uri": "https://localhost:8080/",
          "height": 35
        },
        "outputId": "e6c54321-b7f1-4d29-b537-ca589f87f9c9"
      },
      "cell_type": "code",
      "source": [
        "df_merged.shape"
      ],
      "execution_count": 21,
      "outputs": [
        {
          "output_type": "execute_result",
          "data": {
            "text/plain": [
              "(71960, 37)"
            ]
          },
          "metadata": {
            "tags": []
          },
          "execution_count": 21
        }
      ]
    },
    {
      "metadata": {
        "id": "xwBmxJaZEv7L",
        "colab_type": "code",
        "colab": {
          "base_uri": "https://localhost:8080/",
          "height": 720
        },
        "outputId": "671b2d14-a2eb-482a-c509-8f37a097284d"
      },
      "cell_type": "code",
      "source": [
        "df_merged.isnull().sum()"
      ],
      "execution_count": 22,
      "outputs": [
        {
          "output_type": "execute_result",
          "data": {
            "text/plain": [
              "age_upon_intake                   0\n",
              "age_upon_intake_(days)            0\n",
              "age_upon_intake_(years)           0\n",
              "age_upon_intake_age_group         0\n",
              "age_upon_outcome                  0\n",
              "age_upon_outcome_(days)           0\n",
              "age_upon_outcome_(years)          0\n",
              "age_upon_outcome_age_group        0\n",
              "animal_id_outcome                 0\n",
              "animal_type                       0\n",
              "breed                             0\n",
              "color                             0\n",
              "count                             0\n",
              "date_of_birth                     0\n",
              "dob_month                         0\n",
              "dob_year                          0\n",
              "intake_condition                  0\n",
              "intake_datetime                   0\n",
              "intake_hour                       0\n",
              "intake_month                      0\n",
              "intake_monthyear                  0\n",
              "intake_number                     0\n",
              "intake_type                       0\n",
              "intake_weekday                    0\n",
              "intake_year                       0\n",
              "outcome_datetime                  0\n",
              "outcome_hour                      0\n",
              "outcome_month                     0\n",
              "outcome_monthyear                 0\n",
              "outcome_number                    0\n",
              "outcome_type                  29282\n",
              "outcome_weekday                   0\n",
              "outcome_year                      0\n",
              "sex_upon_intake                   0\n",
              "sex_upon_outcome                  0\n",
              "time_in_shelter                   0\n",
              "time_in_shelter_days              0\n",
              "dtype: int64"
            ]
          },
          "metadata": {
            "tags": []
          },
          "execution_count": 22
        }
      ]
    },
    {
      "metadata": {
        "id": "Ml-GdSt0Ev7O",
        "colab_type": "code",
        "colab": {
          "base_uri": "https://localhost:8080/",
          "height": 35
        },
        "outputId": "284bf439-92fc-43fe-dd0f-8fbca92c3301"
      },
      "cell_type": "code",
      "source": [
        "# so now there are no null values in our data except 29282 in outcome_type i.e. our target variable.\n",
        "\n",
        "print ('The train data has {0} rows and {1} columns after Null values correction'.format(df_merged.shape[0],df_merged.shape[1]))\n"
      ],
      "execution_count": 23,
      "outputs": [
        {
          "output_type": "stream",
          "text": [
            "The train data has 71960 rows and 37 columns after Null values correction\n"
          ],
          "name": "stdout"
        }
      ]
    },
    {
      "metadata": {
        "id": "o8EAar7xEv7V",
        "colab_type": "text"
      },
      "cell_type": "markdown",
      "source": [
        "### Exploratory Data Analysis "
      ]
    },
    {
      "metadata": {
        "id": "Ik7CnWqrEv7V",
        "colab_type": "text"
      },
      "cell_type": "markdown",
      "source": [
        "### Relation Between animal_type and Outcome_type"
      ]
    },
    {
      "metadata": {
        "id": "IAg5ZWF-Ev7W",
        "colab_type": "code",
        "colab": {
          "base_uri": "https://localhost:8080/",
          "height": 35
        },
        "outputId": "8a10d594-86dd-4cb8-b4bb-d91b1cfeba77"
      },
      "cell_type": "code",
      "source": [
        "df_merged[\"outcome_type\"].nunique()\n",
        "\n",
        "# so its a multi-class classification problem"
      ],
      "execution_count": 24,
      "outputs": [
        {
          "output_type": "execute_result",
          "data": {
            "text/plain": [
              "9"
            ]
          },
          "metadata": {
            "tags": []
          },
          "execution_count": 24
        }
      ]
    },
    {
      "metadata": {
        "id": "U2hbrwZjEv7Z",
        "colab_type": "code",
        "colab": {
          "base_uri": "https://localhost:8080/",
          "height": 109
        },
        "outputId": "1e79b3d4-a761-4f63-fe76-3e582dc8526f"
      },
      "cell_type": "code",
      "source": [
        "df_merged[\"animal_type\"].value_counts()/df_merged[\"animal_type\"].value_counts().sum()*100\n",
        "\n",
        "# 4 different type of animals, out of which 59% are Dogs and 35% are cats, rest both dont have much proportion"
      ],
      "execution_count": 25,
      "outputs": [
        {
          "output_type": "execute_result",
          "data": {
            "text/plain": [
              "Dog      54.068927\n",
              "Cat      39.331573\n",
              "Other     6.128405\n",
              "Bird      0.471095\n",
              "Name: animal_type, dtype: float64"
            ]
          },
          "metadata": {
            "tags": []
          },
          "execution_count": 25
        }
      ]
    },
    {
      "metadata": {
        "id": "CUesXUetEv7b",
        "colab_type": "code",
        "colab": {
          "base_uri": "https://localhost:8080/",
          "height": 359
        },
        "outputId": "5d653fb6-fcfc-4503-cf2e-01f5b2dcd202"
      },
      "cell_type": "code",
      "source": [
        "# Lets check the distribution of Outcome across different animal_type\n",
        "\n",
        "df_merged.groupby(by=[\"animal_type\",\"outcome_type\"]).count()[\"count\"].unstack(level=0).sort_index(ascending=True)\n"
      ],
      "execution_count": 26,
      "outputs": [
        {
          "output_type": "execute_result",
          "data": {
            "text/html": [
              "<div>\n",
              "<style scoped>\n",
              "    .dataframe tbody tr th:only-of-type {\n",
              "        vertical-align: middle;\n",
              "    }\n",
              "\n",
              "    .dataframe tbody tr th {\n",
              "        vertical-align: top;\n",
              "    }\n",
              "\n",
              "    .dataframe thead th {\n",
              "        text-align: right;\n",
              "    }\n",
              "</style>\n",
              "<table border=\"1\" class=\"dataframe\">\n",
              "  <thead>\n",
              "    <tr style=\"text-align: right;\">\n",
              "      <th>animal_type</th>\n",
              "      <th>Bird</th>\n",
              "      <th>Cat</th>\n",
              "      <th>Dog</th>\n",
              "      <th>Other</th>\n",
              "    </tr>\n",
              "    <tr>\n",
              "      <th>outcome_type</th>\n",
              "      <th></th>\n",
              "      <th></th>\n",
              "      <th></th>\n",
              "      <th></th>\n",
              "    </tr>\n",
              "  </thead>\n",
              "  <tbody>\n",
              "    <tr>\n",
              "      <th>Adoption</th>\n",
              "      <td>49</td>\n",
              "      <td>4340</td>\n",
              "      <td>6853</td>\n",
              "      <td>27</td>\n",
              "    </tr>\n",
              "    <tr>\n",
              "      <th>Died</th>\n",
              "      <td>13</td>\n",
              "      <td>1218</td>\n",
              "      <td>1281</td>\n",
              "      <td>94</td>\n",
              "    </tr>\n",
              "    <tr>\n",
              "      <th>Disposal</th>\n",
              "      <td>17</td>\n",
              "      <td>2</td>\n",
              "      <td>3</td>\n",
              "      <td>156</td>\n",
              "    </tr>\n",
              "    <tr>\n",
              "      <th>Euthanasia</th>\n",
              "      <td>32</td>\n",
              "      <td>1004</td>\n",
              "      <td>1269</td>\n",
              "      <td>1794</td>\n",
              "    </tr>\n",
              "    <tr>\n",
              "      <th>Missing</th>\n",
              "      <td>7</td>\n",
              "      <td>1072</td>\n",
              "      <td>1251</td>\n",
              "      <td>35</td>\n",
              "    </tr>\n",
              "    <tr>\n",
              "      <th>Relocate</th>\n",
              "      <td>11</td>\n",
              "      <td>1085</td>\n",
              "      <td>1198</td>\n",
              "      <td>40</td>\n",
              "    </tr>\n",
              "    <tr>\n",
              "      <th>Return to Owner</th>\n",
              "      <td>2</td>\n",
              "      <td>821</td>\n",
              "      <td>6769</td>\n",
              "      <td>17</td>\n",
              "    </tr>\n",
              "    <tr>\n",
              "      <th>Rto-Adopt</th>\n",
              "      <td>7</td>\n",
              "      <td>1000</td>\n",
              "      <td>1186</td>\n",
              "      <td>31</td>\n",
              "    </tr>\n",
              "    <tr>\n",
              "      <th>Transfer</th>\n",
              "      <td>34</td>\n",
              "      <td>5644</td>\n",
              "      <td>4058</td>\n",
              "      <td>258</td>\n",
              "    </tr>\n",
              "  </tbody>\n",
              "</table>\n",
              "</div>"
            ],
            "text/plain": [
              "animal_type      Bird   Cat   Dog  Other\n",
              "outcome_type                            \n",
              "Adoption           49  4340  6853     27\n",
              "Died               13  1218  1281     94\n",
              "Disposal           17     2     3    156\n",
              "Euthanasia         32  1004  1269   1794\n",
              "Missing             7  1072  1251     35\n",
              "Relocate           11  1085  1198     40\n",
              "Return to Owner     2   821  6769     17\n",
              "Rto-Adopt           7  1000  1186     31\n",
              "Transfer           34  5644  4058    258"
            ]
          },
          "metadata": {
            "tags": []
          },
          "execution_count": 26
        }
      ]
    },
    {
      "metadata": {
        "id": "fBDiddnfEv7d",
        "colab_type": "code",
        "colab": {
          "base_uri": "https://localhost:8080/",
          "height": 359
        },
        "outputId": "526c9a3a-a04b-4138-bd67-7da001fe4301"
      },
      "cell_type": "code",
      "source": [
        "#Let's check the distribution in percentage terms.\n",
        "\n",
        "a = df_merged.groupby(by=[\"animal_type\",\"outcome_type\"]).count()[\"count\"].unstack(level=0)\n",
        "b = df_merged.groupby(by=[\"outcome_type\"]).count()[\"animal_type\"]\n",
        "animal_type_and_outcome =a.div(other = b,level=\"animal_type\",axis=0)*100\n",
        "animal_type_and_outcome"
      ],
      "execution_count": 27,
      "outputs": [
        {
          "output_type": "execute_result",
          "data": {
            "text/html": [
              "<div>\n",
              "<style scoped>\n",
              "    .dataframe tbody tr th:only-of-type {\n",
              "        vertical-align: middle;\n",
              "    }\n",
              "\n",
              "    .dataframe tbody tr th {\n",
              "        vertical-align: top;\n",
              "    }\n",
              "\n",
              "    .dataframe thead th {\n",
              "        text-align: right;\n",
              "    }\n",
              "</style>\n",
              "<table border=\"1\" class=\"dataframe\">\n",
              "  <thead>\n",
              "    <tr style=\"text-align: right;\">\n",
              "      <th>animal_type</th>\n",
              "      <th>Bird</th>\n",
              "      <th>Cat</th>\n",
              "      <th>Dog</th>\n",
              "      <th>Other</th>\n",
              "    </tr>\n",
              "    <tr>\n",
              "      <th>outcome_type</th>\n",
              "      <th></th>\n",
              "      <th></th>\n",
              "      <th></th>\n",
              "      <th></th>\n",
              "    </tr>\n",
              "  </thead>\n",
              "  <tbody>\n",
              "    <tr>\n",
              "      <th>Adoption</th>\n",
              "      <td>0.434821</td>\n",
              "      <td>38.512734</td>\n",
              "      <td>60.812849</td>\n",
              "      <td>0.239595</td>\n",
              "    </tr>\n",
              "    <tr>\n",
              "      <th>Died</th>\n",
              "      <td>0.498849</td>\n",
              "      <td>46.738296</td>\n",
              "      <td>49.155794</td>\n",
              "      <td>3.607061</td>\n",
              "    </tr>\n",
              "    <tr>\n",
              "      <th>Disposal</th>\n",
              "      <td>9.550562</td>\n",
              "      <td>1.123596</td>\n",
              "      <td>1.685393</td>\n",
              "      <td>87.640449</td>\n",
              "    </tr>\n",
              "    <tr>\n",
              "      <th>Euthanasia</th>\n",
              "      <td>0.780678</td>\n",
              "      <td>24.493779</td>\n",
              "      <td>30.958770</td>\n",
              "      <td>43.766772</td>\n",
              "    </tr>\n",
              "    <tr>\n",
              "      <th>Missing</th>\n",
              "      <td>0.295983</td>\n",
              "      <td>45.327696</td>\n",
              "      <td>52.896406</td>\n",
              "      <td>1.479915</td>\n",
              "    </tr>\n",
              "    <tr>\n",
              "      <th>Relocate</th>\n",
              "      <td>0.471294</td>\n",
              "      <td>46.486718</td>\n",
              "      <td>51.328192</td>\n",
              "      <td>1.713796</td>\n",
              "    </tr>\n",
              "    <tr>\n",
              "      <th>Return to Owner</th>\n",
              "      <td>0.026285</td>\n",
              "      <td>10.789854</td>\n",
              "      <td>88.960442</td>\n",
              "      <td>0.223420</td>\n",
              "    </tr>\n",
              "    <tr>\n",
              "      <th>Rto-Adopt</th>\n",
              "      <td>0.314748</td>\n",
              "      <td>44.964029</td>\n",
              "      <td>53.327338</td>\n",
              "      <td>1.393885</td>\n",
              "    </tr>\n",
              "    <tr>\n",
              "      <th>Transfer</th>\n",
              "      <td>0.340204</td>\n",
              "      <td>56.473884</td>\n",
              "      <td>40.604363</td>\n",
              "      <td>2.581549</td>\n",
              "    </tr>\n",
              "  </tbody>\n",
              "</table>\n",
              "</div>"
            ],
            "text/plain": [
              "animal_type          Bird        Cat        Dog      Other\n",
              "outcome_type                                              \n",
              "Adoption         0.434821  38.512734  60.812849   0.239595\n",
              "Died             0.498849  46.738296  49.155794   3.607061\n",
              "Disposal         9.550562   1.123596   1.685393  87.640449\n",
              "Euthanasia       0.780678  24.493779  30.958770  43.766772\n",
              "Missing          0.295983  45.327696  52.896406   1.479915\n",
              "Relocate         0.471294  46.486718  51.328192   1.713796\n",
              "Return to Owner  0.026285  10.789854  88.960442   0.223420\n",
              "Rto-Adopt        0.314748  44.964029  53.327338   1.393885\n",
              "Transfer         0.340204  56.473884  40.604363   2.581549"
            ]
          },
          "metadata": {
            "tags": []
          },
          "execution_count": 27
        }
      ]
    },
    {
      "metadata": {
        "id": "OO2_QHm7Ev7g",
        "colab_type": "code",
        "colab": {
          "base_uri": "https://localhost:8080/",
          "height": 377
        },
        "outputId": "cdcd5a07-84a7-4185-a2b7-de492a3ce655"
      },
      "cell_type": "code",
      "source": [
        "plt.figure(figsize=(7,5))\n",
        "sns.heatmap(data=animal_type_and_outcome,cmap = \"coolwarm\", annot = True)"
      ],
      "execution_count": 28,
      "outputs": [
        {
          "output_type": "execute_result",
          "data": {
            "text/plain": [
              "<matplotlib.axes._subplots.AxesSubplot at 0x7fb1de3bcb70>"
            ]
          },
          "metadata": {
            "tags": []
          },
          "execution_count": 28
        },
        {
          "output_type": "display_data",
          "data": {
            "image/png": "[encoded data removed]",
            "text/plain": [
              "<matplotlib.figure.Figure at 0x7fb1dd1f94a8>"
            ]
          },
          "metadata": {
            "tags": []
          }
        }
      ]
    },
    {
      "metadata": {
        "id": "7QvRSmEnEv7j",
        "colab_type": "code",
        "colab": {
          "base_uri": "https://localhost:8080/",
          "height": 480
        },
        "outputId": "88939455-e7a2-48a6-bffd-0e33a4aee52d"
      },
      "cell_type": "code",
      "source": [
        "a.plot(kind=\"bar\",stacked=True,figsize = (8,6),title = \"Outcome_Type Across Different Types of Animals\",rot=20)\n",
        "plt.xlabel(\"Outcome Type\")"
      ],
      "execution_count": 29,
      "outputs": [
        {
          "output_type": "execute_result",
          "data": {
            "text/plain": [
              "Text(0.5,0,'Outcome Type')"
            ]
          },
          "metadata": {
            "tags": []
          },
          "execution_count": 29
        },
        {
          "output_type": "display_data",
          "data": {
            "image/png": "[encoded data removed]",
            "text/plain": [
              "<matplotlib.figure.Figure at 0x7fb1dc183ef0>"
            ]
          },
          "metadata": {
            "tags": []
          }
        }
      ]
    },
    {
      "metadata": {
        "id": "aU2maJb_Ev7l",
        "colab_type": "text"
      },
      "cell_type": "markdown",
      "source": [
        "From above, we can infer that Adoption, transfer and Returned to Owner have more proportion than other outcome_types. Moreover, we can see that more dogs have been returned to owner than cats. This may be attributed to the intake conditions of the animals. Let's checkout the intake_condition of Animals and whether they're affecting the Outcome_type"
      ]
    },
    {
      "metadata": {
        "id": "3WCZpRCrEv7l",
        "colab_type": "text"
      },
      "cell_type": "markdown",
      "source": [
        "### Relation Between Intake_condition and Outcome_type in Percentage Terms"
      ]
    },
    {
      "metadata": {
        "id": "fttpADn9Ev7m",
        "colab_type": "code",
        "colab": {
          "base_uri": "https://localhost:8080/",
          "height": 359
        },
        "outputId": "fcf37aa1-ffcc-47a3-8c45-1a75f78fad3b"
      },
      "cell_type": "code",
      "source": [
        "\n",
        "a = df_merged.groupby(by=[\"intake_condition\",\"outcome_type\"]).count()[\"count\"].unstack(level=0)\n",
        "b = df_merged.groupby(by=[\"intake_condition\"]).count()[\"animal_type\"]\n",
        "intake_condition_and_outcome =a.div(other = b,level=\"intake_condition\",axis=1)*100\n",
        "intake_condition_and_outcome"
      ],
      "execution_count": 30,
      "outputs": [
        {
          "output_type": "execute_result",
          "data": {
            "text/html": [
              "<div>\n",
              "<style scoped>\n",
              "    .dataframe tbody tr th:only-of-type {\n",
              "        vertical-align: middle;\n",
              "    }\n",
              "\n",
              "    .dataframe tbody tr th {\n",
              "        vertical-align: top;\n",
              "    }\n",
              "\n",
              "    .dataframe thead th {\n",
              "        text-align: right;\n",
              "    }\n",
              "</style>\n",
              "<table border=\"1\" class=\"dataframe\">\n",
              "  <thead>\n",
              "    <tr style=\"text-align: right;\">\n",
              "      <th>intake_condition</th>\n",
              "      <th>Aged</th>\n",
              "      <th>Feral</th>\n",
              "      <th>Injured</th>\n",
              "      <th>Normal</th>\n",
              "      <th>Nursing</th>\n",
              "      <th>Other</th>\n",
              "      <th>Pregnant</th>\n",
              "      <th>Sick</th>\n",
              "    </tr>\n",
              "    <tr>\n",
              "      <th>outcome_type</th>\n",
              "      <th></th>\n",
              "      <th></th>\n",
              "      <th></th>\n",
              "      <th></th>\n",
              "      <th></th>\n",
              "      <th></th>\n",
              "      <th></th>\n",
              "      <th></th>\n",
              "    </tr>\n",
              "  </thead>\n",
              "  <tbody>\n",
              "    <tr>\n",
              "      <th>Adoption</th>\n",
              "      <td>8.026756</td>\n",
              "      <td>10.112360</td>\n",
              "      <td>9.679958</td>\n",
              "      <td>16.684750</td>\n",
              "      <td>10.111762</td>\n",
              "      <td>10.294118</td>\n",
              "      <td>17.073171</td>\n",
              "      <td>6.567657</td>\n",
              "    </tr>\n",
              "    <tr>\n",
              "      <th>Died</th>\n",
              "      <td>3.010033</td>\n",
              "      <td>3.370787</td>\n",
              "      <td>3.384050</td>\n",
              "      <td>3.556499</td>\n",
              "      <td>6.386376</td>\n",
              "      <td>3.676471</td>\n",
              "      <td>7.317073</td>\n",
              "      <td>3.564356</td>\n",
              "    </tr>\n",
              "    <tr>\n",
              "      <th>Disposal</th>\n",
              "      <td>NaN</td>\n",
              "      <td>NaN</td>\n",
              "      <td>0.419727</td>\n",
              "      <td>0.201040</td>\n",
              "      <td>NaN</td>\n",
              "      <td>NaN</td>\n",
              "      <td>NaN</td>\n",
              "      <td>1.188119</td>\n",
              "    </tr>\n",
              "    <tr>\n",
              "      <th>Euthanasia</th>\n",
              "      <td>20.401338</td>\n",
              "      <td>3.370787</td>\n",
              "      <td>24.527807</td>\n",
              "      <td>3.436832</td>\n",
              "      <td>1.809473</td>\n",
              "      <td>11.029412</td>\n",
              "      <td>NaN</td>\n",
              "      <td>29.603960</td>\n",
              "    </tr>\n",
              "    <tr>\n",
              "      <th>Missing</th>\n",
              "      <td>2.006689</td>\n",
              "      <td>5.617978</td>\n",
              "      <td>2.046170</td>\n",
              "      <td>3.417685</td>\n",
              "      <td>4.044705</td>\n",
              "      <td>2.205882</td>\n",
              "      <td>NaN</td>\n",
              "      <td>1.815182</td>\n",
              "    </tr>\n",
              "    <tr>\n",
              "      <th>Relocate</th>\n",
              "      <td>2.675585</td>\n",
              "      <td>4.494382</td>\n",
              "      <td>1.836306</td>\n",
              "      <td>3.352267</td>\n",
              "      <td>3.831825</td>\n",
              "      <td>7.352941</td>\n",
              "      <td>2.439024</td>\n",
              "      <td>2.244224</td>\n",
              "    </tr>\n",
              "    <tr>\n",
              "      <th>Return to Owner</th>\n",
              "      <td>26.421405</td>\n",
              "      <td>4.494382</td>\n",
              "      <td>7.240294</td>\n",
              "      <td>11.389093</td>\n",
              "      <td>0.904737</td>\n",
              "      <td>9.558824</td>\n",
              "      <td>7.317073</td>\n",
              "      <td>2.607261</td>\n",
              "    </tr>\n",
              "    <tr>\n",
              "      <th>Rto-Adopt</th>\n",
              "      <td>1.337793</td>\n",
              "      <td>2.247191</td>\n",
              "      <td>2.046170</td>\n",
              "      <td>3.192711</td>\n",
              "      <td>4.204364</td>\n",
              "      <td>2.205882</td>\n",
              "      <td>2.439024</td>\n",
              "      <td>1.848185</td>\n",
              "    </tr>\n",
              "    <tr>\n",
              "      <th>Transfer</th>\n",
              "      <td>8.695652</td>\n",
              "      <td>31.460674</td>\n",
              "      <td>8.735572</td>\n",
              "      <td>13.798385</td>\n",
              "      <td>28.791911</td>\n",
              "      <td>20.588235</td>\n",
              "      <td>9.756098</td>\n",
              "      <td>12.739274</td>\n",
              "    </tr>\n",
              "  </tbody>\n",
              "</table>\n",
              "</div>"
            ],
            "text/plain": [
              "intake_condition       Aged      Feral    Injured     Normal    Nursing  \\\n",
              "outcome_type                                                              \n",
              "Adoption           8.026756  10.112360   9.679958  16.684750  10.111762   \n",
              "Died               3.010033   3.370787   3.384050   3.556499   6.386376   \n",
              "Disposal                NaN        NaN   0.419727   0.201040        NaN   \n",
              "Euthanasia        20.401338   3.370787  24.527807   3.436832   1.809473   \n",
              "Missing            2.006689   5.617978   2.046170   3.417685   4.044705   \n",
              "Relocate           2.675585   4.494382   1.836306   3.352267   3.831825   \n",
              "Return to Owner   26.421405   4.494382   7.240294  11.389093   0.904737   \n",
              "Rto-Adopt          1.337793   2.247191   2.046170   3.192711   4.204364   \n",
              "Transfer           8.695652  31.460674   8.735572  13.798385  28.791911   \n",
              "\n",
              "intake_condition      Other   Pregnant       Sick  \n",
              "outcome_type                                       \n",
              "Adoption          10.294118  17.073171   6.567657  \n",
              "Died               3.676471   7.317073   3.564356  \n",
              "Disposal                NaN        NaN   1.188119  \n",
              "Euthanasia        11.029412        NaN  29.603960  \n",
              "Missing            2.205882        NaN   1.815182  \n",
              "Relocate           7.352941   2.439024   2.244224  \n",
              "Return to Owner    9.558824   7.317073   2.607261  \n",
              "Rto-Adopt          2.205882   2.439024   1.848185  \n",
              "Transfer          20.588235   9.756098  12.739274  "
            ]
          },
          "metadata": {
            "tags": []
          },
          "execution_count": 30
        }
      ]
    },
    {
      "metadata": {
        "id": "wrp5-ltjEv7o",
        "colab_type": "code",
        "colab": {
          "base_uri": "https://localhost:8080/",
          "height": 480
        },
        "outputId": "15ae88e0-ff3b-448f-dd61-79662b9d825d"
      },
      "cell_type": "code",
      "source": [
        "a.plot(kind=\"bar\",stacked=True,figsize = (8,6),title = \"Outcome_Type As Per Intake Conditions\",rot=20)\n",
        "plt.xlabel(\"Outcome Type\")"
      ],
      "execution_count": 31,
      "outputs": [
        {
          "output_type": "execute_result",
          "data": {
            "text/plain": [
              "Text(0.5,0,'Outcome Type')"
            ]
          },
          "metadata": {
            "tags": []
          },
          "execution_count": 31
        },
        {
          "output_type": "display_data",
          "data": {
            "image/png": "[encoded data removed]",
            "text/plain": [
              "<matplotlib.figure.Figure at 0x7fb1dc8e9470>"
            ]
          },
          "metadata": {
            "tags": []
          }
        }
      ]
    },
    {
      "metadata": {
        "id": "Ac6m17n_Ev7r",
        "colab_type": "text"
      },
      "cell_type": "markdown",
      "source": [
        "Here we cannot see any as such pattern in the outcome_type as per the intake condition. \n",
        "\n",
        "- Major proportion of animals at the time of intake were Normal. The only thing is that the animals which were sick, or injured were subjected to Euthanasia.\n",
        "\n",
        "- Also, 51% of the Feral animals were transferred."
      ]
    },
    {
      "metadata": {
        "id": "VSOa5C-1Ev7r",
        "colab_type": "text"
      },
      "cell_type": "markdown",
      "source": [
        "### Relation Between sex_upon_outcome and Outcome_type in Percentage Terms"
      ]
    },
    {
      "metadata": {
        "id": "GWJNbZi_Ev7r",
        "colab_type": "code",
        "colab": {
          "base_uri": "https://localhost:8080/",
          "height": 333
        },
        "outputId": "01746ebb-ca9f-4b9d-cf4d-58b6c5b05106"
      },
      "cell_type": "code",
      "source": [
        "SexuponOutcome = df_merged['sex_upon_outcome'].value_counts()\n",
        "SexuponOutcome.plot(kind='bar',rot=-30)"
      ],
      "execution_count": 32,
      "outputs": [
        {
          "output_type": "execute_result",
          "data": {
            "text/plain": [
              "<matplotlib.axes._subplots.AxesSubplot at 0x7fb1dc7d0da0>"
            ]
          },
          "metadata": {
            "tags": []
          },
          "execution_count": 32
        },
        {
          "output_type": "display_data",
          "data": {
            "image/png": "[encoded data removed]",
            "text/plain": [
              "<matplotlib.figure.Figure at 0x7fb1dc808da0>"
            ]
          },
          "metadata": {
            "tags": []
          }
        }
      ]
    },
    {
      "metadata": {
        "id": "k7V93jzOEv7u",
        "colab_type": "code",
        "colab": {}
      },
      "cell_type": "code",
      "source": [
        "# We can create a grouping for all Male and Females separately. Also for all Neutered, Spayed and Intact\n",
        "\n",
        "M_F = {'Neutered Male':'Male','Spayed Female':'Female','Intact Male':'Male','Intact Female':'Female','Unknown':'Unknown'}\n",
        "N_T = {'Neutered Male':'Neutered','Spayed Female':'Neutered','Intact Male':'Intact','Intact Female':'Intact','Unknown':'Unknown'}\n",
        "\n",
        "df_merged['Sex'] = df_merged['sex_upon_outcome'].map(M_F)\n",
        "df_merged['Neutered'] = df_merged['sex_upon_outcome'].map(N_T)\n",
        "\n",
        "df_merged['Sex'] = df_merged['Sex'].astype(\"category\")\n",
        "df_merged['Neutered'] = df_merged['Neutered'].astype(\"category\")"
      ],
      "execution_count": 0,
      "outputs": []
    },
    {
      "metadata": {
        "id": "05oDwGjgEv7w",
        "colab_type": "code",
        "colab": {
          "base_uri": "https://localhost:8080/",
          "height": 480
        },
        "outputId": "269b28bd-14ce-4507-d22d-9b4087a3c86e"
      },
      "cell_type": "code",
      "source": [
        "# sex and outcome type\n",
        "\n",
        "a = df_merged.groupby(by=[\"Sex\",\"outcome_type\"]).count()[\"count\"].unstack(level=0)\n",
        "a.plot(kind=\"bar\",stacked=True,figsize = (8,6),title = \"Outcome_Type As Per Sex\",rot=20)\n",
        "plt.xlabel(\"Outcome Type\")"
      ],
      "execution_count": 34,
      "outputs": [
        {
          "output_type": "execute_result",
          "data": {
            "text/plain": [
              "Text(0.5,0,'Outcome Type')"
            ]
          },
          "metadata": {
            "tags": []
          },
          "execution_count": 34
        },
        {
          "output_type": "display_data",
          "data": {
            "image/png": "[encoded data removed]",
            "text/plain": [
              "<matplotlib.figure.Figure at 0x7fb1dc953128>"
            ]
          },
          "metadata": {
            "tags": []
          }
        }
      ]
    },
    {
      "metadata": {
        "id": "O04h04M1Ev71",
        "colab_type": "text"
      },
      "cell_type": "markdown",
      "source": [
        "From above, we can see that there is no as such pattern in Outcomes given the Sex of Animal"
      ]
    },
    {
      "metadata": {
        "id": "UjZMT9E3Ev72",
        "colab_type": "code",
        "colab": {
          "base_uri": "https://localhost:8080/",
          "height": 480
        },
        "outputId": "fabac746-3e0a-464c-e6db-bb5ebbf9b93e"
      },
      "cell_type": "code",
      "source": [
        "# Neutered and outcome type\n",
        "\n",
        "a = df_merged.groupby(by=[\"Neutered\",\"outcome_type\"]).count()[\"count\"].unstack(level=0)\n",
        "a.plot(kind=\"bar\",stacked=True,figsize = (8,6),title = \"Outcome_Type v/s Neutered\",rot=20)\n",
        "plt.xlabel(\"Outcome Type\")"
      ],
      "execution_count": 35,
      "outputs": [
        {
          "output_type": "execute_result",
          "data": {
            "text/plain": [
              "Text(0.5,0,'Outcome Type')"
            ]
          },
          "metadata": {
            "tags": []
          },
          "execution_count": 35
        },
        {
          "output_type": "display_data",
          "data": {
            "image/png": "[encoded data removed]",
            "text/plain": [
              "<matplotlib.figure.Figure at 0x7fb1dc6aaac8>"
            ]
          },
          "metadata": {
            "tags": []
          }
        }
      ]
    },
    {
      "metadata": {
        "id": "omN6bwLuEv76",
        "colab_type": "text"
      },
      "cell_type": "markdown",
      "source": [
        "From above plot, we can infer that most of the Neutered animals were adopted or were Returned to owner"
      ]
    },
    {
      "metadata": {
        "id": "E4VQnviWEv76",
        "colab_type": "text"
      },
      "cell_type": "markdown",
      "source": [
        "### Check Correlation among various Numerical feature columns"
      ]
    },
    {
      "metadata": {
        "id": "jCG4nIoREv76",
        "colab_type": "code",
        "colab": {
          "base_uri": "https://localhost:8080/",
          "height": 35
        },
        "outputId": "724e4003-294c-4f19-e760-8e733ac6c1c6"
      },
      "cell_type": "code",
      "source": [
        "df_merged.shape"
      ],
      "execution_count": 36,
      "outputs": [
        {
          "output_type": "execute_result",
          "data": {
            "text/plain": [
              "(71960, 39)"
            ]
          },
          "metadata": {
            "tags": []
          },
          "execution_count": 36
        }
      ]
    },
    {
      "metadata": {
        "id": "A3h-j-8AEv7_",
        "colab_type": "code",
        "colab": {
          "base_uri": "https://localhost:8080/",
          "height": 472
        },
        "outputId": "a6dc414e-e28b-43ce-b9bb-39657c2358c5"
      },
      "cell_type": "code",
      "source": [
        "plt.figure(figsize=(10,5))\n",
        "sns.heatmap(data=df_merged.drop(labels=[\"count\"],axis=1).corr(),cmap=\"coolwarm\",annot=True,annot_kws={\"size\":8})"
      ],
      "execution_count": 37,
      "outputs": [
        {
          "output_type": "execute_result",
          "data": {
            "text/plain": [
              "<matplotlib.axes._subplots.AxesSubplot at 0x7fb1dc8e9668>"
            ]
          },
          "metadata": {
            "tags": []
          },
          "execution_count": 37
        },
        {
          "output_type": "display_data",
          "data": {
            "image/png": "[encoded data removed]",
            "text/plain": [
              "<matplotlib.figure.Figure at 0x7fb1dc5e0400>"
            ]
          },
          "metadata": {
            "tags": []
          }
        }
      ]
    },
    {
      "metadata": {
        "id": "c54m7Sk8Ev8C",
        "colab_type": "text"
      },
      "cell_type": "markdown",
      "source": [
        "We can see that following columns are highly correlated and need to be dropped\n",
        "\n",
        "- intake number and outcome number  : so we can drop one of these at the time of model creation\n",
        "- intake_year and outcome_year : so we can drop one of these at the time of model creation\n",
        "- age_upon_intake (days),age_upon_intake (years),age_upon_intake : drop two of these at the time of model creation\n",
        "- age_upon_outcome (days) and age_upon_outcome (years),age_upon_outcome : drop two of these at the time of model creation\n",
        "- age_upon_intake ,age_upon_outcome : drop one of these\n",
        "\n",
        "\n",
        "\n",
        "- intake_month and outcome_month : drop one of these\n",
        "- dob_year and age_upon_intake (days) : drop one of these\n",
        "- dob_year and age_upon_intake (years) : drop one of these\n",
        "- dob_year and age_upon_outcome (days) : drop one of these\n",
        "- dob_year and age_upon_outcome (years) : drop one of these\n",
        "\n",
        "Variables to be dropped before model creation : intake no., intake year, age_upon_outcome_(days), age_upon_intake_(days), dob_year, \"age_upon_outcome_(years),age_upon_intake_(years)\n",
        "\n",
        "For categorical Columns \"Drop\" following highly correlated/same features\n",
        " - \"sex_upon_outcome\" and \"sex_upon_intake\" : since we have \"Sex\" and \"Neutered\" as separate columns\n",
        " - \"age_upon_intake_age_group\" : doesnt affect the Outcome_type in anyway\n",
        " - \"outcome_datetime\"\n",
        " - \"intake_weekday\"\n",
        " - outcome_weekday \n",
        " - \"intake_datetime\"\n",
        " - \"age_upon_outcome_age_group\"\n",
        " - date_of_birth\n",
        " - intake_monthyear\n",
        " - outcome_monthyear\n",
        " "
      ]
    },
    {
      "metadata": {
        "id": "_uj6ZNhtEv8C",
        "colab_type": "code",
        "colab": {}
      },
      "cell_type": "code",
      "source": [
        "df_merged = df_merged.drop([\"intake_number\",\"intake_year\",\"age_upon_intake_(days)\",\"age_upon_intake_(years)\",\"age_upon_outcome_(days)\",\n",
        "                          \"age_upon_outcome_(years)\",\"dob_year\",\"count\",\"age_upon_outcome\",\"sex_upon_outcome\",\"sex_upon_intake\",\n",
        "\"age_upon_intake_age_group\",\"outcome_datetime\",\"intake_weekday\",\"outcome_weekday\",\"intake_datetime\",\"intake_month\",\n",
        "                         \"age_upon_outcome_age_group\",\"date_of_birth\",\"intake_monthyear\",\"outcome_monthyear\"],axis=1)"
      ],
      "execution_count": 0,
      "outputs": []
    },
    {
      "metadata": {
        "id": "ydJOx1QUEv8G",
        "colab_type": "code",
        "colab": {
          "base_uri": "https://localhost:8080/",
          "height": 358
        },
        "outputId": "63effead-b893-4542-cb58-70b8b1d47301"
      },
      "cell_type": "code",
      "source": [
        "# Lets cross-check if correlated features are removed or not\n",
        "\n",
        "plt.figure(figsize=(10,5))\n",
        "sns.heatmap(data=df_merged.corr(),cmap=\"coolwarm\",annot=True,annot_kws={\"size\":8})"
      ],
      "execution_count": 39,
      "outputs": [
        {
          "output_type": "execute_result",
          "data": {
            "text/plain": [
              "<matplotlib.axes._subplots.AxesSubplot at 0x7fb1dc3f3198>"
            ]
          },
          "metadata": {
            "tags": []
          },
          "execution_count": 39
        },
        {
          "output_type": "display_data",
          "data": {
            "image/png": "[encoded data removed]",
            "text/plain": [
              "<matplotlib.figure.Figure at 0x7fb1dc3efcc0>"
            ]
          },
          "metadata": {
            "tags": []
          }
        }
      ]
    },
    {
      "metadata": {
        "id": "FqB4U2KEEv8J",
        "colab_type": "text"
      },
      "cell_type": "markdown",
      "source": [
        "So we have got rid off correlated features"
      ]
    },
    {
      "metadata": {
        "id": "dFXTfnelEv8K",
        "colab_type": "code",
        "colab": {
          "base_uri": "https://localhost:8080/",
          "height": 35
        },
        "outputId": "d720a789-ff86-4686-b4cf-0322ead9f9c9"
      },
      "cell_type": "code",
      "source": [
        "print(\"df_merged shape after dropping correlated features : {}\".format(df_merged.shape))"
      ],
      "execution_count": 40,
      "outputs": [
        {
          "output_type": "stream",
          "text": [
            "df_merged shape after dropping correlated features : (71960, 18)\n"
          ],
          "name": "stdout"
        }
      ]
    },
    {
      "metadata": {
        "id": "BSCw3W3OEv8N",
        "colab_type": "text"
      },
      "cell_type": "markdown",
      "source": [
        "### Data Preprocessing : Categorical Columns\n",
        "\n",
        "Here, we will pre-process our data before feeding it to learning algorithm. Firstly, we will transform our categorical variables. This is necessary because most ML algorithms do not accept categorical values, instead they are expected to be converted to numerical. LabelEncoder function from sklearn is used to encode variables"
      ]
    },
    {
      "metadata": {
        "id": "6GpdM4qCEv8O",
        "colab_type": "code",
        "colab": {
          "base_uri": "https://localhost:8080/",
          "height": 35
        },
        "outputId": "06b08189-a34a-443b-ceb2-57367e3bc20b"
      },
      "cell_type": "code",
      "source": [
        "df_merged[\"outcome_year\"].dtype"
      ],
      "execution_count": 41,
      "outputs": [
        {
          "output_type": "execute_result",
          "data": {
            "text/plain": [
              "CategoricalDtype(categories=[2013, 2014, 2015, 2016, 2017, 2018], ordered=False)"
            ]
          },
          "metadata": {
            "tags": []
          },
          "execution_count": 41
        }
      ]
    },
    {
      "metadata": {
        "id": "VeL2d8WBEv8Q",
        "colab_type": "code",
        "colab": {
          "base_uri": "https://localhost:8080/",
          "height": 202
        },
        "outputId": "bd412e1a-931b-4b4a-c338-ac906af53f80"
      },
      "cell_type": "code",
      "source": [
        "df_merged[\"outcome_type\"].value_counts()"
      ],
      "execution_count": 42,
      "outputs": [
        {
          "output_type": "execute_result",
          "data": {
            "text/plain": [
              "Adoption           11269\n",
              "Transfer            9994\n",
              "Return to Owner     7609\n",
              "Euthanasia          4099\n",
              "Died                2606\n",
              "Missing             2365\n",
              "Relocate            2334\n",
              "Rto-Adopt           2224\n",
              "Disposal             178\n",
              "Name: outcome_type, dtype: int64"
            ]
          },
          "metadata": {
            "tags": []
          },
          "execution_count": 42
        }
      ]
    },
    {
      "metadata": {
        "id": "2TttFoL_Ev8S",
        "colab_type": "code",
        "colab": {}
      },
      "cell_type": "code",
      "source": [
        "from sklearn.preprocessing import LabelEncoder\n",
        "\n",
        "#choose catrgorical columns and applying label encoding\n",
        "\n",
        "for i in df_merged[['animal_type', 'breed', 'color', 'intake_condition', 'intake_type',\"outcome_year\",\n",
        "       'outcome_type', 'Sex', 'Neutered']]:\n",
        "    df_merged[i] =  df_merged[i].cat.codes "
      ],
      "execution_count": 0,
      "outputs": []
    },
    {
      "metadata": {
        "id": "fC9X7A5KEv8U",
        "colab_type": "code",
        "colab": {
          "base_uri": "https://localhost:8080/",
          "height": 220
        },
        "outputId": "4b53d835-2da6-4c21-a7f3-286ee8b01aa2"
      },
      "cell_type": "code",
      "source": [
        "df_merged[\"outcome_type\"].value_counts()"
      ],
      "execution_count": 44,
      "outputs": [
        {
          "output_type": "execute_result",
          "data": {
            "text/plain": [
              "-1    29282\n",
              " 0    11269\n",
              " 8     9994\n",
              " 6     7609\n",
              " 3     4099\n",
              " 1     2606\n",
              " 4     2365\n",
              " 5     2334\n",
              " 7     2224\n",
              " 2      178\n",
              "Name: outcome_type, dtype: int64"
            ]
          },
          "metadata": {
            "tags": []
          },
          "execution_count": 44
        }
      ]
    },
    {
      "metadata": {
        "id": "nD5JiFVzEv8Z",
        "colab_type": "code",
        "colab": {}
      },
      "cell_type": "code",
      "source": [
        "y_predictions_decoder = {0:\"Adoption\", 1:\"Transfer\", 2:\"Return to Owner\",3:\"Euthanasia\",4:\"Died\",5:\"Missing\",6:\"Relocate\",\n",
        "                         7:\"Rto-Adopt\",8:\"Disposal\"}"
      ],
      "execution_count": 0,
      "outputs": []
    },
    {
      "metadata": {
        "id": "v47V1HHqEv8a",
        "colab_type": "code",
        "colab": {
          "base_uri": "https://localhost:8080/",
          "height": 442
        },
        "outputId": "14b0398c-6756-41ab-e3e8-d7b5a4adbe18"
      },
      "cell_type": "code",
      "source": [
        "df_merged.info()"
      ],
      "execution_count": 46,
      "outputs": [
        {
          "output_type": "stream",
          "text": [
            "<class 'pandas.core.frame.DataFrame'>\n",
            "Int64Index: 71960 entries, 0 to 31868\n",
            "Data columns (total 18 columns):\n",
            "age_upon_intake         71960 non-null int32\n",
            "animal_id_outcome       71960 non-null object\n",
            "animal_type             71960 non-null int8\n",
            "breed                   71960 non-null int16\n",
            "color                   71960 non-null int16\n",
            "dob_month               71960 non-null int64\n",
            "intake_condition        71960 non-null int8\n",
            "intake_hour             71960 non-null int64\n",
            "intake_type             71960 non-null int8\n",
            "outcome_hour            71960 non-null int64\n",
            "outcome_month           71960 non-null int64\n",
            "outcome_number          71960 non-null float64\n",
            "outcome_type            71960 non-null int8\n",
            "outcome_year            71960 non-null int8\n",
            "time_in_shelter         71960 non-null timedelta64[ns]\n",
            "time_in_shelter_days    71960 non-null float64\n",
            "Sex                     71960 non-null int8\n",
            "Neutered                71960 non-null int8\n",
            "dtypes: float64(2), int16(2), int32(1), int64(4), int8(7), object(1), timedelta64[ns](1)\n",
            "memory usage: 6.0+ MB\n"
          ],
          "name": "stdout"
        }
      ]
    },
    {
      "metadata": {
        "id": "rgpyHdNbEv8c",
        "colab_type": "text"
      },
      "cell_type": "markdown",
      "source": [
        "### Model Creation"
      ]
    },
    {
      "metadata": {
        "id": "VVjbu4SPEv8d",
        "colab_type": "code",
        "colab": {
          "base_uri": "https://localhost:8080/",
          "height": 224
        },
        "outputId": "29ce077b-c750-4d55-f88a-08dba1ba3d90"
      },
      "cell_type": "code",
      "source": [
        "df_merged.head()"
      ],
      "execution_count": 47,
      "outputs": [
        {
          "output_type": "execute_result",
          "data": {
            "text/html": [
              "<div>\n",
              "<style scoped>\n",
              "    .dataframe tbody tr th:only-of-type {\n",
              "        vertical-align: middle;\n",
              "    }\n",
              "\n",
              "    .dataframe tbody tr th {\n",
              "        vertical-align: top;\n",
              "    }\n",
              "\n",
              "    .dataframe thead th {\n",
              "        text-align: right;\n",
              "    }\n",
              "</style>\n",
              "<table border=\"1\" class=\"dataframe\">\n",
              "  <thead>\n",
              "    <tr style=\"text-align: right;\">\n",
              "      <th></th>\n",
              "      <th>age_upon_intake</th>\n",
              "      <th>animal_id_outcome</th>\n",
              "      <th>animal_type</th>\n",
              "      <th>breed</th>\n",
              "      <th>color</th>\n",
              "      <th>dob_month</th>\n",
              "      <th>intake_condition</th>\n",
              "      <th>intake_hour</th>\n",
              "      <th>intake_type</th>\n",
              "      <th>outcome_hour</th>\n",
              "      <th>outcome_month</th>\n",
              "      <th>outcome_number</th>\n",
              "      <th>outcome_type</th>\n",
              "      <th>outcome_year</th>\n",
              "      <th>time_in_shelter</th>\n",
              "      <th>time_in_shelter_days</th>\n",
              "      <th>Sex</th>\n",
              "      <th>Neutered</th>\n",
              "    </tr>\n",
              "  </thead>\n",
              "  <tbody>\n",
              "    <tr>\n",
              "      <th>0</th>\n",
              "      <td>10</td>\n",
              "      <td>A006100</td>\n",
              "      <td>2</td>\n",
              "      <td>1982</td>\n",
              "      <td>527</td>\n",
              "      <td>7</td>\n",
              "      <td>3</td>\n",
              "      <td>14</td>\n",
              "      <td>3</td>\n",
              "      <td>0</td>\n",
              "      <td>12</td>\n",
              "      <td>1.0</td>\n",
              "      <td>6</td>\n",
              "      <td>4</td>\n",
              "      <td>0 days 14:07:00</td>\n",
              "      <td>0.588194</td>\n",
              "      <td>1</td>\n",
              "      <td>1</td>\n",
              "    </tr>\n",
              "    <tr>\n",
              "      <th>3</th>\n",
              "      <td>10</td>\n",
              "      <td>A047759</td>\n",
              "      <td>2</td>\n",
              "      <td>830</td>\n",
              "      <td>449</td>\n",
              "      <td>4</td>\n",
              "      <td>3</td>\n",
              "      <td>15</td>\n",
              "      <td>1</td>\n",
              "      <td>15</td>\n",
              "      <td>4</td>\n",
              "      <td>1.0</td>\n",
              "      <td>4</td>\n",
              "      <td>1</td>\n",
              "      <td>4 days 23:17:00</td>\n",
              "      <td>4.970139</td>\n",
              "      <td>1</td>\n",
              "      <td>1</td>\n",
              "    </tr>\n",
              "    <tr>\n",
              "      <th>4</th>\n",
              "      <td>16</td>\n",
              "      <td>A134067</td>\n",
              "      <td>2</td>\n",
              "      <td>1880</td>\n",
              "      <td>183</td>\n",
              "      <td>10</td>\n",
              "      <td>2</td>\n",
              "      <td>9</td>\n",
              "      <td>2</td>\n",
              "      <td>11</td>\n",
              "      <td>11</td>\n",
              "      <td>1.0</td>\n",
              "      <td>6</td>\n",
              "      <td>0</td>\n",
              "      <td>0 days 02:52:00</td>\n",
              "      <td>0.119444</td>\n",
              "      <td>1</td>\n",
              "      <td>1</td>\n",
              "    </tr>\n",
              "    <tr>\n",
              "      <th>5</th>\n",
              "      <td>15</td>\n",
              "      <td>A141142</td>\n",
              "      <td>2</td>\n",
              "      <td>1337</td>\n",
              "      <td>59</td>\n",
              "      <td>6</td>\n",
              "      <td>0</td>\n",
              "      <td>14</td>\n",
              "      <td>3</td>\n",
              "      <td>11</td>\n",
              "      <td>11</td>\n",
              "      <td>1.0</td>\n",
              "      <td>6</td>\n",
              "      <td>0</td>\n",
              "      <td>0 days 20:54:00</td>\n",
              "      <td>0.870833</td>\n",
              "      <td>0</td>\n",
              "      <td>1</td>\n",
              "    </tr>\n",
              "    <tr>\n",
              "      <th>6</th>\n",
              "      <td>15</td>\n",
              "      <td>A163459</td>\n",
              "      <td>2</td>\n",
              "      <td>1488</td>\n",
              "      <td>47</td>\n",
              "      <td>10</td>\n",
              "      <td>3</td>\n",
              "      <td>15</td>\n",
              "      <td>3</td>\n",
              "      <td>19</td>\n",
              "      <td>11</td>\n",
              "      <td>1.0</td>\n",
              "      <td>6</td>\n",
              "      <td>1</td>\n",
              "      <td>0 days 04:17:00</td>\n",
              "      <td>0.178472</td>\n",
              "      <td>0</td>\n",
              "      <td>0</td>\n",
              "    </tr>\n",
              "  </tbody>\n",
              "</table>\n",
              "</div>"
            ],
            "text/plain": [
              "   age_upon_intake animal_id_outcome  animal_type  breed  color  dob_month  \\\n",
              "0               10           A006100            2   1982    527          7   \n",
              "3               10           A047759            2    830    449          4   \n",
              "4               16           A134067            2   1880    183         10   \n",
              "5               15           A141142            2   1337     59          6   \n",
              "6               15           A163459            2   1488     47         10   \n",
              "\n",
              "   intake_condition  intake_hour  intake_type  outcome_hour  outcome_month  \\\n",
              "0                 3           14            3             0             12   \n",
              "3                 3           15            1            15              4   \n",
              "4                 2            9            2            11             11   \n",
              "5                 0           14            3            11             11   \n",
              "6                 3           15            3            19             11   \n",
              "\n",
              "   outcome_number  outcome_type  outcome_year time_in_shelter  \\\n",
              "0             1.0             6             4 0 days 14:07:00   \n",
              "3             1.0             4             1 4 days 23:17:00   \n",
              "4             1.0             6             0 0 days 02:52:00   \n",
              "5             1.0             6             0 0 days 20:54:00   \n",
              "6             1.0             6             1 0 days 04:17:00   \n",
              "\n",
              "   time_in_shelter_days  Sex  Neutered  \n",
              "0              0.588194    1         1  \n",
              "3              4.970139    1         1  \n",
              "4              0.119444    1         1  \n",
              "5              0.870833    0         1  \n",
              "6              0.178472    0         0  "
            ]
          },
          "metadata": {
            "tags": []
          },
          "execution_count": 47
        }
      ]
    },
    {
      "metadata": {
        "id": "LpOwBuulEv8m",
        "colab_type": "code",
        "colab": {
          "base_uri": "https://localhost:8080/",
          "height": 35
        },
        "outputId": "d443b0f4-e705-434d-8784-50d7d33ed517"
      },
      "cell_type": "code",
      "source": [
        "df_merged.shape"
      ],
      "execution_count": 48,
      "outputs": [
        {
          "output_type": "execute_result",
          "data": {
            "text/plain": [
              "(71960, 18)"
            ]
          },
          "metadata": {
            "tags": []
          },
          "execution_count": 48
        }
      ]
    },
    {
      "metadata": {
        "id": "WZcA6Zm-Ev8o",
        "colab_type": "code",
        "colab": {}
      },
      "cell_type": "code",
      "source": [
        "# splitiing the cleaned df_merged data into testing and training data from order of \"animal_id_outcome\" i.e. all \n",
        "# animal_id_outcome after A723133 are into tesing dataset while the ones before that are into training dataset.\n",
        "\n",
        "df_train = df_merged[df_merged[\"animal_id_outcome\"] < \"A723133\" ]\n",
        "df_test = df_merged[df_merged[\"animal_id_outcome\"] >= \"A723133\" ].drop(labels=[\"outcome_type\"],axis=1)\n"
      ],
      "execution_count": 0,
      "outputs": []
    },
    {
      "metadata": {
        "id": "Rrm0Xpt5Ev8q",
        "colab_type": "code",
        "colab": {
          "base_uri": "https://localhost:8080/",
          "height": 424
        },
        "outputId": "2b5a21ae-64cc-4ae8-87d9-1e642cd505eb"
      },
      "cell_type": "code",
      "source": [
        "df_test.info()"
      ],
      "execution_count": 50,
      "outputs": [
        {
          "output_type": "stream",
          "text": [
            "<class 'pandas.core.frame.DataFrame'>\n",
            "Int64Index: 29282 entries, 0 to 31868\n",
            "Data columns (total 17 columns):\n",
            "age_upon_intake         29282 non-null int32\n",
            "animal_id_outcome       29282 non-null object\n",
            "animal_type             29282 non-null int8\n",
            "breed                   29282 non-null int16\n",
            "color                   29282 non-null int16\n",
            "dob_month               29282 non-null int64\n",
            "intake_condition        29282 non-null int8\n",
            "intake_hour             29282 non-null int64\n",
            "intake_type             29282 non-null int8\n",
            "outcome_hour            29282 non-null int64\n",
            "outcome_month           29282 non-null int64\n",
            "outcome_number          29282 non-null float64\n",
            "outcome_year            29282 non-null int8\n",
            "time_in_shelter         29282 non-null timedelta64[ns]\n",
            "time_in_shelter_days    29282 non-null float64\n",
            "Sex                     29282 non-null int8\n",
            "Neutered                29282 non-null int8\n",
            "dtypes: float64(2), int16(2), int32(1), int64(4), int8(6), object(1), timedelta64[ns](1)\n",
            "memory usage: 2.4+ MB\n"
          ],
          "name": "stdout"
        }
      ]
    },
    {
      "metadata": {
        "id": "sPuSwmhJEv8s",
        "colab_type": "code",
        "colab": {
          "base_uri": "https://localhost:8080/",
          "height": 54
        },
        "outputId": "4462a5aa-6c54-484d-8188-633463e716a0"
      },
      "cell_type": "code",
      "source": [
        "print(df_train.shape)\n",
        "print(df_test.shape)"
      ],
      "execution_count": 51,
      "outputs": [
        {
          "output_type": "stream",
          "text": [
            "(42678, 18)\n",
            "(29282, 17)\n"
          ],
          "name": "stdout"
        }
      ]
    },
    {
      "metadata": {
        "id": "muRuPqT2Ev8v",
        "colab_type": "code",
        "colab": {}
      },
      "cell_type": "code",
      "source": [
        "X_train = df_train.drop([\"outcome_type\",\"time_in_shelter\",\"animal_id_outcome\",\"dob_month\",\"intake_hour\",\"outcome_hour\",\n",
        "                        \"outcome_month\",\"outcome_year\"],axis=1)\n",
        "y_train = df_train[\"outcome_type\"]\n",
        "\n",
        "X_test = df_test.drop([\"time_in_shelter\",\"animal_id_outcome\",\"dob_month\",\"intake_hour\",\"outcome_hour\",\n",
        "                        \"outcome_month\",\"outcome_year\"],axis=1)\n"
      ],
      "execution_count": 0,
      "outputs": []
    },
    {
      "metadata": {
        "id": "w1A-GNCAEv8w",
        "colab_type": "code",
        "colab": {
          "base_uri": "https://localhost:8080/",
          "height": 72
        },
        "outputId": "93ede955-b6d7-4fb9-f6dc-107e825e21ab"
      },
      "cell_type": "code",
      "source": [
        "print(\"Shape of X_train : {}\".format(X_train.shape))\n",
        "print(\"Shape of y_train : {}\".format(y_train.shape))\n",
        "print(\"Shape of X_test : {}\".format(X_test.shape))"
      ],
      "execution_count": 53,
      "outputs": [
        {
          "output_type": "stream",
          "text": [
            "Shape of X_train : (42678, 10)\n",
            "Shape of y_train : (42678,)\n",
            "Shape of X_test : (29282, 10)\n"
          ],
          "name": "stdout"
        }
      ]
    },
    {
      "metadata": {
        "id": "xHAEtuUREv81",
        "colab_type": "text"
      },
      "cell_type": "markdown",
      "source": [
        "### Using Xgboost"
      ]
    },
    {
      "metadata": {
        "id": "_aJzlaZXEv83",
        "colab_type": "code",
        "colab": {},
        "outputId": "60cd593c-65a8-4131-d0b3-1d2f606e4ca6"
      },
      "cell_type": "code",
      "source": [
        "import xgboost as xgb\n",
        "from sklearn.grid_search import RandomizedSearchCV\n",
        "from sklearn.cross_validation import StratifiedKFold\n",
        "from scipy.stats import randint as sp_randint\n",
        "from scipy.stats import uniform as sp_uniform\n",
        "  \n",
        "n_iter = 10\n",
        "k_fold = 5\n",
        "  \n",
        "cv = StratifiedKFold(y_train,n_folds=k_fold,shuffle=True)\n",
        "  \n",
        "# initialize the classifier\n",
        "GB = xgb.XGBClassifier()\n",
        "  \n",
        "param_grid = {'max_depth': sp_randint(1, 90),\n",
        "              'learning_rate': sp_uniform(loc=0e0,scale=1e0),\n",
        "              'objective':['multi:softprob'],\n",
        "              'nthread': [8],\n",
        "              'missing': [np.nan],\n",
        "              'reg_alpha': [0.01,0.017782794,0.031622777,0.056234133,\\\n",
        "                            0.1,0.17782794,0.31622777,0.56234133,1.,1.77827941,\\\n",
        "                            3.16227766,5.62341325,10.,\\\n",
        "                            17.7827941,31.6227766,56.2341325,100.],\n",
        "              'colsample_bytree': sp_uniform(loc=0.2e0,scale=0.8e0),\n",
        "              'subsample': sp_uniform(loc=0.2e0,scale=0.8e0),\n",
        "              'n_estimators': sp_randint(50, 200)}\n",
        "  \n",
        "search_GB = RandomizedSearchCV(GB,param_grid,scoring='neg_log_loss',n_iter=n_iter,cv=cv,verbose=True).fit(X_train,y_train)\n",
        "print(search_GB.best_score_)\n",
        "print(search_GB.best_params_)"
      ],
      "execution_count": 0,
      "outputs": [
        {
          "output_type": "stream",
          "text": [
            "C:\\Users\\Urvashi\\Anaconda3\\lib\\site-packages\\sklearn\\cross_validation.py:41: DeprecationWarning: This module was deprecated in version 0.18 in favor of the model_selection module into which all the refactored classes and functions are moved. Also note that the interface of the new CV iterators are different from that of this module. This module will be removed in 0.20.\n",
            "  \"This module will be removed in 0.20.\", DeprecationWarning)\n",
            "C:\\Users\\Urvashi\\Anaconda3\\lib\\site-packages\\sklearn\\grid_search.py:42: DeprecationWarning: This module was deprecated in version 0.18 in favor of the model_selection module into which all the refactored classes and functions are moved. This module will be removed in 0.20.\n",
            "  DeprecationWarning)\n"
          ],
          "name": "stderr"
        },
        {
          "output_type": "stream",
          "text": [
            "Fitting 5 folds for each of 10 candidates, totalling 50 fits\n"
          ],
          "name": "stdout"
        }
      ]
    },
    {
      "metadata": {
        "id": "qbebqoRLEv84",
        "colab_type": "code",
        "colab": {},
        "outputId": "50d18197-9835-4f95-cf05-85338ebdd9ab"
      },
      "cell_type": "code",
      "source": [
        "# generating predictions for training dataset\n",
        "\n",
        "predictions = search_GB.predict(X_train)          # since we need to check model performance on training data\n",
        "\n",
        "from sklearn.metrics import f1_score\n",
        "f1_score(y_train,predictions,average=\"micro\")"
      ],
      "execution_count": 0,
      "outputs": [
        {
          "output_type": "execute_result",
          "data": {
            "text/plain": [
              "0.58543043254135618"
            ]
          },
          "metadata": {
            "tags": []
          },
          "execution_count": 347
        }
      ]
    },
    {
      "metadata": {
        "id": "dNpquPB6Ev87",
        "colab_type": "text"
      },
      "cell_type": "markdown",
      "source": [
        "### Using SVM"
      ]
    },
    {
      "metadata": {
        "id": "zYuqeB91Ev87",
        "colab_type": "code",
        "colab": {},
        "outputId": "0a376e86-e17c-4f93-c48d-940fa3db1f1e"
      },
      "cell_type": "code",
      "source": [
        "from sklearn.svm import SVC\n",
        "from sklearn.cross_validation import StratifiedKFold\n",
        "from sklearn.grid_search import RandomizedSearchCV\n",
        "\n",
        "\n",
        "\n",
        "Cs = [0.001, 0.01, 0.1, 1, 10]\n",
        "gammas = [0.001, 0.01, 0.1, 1]\n",
        "\n",
        "kernels = ['poly', 'rbf']\n",
        "\n",
        "n_iter = 10\n",
        "k_fold = 5\n",
        "  \n",
        "cv = StratifiedKFold(y_train,n_folds=k_fold,shuffle=True)\n",
        "\n",
        "param_grid = {\"kernel\" : kernels, \n",
        "              \"C\" : Cs, \"gamma\" : gammas, \"probability\": [True]}\n",
        "\n",
        "svm = SVC()\n",
        "\n",
        "svm_classifier = RandomizedSearchCV(svm,param_distributions=param_grid,n_iter=n_iter,scoring='log_loss',\n",
        "                                    verbose=True,cv=cv).fit(X_train,y_train)\n",
        "print(svm_classifier.best_score_)\n",
        "print(svm_classifier.best_params_)"
      ],
      "execution_count": 0,
      "outputs": [
        {
          "output_type": "stream",
          "text": [
            "C:\\Users\\Urvashi\\Anaconda3\\lib\\site-packages\\sklearn\\cross_validation.py:41: DeprecationWarning: This module was deprecated in version 0.18 in favor of the model_selection module into which all the refactored classes and functions are moved. Also note that the interface of the new CV iterators are different from that of this module. This module will be removed in 0.20.\n",
            "  \"This module will be removed in 0.20.\", DeprecationWarning)\n",
            "C:\\Users\\Urvashi\\Anaconda3\\lib\\site-packages\\sklearn\\grid_search.py:42: DeprecationWarning: This module was deprecated in version 0.18 in favor of the model_selection module into which all the refactored classes and functions are moved. This module will be removed in 0.20.\n",
            "  DeprecationWarning)\n"
          ],
          "name": "stderr"
        },
        {
          "output_type": "stream",
          "text": [
            "Fitting 5 folds for each of 10 candidates, totalling 50 fits\n"
          ],
          "name": "stdout"
        }
      ]
    },
    {
      "metadata": {
        "id": "X2rDhP-zEv88",
        "colab_type": "code",
        "colab": {},
        "outputId": "6a2d946f-c2d1-49be-a27a-216fde27ff0c"
      },
      "cell_type": "code",
      "source": [
        "# generating predictions for training dataset\n",
        "\n",
        "predictions = svm_classifier.predict(X_train)          # since we need to check model performance on training data\n",
        "\n",
        "from sklearn.metrics import f1_score\n",
        "f1_score(y_train,predictions,average=\"micro\")"
      ],
      "execution_count": 0,
      "outputs": [
        {
          "output_type": "execute_result",
          "data": {
            "text/plain": [
              "0.43122920474249021"
            ]
          },
          "metadata": {
            "tags": []
          },
          "execution_count": 52
        }
      ]
    },
    {
      "metadata": {
        "id": "1PIoZi59cXro",
        "colab_type": "text"
      },
      "cell_type": "markdown",
      "source": [
        "**From above, we can see that with same no. of iterations (here=10), xgboost is giving better accuracy i.e. 58.5% against svm i.e. 43%. So letś try training Xgboost more (for more iterations).**"
      ]
    },
    {
      "metadata": {
        "id": "4bCrYhiIEv9B",
        "colab_type": "code",
        "colab": {
          "base_uri": "https://localhost:8080/",
          "height": 185
        },
        "outputId": "8623ce0f-dd03-45a2-f8c4-a4c05b2c53b6"
      },
      "cell_type": "code",
      "source": [
        "import xgboost as xgb\n",
        "from sklearn.grid_search import RandomizedSearchCV\n",
        "from sklearn.cross_validation import StratifiedKFold\n",
        "from scipy.stats import randint as sp_randint\n",
        "from scipy.stats import uniform as sp_uniform\n",
        "  \n",
        "n_iter = 30\n",
        "k_fold = 5\n",
        "  \n",
        "cv = StratifiedKFold(y_train,n_folds=k_fold,shuffle=True)\n",
        "  \n",
        "# initialize the classifier\n",
        "GB = xgb.XGBClassifier()\n",
        "  \n",
        "param_grid = {'max_depth': sp_randint(1, 90),\n",
        "              'learning_rate': sp_uniform(loc=0e0,scale=1e0),\n",
        "              'objective':['multi:softprob'],\n",
        "              'nthread': [8],\n",
        "              'missing': [np.nan],\n",
        "              'reg_alpha': [0.01,0.017782794,0.031622777,0.056234133,\\\n",
        "                            0.1,0.17782794,0.31622777,0.56234133,1.,1.77827941,\\\n",
        "                            3.16227766,5.62341325,10.,\\\n",
        "                            17.7827941,31.6227766,56.2341325,100.],\n",
        "              'colsample_bytree': sp_uniform(loc=0.2e0,scale=0.8e0),\n",
        "              'subsample': sp_uniform(loc=0.2e0,scale=0.8e0),\n",
        "              'n_estimators': sp_randint(50, 200)}\n",
        "  \n",
        "search_GB = RandomizedSearchCV(GB,param_grid,scoring='neg_log_loss',n_iter=n_iter,cv=cv,verbose=True).fit(X_train,y_train)\n",
        "print(search_GB.best_score_)\n",
        "print(search_GB.best_params_)"
      ],
      "execution_count": 54,
      "outputs": [
        {
          "output_type": "stream",
          "text": [
            "/usr/local/lib/python3.6/dist-packages/sklearn/cross_validation.py:41: DeprecationWarning: This module was deprecated in version 0.18 in favor of the model_selection module into which all the refactored classes and functions are moved. Also note that the interface of the new CV iterators are different from that of this module. This module will be removed in 0.20.\n",
            "  \"This module will be removed in 0.20.\", DeprecationWarning)\n",
            "/usr/local/lib/python3.6/dist-packages/sklearn/grid_search.py:42: DeprecationWarning: This module was deprecated in version 0.18 in favor of the model_selection module into which all the refactored classes and functions are moved. This module will be removed in 0.20.\n",
            "  DeprecationWarning)\n"
          ],
          "name": "stderr"
        },
        {
          "output_type": "stream",
          "text": [
            "Fitting 5 folds for each of 30 candidates, totalling 150 fits\n"
          ],
          "name": "stdout"
        },
        {
          "output_type": "stream",
          "text": [
            "[Parallel(n_jobs=1)]: Done 150 out of 150 | elapsed: 83.8min finished\n"
          ],
          "name": "stderr"
        },
        {
          "output_type": "stream",
          "text": [
            "-1.2786534520191062\n",
            "{'colsample_bytree': 0.32888570606814405, 'learning_rate': 0.6643284971029751, 'max_depth': 11, 'missing': nan, 'n_estimators': 119, 'nthread': 8, 'objective': 'multi:softprob', 'reg_alpha': 10.0, 'subsample': 0.935962955491475}\n"
          ],
          "name": "stdout"
        }
      ]
    },
    {
      "metadata": {
        "id": "4Um2LInYEv9C",
        "colab_type": "code",
        "colab": {
          "base_uri": "https://localhost:8080/",
          "height": 92
        },
        "outputId": "823432fb-baf4-4a5e-c5e6-29693a31f3bc"
      },
      "cell_type": "code",
      "source": [
        "# generating predictions for training dataset\n",
        "\n",
        "predictions = search_GB.predict(X_train)          # check model performance on training data\n",
        "\n",
        "from sklearn.metrics import f1_score\n",
        "f1_score(y_train,predictions,average=\"micro\")"
      ],
      "execution_count": 55,
      "outputs": [
        {
          "output_type": "stream",
          "text": [
            "/usr/local/lib/python3.6/dist-packages/sklearn/preprocessing/label.py:151: DeprecationWarning: The truth value of an empty array is ambiguous. Returning False, but in future this will result in an error. Use `array.size > 0` to check that an array is not empty.\n",
            "  if diff:\n"
          ],
          "name": "stderr"
        },
        {
          "output_type": "execute_result",
          "data": {
            "text/plain": [
              "0.6219363606542012"
            ]
          },
          "metadata": {
            "tags": []
          },
          "execution_count": 55
        }
      ]
    },
    {
      "metadata": {
        "id": "1xscZDVHdFnr",
        "colab_type": "text"
      },
      "cell_type": "markdown",
      "source": [
        "**Note : Due to computational/time constraint, I wasnt able to train Xgboost for longer and trained it only for 50 iterations. With more iterations, it can give better performance. Hence, I am taking these results only for creating predictions.**"
      ]
    },
    {
      "metadata": {
        "id": "u_CDRXIDEv9O",
        "colab_type": "code",
        "colab": {},
        "outputId": "ee742929-fc24-4645-fc90-f16e35273d7d"
      },
      "cell_type": "code",
      "source": [
        "X_test.shape"
      ],
      "execution_count": 0,
      "outputs": [
        {
          "output_type": "execute_result",
          "data": {
            "text/plain": [
              "(29282, 15)"
            ]
          },
          "metadata": {
            "tags": []
          },
          "execution_count": 423
        }
      ]
    },
    {
      "metadata": {
        "id": "q3_5SqE7Ev9R",
        "colab_type": "code",
        "colab": {
          "base_uri": "https://localhost:8080/",
          "height": 92
        },
        "outputId": "c0bb7504-61e3-47a0-a535-58b7a9a2a35d"
      },
      "cell_type": "code",
      "source": [
        "y_pred = search_GB.predict(X_test)\n",
        "y_pred.shape"
      ],
      "execution_count": 56,
      "outputs": [
        {
          "output_type": "stream",
          "text": [
            "/usr/local/lib/python3.6/dist-packages/sklearn/preprocessing/label.py:151: DeprecationWarning: The truth value of an empty array is ambiguous. Returning False, but in future this will result in an error. Use `array.size > 0` to check that an array is not empty.\n",
            "  if diff:\n"
          ],
          "name": "stderr"
        },
        {
          "output_type": "execute_result",
          "data": {
            "text/plain": [
              "(29282,)"
            ]
          },
          "metadata": {
            "tags": []
          },
          "execution_count": 56
        }
      ]
    },
    {
      "metadata": {
        "id": "9P3q3TYAEv9T",
        "colab_type": "code",
        "colab": {
          "base_uri": "https://localhost:8080/",
          "height": 35
        },
        "outputId": "80a85778-fd0b-4b0c-fee9-7b18561b0230"
      },
      "cell_type": "code",
      "source": [
        "y_predictions = pd.Series(y_pred).map(y_predictions_decoder)\n",
        "y_predictions.shape"
      ],
      "execution_count": 57,
      "outputs": [
        {
          "output_type": "execute_result",
          "data": {
            "text/plain": [
              "(29282,)"
            ]
          },
          "metadata": {
            "tags": []
          },
          "execution_count": 57
        }
      ]
    },
    {
      "metadata": {
        "id": "AQUpUmGrEv9T",
        "colab_type": "code",
        "colab": {}
      },
      "cell_type": "code",
      "source": [
        "df_test[\"outcome_type\"] = y_predictions"
      ],
      "execution_count": 0,
      "outputs": []
    },
    {
      "metadata": {
        "id": "PY1--8tQEv9V",
        "colab_type": "code",
        "colab": {
          "base_uri": "https://localhost:8080/",
          "height": 35
        },
        "outputId": "13717ef8-aca4-4e49-dfe2-875a326ec0be"
      },
      "cell_type": "code",
      "source": [
        "df_test.shape"
      ],
      "execution_count": 59,
      "outputs": [
        {
          "output_type": "execute_result",
          "data": {
            "text/plain": [
              "(29282, 18)"
            ]
          },
          "metadata": {
            "tags": []
          },
          "execution_count": 59
        }
      ]
    },
    {
      "metadata": {
        "id": "zl6WpKVCEv9W",
        "colab_type": "code",
        "colab": {}
      },
      "cell_type": "code",
      "source": [
        "submission = df_test.loc[:,[\"animal_id_outcome\",\"outcome_type\"]]"
      ],
      "execution_count": 0,
      "outputs": []
    },
    {
      "metadata": {
        "id": "-DkK12b0Ev9Y",
        "colab_type": "code",
        "colab": {
          "base_uri": "https://localhost:8080/",
          "height": 204
        },
        "outputId": "280a22dd-e59e-4edd-e993-61338bd65290"
      },
      "cell_type": "code",
      "source": [
        "submission.head()"
      ],
      "execution_count": 61,
      "outputs": [
        {
          "output_type": "execute_result",
          "data": {
            "text/html": [
              "<div>\n",
              "<style scoped>\n",
              "    .dataframe tbody tr th:only-of-type {\n",
              "        vertical-align: middle;\n",
              "    }\n",
              "\n",
              "    .dataframe tbody tr th {\n",
              "        vertical-align: top;\n",
              "    }\n",
              "\n",
              "    .dataframe thead th {\n",
              "        text-align: right;\n",
              "    }\n",
              "</style>\n",
              "<table border=\"1\" class=\"dataframe\">\n",
              "  <thead>\n",
              "    <tr style=\"text-align: right;\">\n",
              "      <th></th>\n",
              "      <th>animal_id_outcome</th>\n",
              "      <th>outcome_type</th>\n",
              "    </tr>\n",
              "  </thead>\n",
              "  <tbody>\n",
              "    <tr>\n",
              "      <th>0</th>\n",
              "      <td>A723133</td>\n",
              "      <td>Adoption</td>\n",
              "    </tr>\n",
              "    <tr>\n",
              "      <th>1</th>\n",
              "      <td>A723134</td>\n",
              "      <td>Adoption</td>\n",
              "    </tr>\n",
              "    <tr>\n",
              "      <th>2</th>\n",
              "      <td>A723135</td>\n",
              "      <td>Adoption</td>\n",
              "    </tr>\n",
              "    <tr>\n",
              "      <th>3</th>\n",
              "      <td>A723136</td>\n",
              "      <td>Disposal</td>\n",
              "    </tr>\n",
              "    <tr>\n",
              "      <th>4</th>\n",
              "      <td>A723137</td>\n",
              "      <td>Disposal</td>\n",
              "    </tr>\n",
              "  </tbody>\n",
              "</table>\n",
              "</div>"
            ],
            "text/plain": [
              "  animal_id_outcome outcome_type\n",
              "0           A723133     Adoption\n",
              "1           A723134     Adoption\n",
              "2           A723135     Adoption\n",
              "3           A723136     Disposal\n",
              "4           A723137     Disposal"
            ]
          },
          "metadata": {
            "tags": []
          },
          "execution_count": 61
        }
      ]
    },
    {
      "metadata": {
        "id": "4naiPB_FEv9a",
        "colab_type": "code",
        "colab": {},
        "outputId": "3f2b93c3-9311-487d-e8d8-9d2e63439193"
      },
      "cell_type": "code",
      "source": [
        "submission.shape"
      ],
      "execution_count": 0,
      "outputs": [
        {
          "output_type": "execute_result",
          "data": {
            "text/plain": [
              "(29282, 2)"
            ]
          },
          "metadata": {
            "tags": []
          },
          "execution_count": 435
        }
      ]
    },
    {
      "metadata": {
        "id": "QWjZwedsEv9d",
        "colab_type": "code",
        "colab": {}
      },
      "cell_type": "code",
      "source": [
        "submission.to_csv(\"submission_file.csv\")"
      ],
      "execution_count": 0,
      "outputs": []
    },
    {
      "metadata": {
        "id": "Zuut_KZcEv9i",
        "colab_type": "code",
        "colab": {}
      },
      "cell_type": "code",
      "source": [
        ""
      ],
      "execution_count": 0,
      "outputs": []
    },
    {
      "metadata": {
        "id": "yLHYROhJEv9k",
        "colab_type": "code",
        "colab": {}
      },
      "cell_type": "code",
      "source": [
        ""
      ],
      "execution_count": 0,
      "outputs": []
    }
  ]
}